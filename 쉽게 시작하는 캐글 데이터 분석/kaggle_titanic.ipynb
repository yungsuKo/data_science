{
 "cells": [
  {
   "cell_type": "markdown",
   "metadata": {
    "papermill": {
     "duration": 0.130377,
     "end_time": "2020-10-20T11:56:06.074027",
     "exception": false,
     "start_time": "2020-10-20T11:56:05.943650",
     "status": "completed"
    },
    "tags": []
   },
   "source": [
    "## 1. Data Import"
   ]
  },
  {
   "cell_type": "markdown",
   "metadata": {
    "papermill": {
     "duration": 0.127111,
     "end_time": "2020-10-20T11:56:06.330064",
     "exception": false,
     "start_time": "2020-10-20T11:56:06.202953",
     "status": "completed"
    },
    "tags": []
   },
   "source": [
    "### 데이터 불러오기"
   ]
  },
  {
   "cell_type": "code",
   "execution_count": 1,
   "metadata": {},
   "outputs": [],
   "source": [
    "import numpy as np\n",
    "import pandas as pd"
   ]
  },
  {
   "cell_type": "code",
   "execution_count": 2,
   "metadata": {},
   "outputs": [],
   "source": [
    "import warnings\n",
    "warnings.filterwarnings(\"ignore\")"
   ]
  },
  {
   "cell_type": "code",
   "execution_count": 7,
   "metadata": {
    "_cell_guid": "b1076dfc-b9ad-4769-8c92-a6c4dae69d19",
    "_uuid": "8f2839f25d086af736a60e9eeb907d3b93b6e0e5",
    "execution": {
     "iopub.execute_input": "2020-10-20T11:56:06.852863Z",
     "iopub.status.busy": "2020-10-20T11:56:06.852085Z",
     "iopub.status.idle": "2020-10-20T11:56:06.857294Z",
     "shell.execute_reply": "2020-10-20T11:56:06.856621Z"
    },
    "papermill": {
     "duration": 0.138369,
     "end_time": "2020-10-20T11:56:06.857435",
     "exception": false,
     "start_time": "2020-10-20T11:56:06.719066",
     "status": "completed"
    },
    "tags": []
   },
   "outputs": [],
   "source": [
    "train_df = pd.read_csv(\"./data_set/train.csv\")\n",
    "test_df = pd.read_csv(\"./data_set/test.csv\")\n",
    "submission = pd.read_csv(\"./data_set/gender_submission.csv\")"
   ]
  },
  {
   "cell_type": "code",
   "execution_count": 8,
   "metadata": {
    "execution": {
     "iopub.execute_input": "2020-10-20T11:56:07.431401Z",
     "iopub.status.busy": "2020-10-20T11:56:07.430292Z",
     "iopub.status.idle": "2020-10-20T11:56:07.445528Z",
     "shell.execute_reply": "2020-10-20T11:56:07.446074Z"
    },
    "papermill": {
     "duration": 0.170442,
     "end_time": "2020-10-20T11:56:07.446244",
     "exception": false,
     "start_time": "2020-10-20T11:56:07.275802",
     "status": "completed"
    },
    "tags": []
   },
   "outputs": [
    {
     "data": {
      "text/html": [
       "<div>\n",
       "<style scoped>\n",
       "    .dataframe tbody tr th:only-of-type {\n",
       "        vertical-align: middle;\n",
       "    }\n",
       "\n",
       "    .dataframe tbody tr th {\n",
       "        vertical-align: top;\n",
       "    }\n",
       "\n",
       "    .dataframe thead th {\n",
       "        text-align: right;\n",
       "    }\n",
       "</style>\n",
       "<table border=\"1\" class=\"dataframe\">\n",
       "  <thead>\n",
       "    <tr style=\"text-align: right;\">\n",
       "      <th></th>\n",
       "      <th>PassengerId</th>\n",
       "      <th>Survived</th>\n",
       "      <th>Pclass</th>\n",
       "      <th>Name</th>\n",
       "      <th>Sex</th>\n",
       "      <th>Age</th>\n",
       "      <th>SibSp</th>\n",
       "      <th>Parch</th>\n",
       "      <th>Ticket</th>\n",
       "      <th>Fare</th>\n",
       "      <th>Cabin</th>\n",
       "      <th>Embarked</th>\n",
       "    </tr>\n",
       "  </thead>\n",
       "  <tbody>\n",
       "    <tr>\n",
       "      <th>0</th>\n",
       "      <td>1</td>\n",
       "      <td>0</td>\n",
       "      <td>3</td>\n",
       "      <td>Braund, Mr. Owen Harris</td>\n",
       "      <td>male</td>\n",
       "      <td>22.0</td>\n",
       "      <td>1</td>\n",
       "      <td>0</td>\n",
       "      <td>A/5 21171</td>\n",
       "      <td>7.2500</td>\n",
       "      <td>NaN</td>\n",
       "      <td>S</td>\n",
       "    </tr>\n",
       "    <tr>\n",
       "      <th>1</th>\n",
       "      <td>2</td>\n",
       "      <td>1</td>\n",
       "      <td>1</td>\n",
       "      <td>Cumings, Mrs. John Bradley (Florence Briggs Th...</td>\n",
       "      <td>female</td>\n",
       "      <td>38.0</td>\n",
       "      <td>1</td>\n",
       "      <td>0</td>\n",
       "      <td>PC 17599</td>\n",
       "      <td>71.2833</td>\n",
       "      <td>C85</td>\n",
       "      <td>C</td>\n",
       "    </tr>\n",
       "    <tr>\n",
       "      <th>2</th>\n",
       "      <td>3</td>\n",
       "      <td>1</td>\n",
       "      <td>3</td>\n",
       "      <td>Heikkinen, Miss. Laina</td>\n",
       "      <td>female</td>\n",
       "      <td>26.0</td>\n",
       "      <td>0</td>\n",
       "      <td>0</td>\n",
       "      <td>STON/O2. 3101282</td>\n",
       "      <td>7.9250</td>\n",
       "      <td>NaN</td>\n",
       "      <td>S</td>\n",
       "    </tr>\n",
       "    <tr>\n",
       "      <th>3</th>\n",
       "      <td>4</td>\n",
       "      <td>1</td>\n",
       "      <td>1</td>\n",
       "      <td>Futrelle, Mrs. Jacques Heath (Lily May Peel)</td>\n",
       "      <td>female</td>\n",
       "      <td>35.0</td>\n",
       "      <td>1</td>\n",
       "      <td>0</td>\n",
       "      <td>113803</td>\n",
       "      <td>53.1000</td>\n",
       "      <td>C123</td>\n",
       "      <td>S</td>\n",
       "    </tr>\n",
       "    <tr>\n",
       "      <th>4</th>\n",
       "      <td>5</td>\n",
       "      <td>0</td>\n",
       "      <td>3</td>\n",
       "      <td>Allen, Mr. William Henry</td>\n",
       "      <td>male</td>\n",
       "      <td>35.0</td>\n",
       "      <td>0</td>\n",
       "      <td>0</td>\n",
       "      <td>373450</td>\n",
       "      <td>8.0500</td>\n",
       "      <td>NaN</td>\n",
       "      <td>S</td>\n",
       "    </tr>\n",
       "    <tr>\n",
       "      <th>...</th>\n",
       "      <td>...</td>\n",
       "      <td>...</td>\n",
       "      <td>...</td>\n",
       "      <td>...</td>\n",
       "      <td>...</td>\n",
       "      <td>...</td>\n",
       "      <td>...</td>\n",
       "      <td>...</td>\n",
       "      <td>...</td>\n",
       "      <td>...</td>\n",
       "      <td>...</td>\n",
       "      <td>...</td>\n",
       "    </tr>\n",
       "    <tr>\n",
       "      <th>886</th>\n",
       "      <td>887</td>\n",
       "      <td>0</td>\n",
       "      <td>2</td>\n",
       "      <td>Montvila, Rev. Juozas</td>\n",
       "      <td>male</td>\n",
       "      <td>27.0</td>\n",
       "      <td>0</td>\n",
       "      <td>0</td>\n",
       "      <td>211536</td>\n",
       "      <td>13.0000</td>\n",
       "      <td>NaN</td>\n",
       "      <td>S</td>\n",
       "    </tr>\n",
       "    <tr>\n",
       "      <th>887</th>\n",
       "      <td>888</td>\n",
       "      <td>1</td>\n",
       "      <td>1</td>\n",
       "      <td>Graham, Miss. Margaret Edith</td>\n",
       "      <td>female</td>\n",
       "      <td>19.0</td>\n",
       "      <td>0</td>\n",
       "      <td>0</td>\n",
       "      <td>112053</td>\n",
       "      <td>30.0000</td>\n",
       "      <td>B42</td>\n",
       "      <td>S</td>\n",
       "    </tr>\n",
       "    <tr>\n",
       "      <th>888</th>\n",
       "      <td>889</td>\n",
       "      <td>0</td>\n",
       "      <td>3</td>\n",
       "      <td>Johnston, Miss. Catherine Helen \"Carrie\"</td>\n",
       "      <td>female</td>\n",
       "      <td>NaN</td>\n",
       "      <td>1</td>\n",
       "      <td>2</td>\n",
       "      <td>W./C. 6607</td>\n",
       "      <td>23.4500</td>\n",
       "      <td>NaN</td>\n",
       "      <td>S</td>\n",
       "    </tr>\n",
       "    <tr>\n",
       "      <th>889</th>\n",
       "      <td>890</td>\n",
       "      <td>1</td>\n",
       "      <td>1</td>\n",
       "      <td>Behr, Mr. Karl Howell</td>\n",
       "      <td>male</td>\n",
       "      <td>26.0</td>\n",
       "      <td>0</td>\n",
       "      <td>0</td>\n",
       "      <td>111369</td>\n",
       "      <td>30.0000</td>\n",
       "      <td>C148</td>\n",
       "      <td>C</td>\n",
       "    </tr>\n",
       "    <tr>\n",
       "      <th>890</th>\n",
       "      <td>891</td>\n",
       "      <td>0</td>\n",
       "      <td>3</td>\n",
       "      <td>Dooley, Mr. Patrick</td>\n",
       "      <td>male</td>\n",
       "      <td>32.0</td>\n",
       "      <td>0</td>\n",
       "      <td>0</td>\n",
       "      <td>370376</td>\n",
       "      <td>7.7500</td>\n",
       "      <td>NaN</td>\n",
       "      <td>Q</td>\n",
       "    </tr>\n",
       "  </tbody>\n",
       "</table>\n",
       "<p>891 rows × 12 columns</p>\n",
       "</div>"
      ],
      "text/plain": [
       "     PassengerId  Survived  Pclass  \\\n",
       "0              1         0       3   \n",
       "1              2         1       1   \n",
       "2              3         1       3   \n",
       "3              4         1       1   \n",
       "4              5         0       3   \n",
       "..           ...       ...     ...   \n",
       "886          887         0       2   \n",
       "887          888         1       1   \n",
       "888          889         0       3   \n",
       "889          890         1       1   \n",
       "890          891         0       3   \n",
       "\n",
       "                                                  Name     Sex   Age  SibSp  \\\n",
       "0                              Braund, Mr. Owen Harris    male  22.0      1   \n",
       "1    Cumings, Mrs. John Bradley (Florence Briggs Th...  female  38.0      1   \n",
       "2                               Heikkinen, Miss. Laina  female  26.0      0   \n",
       "3         Futrelle, Mrs. Jacques Heath (Lily May Peel)  female  35.0      1   \n",
       "4                             Allen, Mr. William Henry    male  35.0      0   \n",
       "..                                                 ...     ...   ...    ...   \n",
       "886                              Montvila, Rev. Juozas    male  27.0      0   \n",
       "887                       Graham, Miss. Margaret Edith  female  19.0      0   \n",
       "888           Johnston, Miss. Catherine Helen \"Carrie\"  female   NaN      1   \n",
       "889                              Behr, Mr. Karl Howell    male  26.0      0   \n",
       "890                                Dooley, Mr. Patrick    male  32.0      0   \n",
       "\n",
       "     Parch            Ticket     Fare Cabin Embarked  \n",
       "0        0         A/5 21171   7.2500   NaN        S  \n",
       "1        0          PC 17599  71.2833   C85        C  \n",
       "2        0  STON/O2. 3101282   7.9250   NaN        S  \n",
       "3        0            113803  53.1000  C123        S  \n",
       "4        0            373450   8.0500   NaN        S  \n",
       "..     ...               ...      ...   ...      ...  \n",
       "886      0            211536  13.0000   NaN        S  \n",
       "887      0            112053  30.0000   B42        S  \n",
       "888      2        W./C. 6607  23.4500   NaN        S  \n",
       "889      0            111369  30.0000  C148        C  \n",
       "890      0            370376   7.7500   NaN        Q  \n",
       "\n",
       "[891 rows x 12 columns]"
      ]
     },
     "execution_count": 8,
     "metadata": {},
     "output_type": "execute_result"
    }
   ],
   "source": [
    "train_df"
   ]
  },
  {
   "cell_type": "code",
   "execution_count": 11,
   "metadata": {
    "execution": {
     "iopub.execute_input": "2020-10-20T11:56:07.726491Z",
     "iopub.status.busy": "2020-10-20T11:56:07.716519Z",
     "iopub.status.idle": "2020-10-20T11:56:07.739100Z",
     "shell.execute_reply": "2020-10-20T11:56:07.738376Z"
    },
    "papermill": {
     "duration": 0.162524,
     "end_time": "2020-10-20T11:56:07.739221",
     "exception": false,
     "start_time": "2020-10-20T11:56:07.576697",
     "status": "completed"
    },
    "tags": []
   },
   "outputs": [
    {
     "data": {
      "text/html": [
       "<div>\n",
       "<style scoped>\n",
       "    .dataframe tbody tr th:only-of-type {\n",
       "        vertical-align: middle;\n",
       "    }\n",
       "\n",
       "    .dataframe tbody tr th {\n",
       "        vertical-align: top;\n",
       "    }\n",
       "\n",
       "    .dataframe thead th {\n",
       "        text-align: right;\n",
       "    }\n",
       "</style>\n",
       "<table border=\"1\" class=\"dataframe\">\n",
       "  <thead>\n",
       "    <tr style=\"text-align: right;\">\n",
       "      <th></th>\n",
       "      <th>PassengerId</th>\n",
       "      <th>Pclass</th>\n",
       "      <th>Name</th>\n",
       "      <th>Sex</th>\n",
       "      <th>Age</th>\n",
       "      <th>SibSp</th>\n",
       "      <th>Parch</th>\n",
       "      <th>Ticket</th>\n",
       "      <th>Fare</th>\n",
       "      <th>Cabin</th>\n",
       "      <th>Embarked</th>\n",
       "    </tr>\n",
       "  </thead>\n",
       "  <tbody>\n",
       "    <tr>\n",
       "      <th>0</th>\n",
       "      <td>892</td>\n",
       "      <td>3</td>\n",
       "      <td>Kelly, Mr. James</td>\n",
       "      <td>male</td>\n",
       "      <td>34.5</td>\n",
       "      <td>0</td>\n",
       "      <td>0</td>\n",
       "      <td>330911</td>\n",
       "      <td>7.8292</td>\n",
       "      <td>NaN</td>\n",
       "      <td>Q</td>\n",
       "    </tr>\n",
       "    <tr>\n",
       "      <th>1</th>\n",
       "      <td>893</td>\n",
       "      <td>3</td>\n",
       "      <td>Wilkes, Mrs. James (Ellen Needs)</td>\n",
       "      <td>female</td>\n",
       "      <td>47.0</td>\n",
       "      <td>1</td>\n",
       "      <td>0</td>\n",
       "      <td>363272</td>\n",
       "      <td>7.0000</td>\n",
       "      <td>NaN</td>\n",
       "      <td>S</td>\n",
       "    </tr>\n",
       "    <tr>\n",
       "      <th>2</th>\n",
       "      <td>894</td>\n",
       "      <td>2</td>\n",
       "      <td>Myles, Mr. Thomas Francis</td>\n",
       "      <td>male</td>\n",
       "      <td>62.0</td>\n",
       "      <td>0</td>\n",
       "      <td>0</td>\n",
       "      <td>240276</td>\n",
       "      <td>9.6875</td>\n",
       "      <td>NaN</td>\n",
       "      <td>Q</td>\n",
       "    </tr>\n",
       "    <tr>\n",
       "      <th>3</th>\n",
       "      <td>895</td>\n",
       "      <td>3</td>\n",
       "      <td>Wirz, Mr. Albert</td>\n",
       "      <td>male</td>\n",
       "      <td>27.0</td>\n",
       "      <td>0</td>\n",
       "      <td>0</td>\n",
       "      <td>315154</td>\n",
       "      <td>8.6625</td>\n",
       "      <td>NaN</td>\n",
       "      <td>S</td>\n",
       "    </tr>\n",
       "    <tr>\n",
       "      <th>4</th>\n",
       "      <td>896</td>\n",
       "      <td>3</td>\n",
       "      <td>Hirvonen, Mrs. Alexander (Helga E Lindqvist)</td>\n",
       "      <td>female</td>\n",
       "      <td>22.0</td>\n",
       "      <td>1</td>\n",
       "      <td>1</td>\n",
       "      <td>3101298</td>\n",
       "      <td>12.2875</td>\n",
       "      <td>NaN</td>\n",
       "      <td>S</td>\n",
       "    </tr>\n",
       "    <tr>\n",
       "      <th>...</th>\n",
       "      <td>...</td>\n",
       "      <td>...</td>\n",
       "      <td>...</td>\n",
       "      <td>...</td>\n",
       "      <td>...</td>\n",
       "      <td>...</td>\n",
       "      <td>...</td>\n",
       "      <td>...</td>\n",
       "      <td>...</td>\n",
       "      <td>...</td>\n",
       "      <td>...</td>\n",
       "    </tr>\n",
       "    <tr>\n",
       "      <th>413</th>\n",
       "      <td>1305</td>\n",
       "      <td>3</td>\n",
       "      <td>Spector, Mr. Woolf</td>\n",
       "      <td>male</td>\n",
       "      <td>NaN</td>\n",
       "      <td>0</td>\n",
       "      <td>0</td>\n",
       "      <td>A.5. 3236</td>\n",
       "      <td>8.0500</td>\n",
       "      <td>NaN</td>\n",
       "      <td>S</td>\n",
       "    </tr>\n",
       "    <tr>\n",
       "      <th>414</th>\n",
       "      <td>1306</td>\n",
       "      <td>1</td>\n",
       "      <td>Oliva y Ocana, Dona. Fermina</td>\n",
       "      <td>female</td>\n",
       "      <td>39.0</td>\n",
       "      <td>0</td>\n",
       "      <td>0</td>\n",
       "      <td>PC 17758</td>\n",
       "      <td>108.9000</td>\n",
       "      <td>C105</td>\n",
       "      <td>C</td>\n",
       "    </tr>\n",
       "    <tr>\n",
       "      <th>415</th>\n",
       "      <td>1307</td>\n",
       "      <td>3</td>\n",
       "      <td>Saether, Mr. Simon Sivertsen</td>\n",
       "      <td>male</td>\n",
       "      <td>38.5</td>\n",
       "      <td>0</td>\n",
       "      <td>0</td>\n",
       "      <td>SOTON/O.Q. 3101262</td>\n",
       "      <td>7.2500</td>\n",
       "      <td>NaN</td>\n",
       "      <td>S</td>\n",
       "    </tr>\n",
       "    <tr>\n",
       "      <th>416</th>\n",
       "      <td>1308</td>\n",
       "      <td>3</td>\n",
       "      <td>Ware, Mr. Frederick</td>\n",
       "      <td>male</td>\n",
       "      <td>NaN</td>\n",
       "      <td>0</td>\n",
       "      <td>0</td>\n",
       "      <td>359309</td>\n",
       "      <td>8.0500</td>\n",
       "      <td>NaN</td>\n",
       "      <td>S</td>\n",
       "    </tr>\n",
       "    <tr>\n",
       "      <th>417</th>\n",
       "      <td>1309</td>\n",
       "      <td>3</td>\n",
       "      <td>Peter, Master. Michael J</td>\n",
       "      <td>male</td>\n",
       "      <td>NaN</td>\n",
       "      <td>1</td>\n",
       "      <td>1</td>\n",
       "      <td>2668</td>\n",
       "      <td>22.3583</td>\n",
       "      <td>NaN</td>\n",
       "      <td>C</td>\n",
       "    </tr>\n",
       "  </tbody>\n",
       "</table>\n",
       "<p>418 rows × 11 columns</p>\n",
       "</div>"
      ],
      "text/plain": [
       "     PassengerId  Pclass                                          Name  \\\n",
       "0            892       3                              Kelly, Mr. James   \n",
       "1            893       3              Wilkes, Mrs. James (Ellen Needs)   \n",
       "2            894       2                     Myles, Mr. Thomas Francis   \n",
       "3            895       3                              Wirz, Mr. Albert   \n",
       "4            896       3  Hirvonen, Mrs. Alexander (Helga E Lindqvist)   \n",
       "..           ...     ...                                           ...   \n",
       "413         1305       3                            Spector, Mr. Woolf   \n",
       "414         1306       1                  Oliva y Ocana, Dona. Fermina   \n",
       "415         1307       3                  Saether, Mr. Simon Sivertsen   \n",
       "416         1308       3                           Ware, Mr. Frederick   \n",
       "417         1309       3                      Peter, Master. Michael J   \n",
       "\n",
       "        Sex   Age  SibSp  Parch              Ticket      Fare Cabin Embarked  \n",
       "0      male  34.5      0      0              330911    7.8292   NaN        Q  \n",
       "1    female  47.0      1      0              363272    7.0000   NaN        S  \n",
       "2      male  62.0      0      0              240276    9.6875   NaN        Q  \n",
       "3      male  27.0      0      0              315154    8.6625   NaN        S  \n",
       "4    female  22.0      1      1             3101298   12.2875   NaN        S  \n",
       "..      ...   ...    ...    ...                 ...       ...   ...      ...  \n",
       "413    male   NaN      0      0           A.5. 3236    8.0500   NaN        S  \n",
       "414  female  39.0      0      0            PC 17758  108.9000  C105        C  \n",
       "415    male  38.5      0      0  SOTON/O.Q. 3101262    7.2500   NaN        S  \n",
       "416    male   NaN      0      0              359309    8.0500   NaN        S  \n",
       "417    male   NaN      1      1                2668   22.3583   NaN        C  \n",
       "\n",
       "[418 rows x 11 columns]"
      ]
     },
     "execution_count": 11,
     "metadata": {},
     "output_type": "execute_result"
    }
   ],
   "source": [
    "test_df"
   ]
  },
  {
   "cell_type": "code",
   "execution_count": 12,
   "metadata": {
    "execution": {
     "iopub.execute_input": "2020-10-20T11:56:08.013890Z",
     "iopub.status.busy": "2020-10-20T11:56:08.012922Z",
     "iopub.status.idle": "2020-10-20T11:56:08.017734Z",
     "shell.execute_reply": "2020-10-20T11:56:08.017014Z"
    },
    "papermill": {
     "duration": 0.148403,
     "end_time": "2020-10-20T11:56:08.017880",
     "exception": false,
     "start_time": "2020-10-20T11:56:07.869477",
     "status": "completed"
    },
    "tags": []
   },
   "outputs": [
    {
     "data": {
      "text/html": [
       "<div>\n",
       "<style scoped>\n",
       "    .dataframe tbody tr th:only-of-type {\n",
       "        vertical-align: middle;\n",
       "    }\n",
       "\n",
       "    .dataframe tbody tr th {\n",
       "        vertical-align: top;\n",
       "    }\n",
       "\n",
       "    .dataframe thead th {\n",
       "        text-align: right;\n",
       "    }\n",
       "</style>\n",
       "<table border=\"1\" class=\"dataframe\">\n",
       "  <thead>\n",
       "    <tr style=\"text-align: right;\">\n",
       "      <th></th>\n",
       "      <th>PassengerId</th>\n",
       "      <th>Survived</th>\n",
       "    </tr>\n",
       "  </thead>\n",
       "  <tbody>\n",
       "    <tr>\n",
       "      <th>0</th>\n",
       "      <td>892</td>\n",
       "      <td>0</td>\n",
       "    </tr>\n",
       "    <tr>\n",
       "      <th>1</th>\n",
       "      <td>893</td>\n",
       "      <td>1</td>\n",
       "    </tr>\n",
       "    <tr>\n",
       "      <th>2</th>\n",
       "      <td>894</td>\n",
       "      <td>0</td>\n",
       "    </tr>\n",
       "    <tr>\n",
       "      <th>3</th>\n",
       "      <td>895</td>\n",
       "      <td>0</td>\n",
       "    </tr>\n",
       "    <tr>\n",
       "      <th>4</th>\n",
       "      <td>896</td>\n",
       "      <td>1</td>\n",
       "    </tr>\n",
       "    <tr>\n",
       "      <th>...</th>\n",
       "      <td>...</td>\n",
       "      <td>...</td>\n",
       "    </tr>\n",
       "    <tr>\n",
       "      <th>413</th>\n",
       "      <td>1305</td>\n",
       "      <td>0</td>\n",
       "    </tr>\n",
       "    <tr>\n",
       "      <th>414</th>\n",
       "      <td>1306</td>\n",
       "      <td>1</td>\n",
       "    </tr>\n",
       "    <tr>\n",
       "      <th>415</th>\n",
       "      <td>1307</td>\n",
       "      <td>0</td>\n",
       "    </tr>\n",
       "    <tr>\n",
       "      <th>416</th>\n",
       "      <td>1308</td>\n",
       "      <td>0</td>\n",
       "    </tr>\n",
       "    <tr>\n",
       "      <th>417</th>\n",
       "      <td>1309</td>\n",
       "      <td>0</td>\n",
       "    </tr>\n",
       "  </tbody>\n",
       "</table>\n",
       "<p>418 rows × 2 columns</p>\n",
       "</div>"
      ],
      "text/plain": [
       "     PassengerId  Survived\n",
       "0            892         0\n",
       "1            893         1\n",
       "2            894         0\n",
       "3            895         0\n",
       "4            896         1\n",
       "..           ...       ...\n",
       "413         1305         0\n",
       "414         1306         1\n",
       "415         1307         0\n",
       "416         1308         0\n",
       "417         1309         0\n",
       "\n",
       "[418 rows x 2 columns]"
      ]
     },
     "execution_count": 12,
     "metadata": {},
     "output_type": "execute_result"
    }
   ],
   "source": [
    "submission"
   ]
  },
  {
   "cell_type": "markdown",
   "metadata": {
    "papermill": {
     "duration": 0.131906,
     "end_time": "2020-10-20T11:56:08.282373",
     "exception": false,
     "start_time": "2020-10-20T11:56:08.150467",
     "status": "completed"
    },
    "tags": []
   },
   "source": [
    "#### 랜덤 시드 설정"
   ]
  },
  {
   "cell_type": "code",
   "execution_count": 13,
   "metadata": {
    "execution": {
     "iopub.execute_input": "2020-10-20T11:56:08.551800Z",
     "iopub.status.busy": "2020-10-20T11:56:08.550911Z",
     "iopub.status.idle": "2020-10-20T11:56:08.554053Z",
     "shell.execute_reply": "2020-10-20T11:56:08.553469Z"
    },
    "papermill": {
     "duration": 0.14057,
     "end_time": "2020-10-20T11:56:08.554183",
     "exception": false,
     "start_time": "2020-10-20T11:56:08.413613",
     "status": "completed"
    },
    "tags": []
   },
   "outputs": [],
   "source": [
    "import random\n",
    "np.random.seed(1234)\n",
    "random.seed(1234)"
   ]
  },
  {
   "cell_type": "markdown",
   "metadata": {
    "papermill": {
     "duration": 0.131262,
     "end_time": "2020-10-20T11:56:08.817224",
     "exception": false,
     "start_time": "2020-10-20T11:56:08.685962",
     "status": "completed"
    },
    "tags": []
   },
   "source": [
    "## 2. EDA"
   ]
  },
  {
   "cell_type": "markdown",
   "metadata": {
    "papermill": {
     "duration": 0.131125,
     "end_time": "2020-10-20T11:56:09.079697",
     "exception": false,
     "start_time": "2020-10-20T11:56:08.948572",
     "status": "completed"
    },
    "tags": []
   },
   "source": [
    "### 데이터의 개요 확인"
   ]
  },
  {
   "cell_type": "markdown",
   "metadata": {
    "papermill": {
     "duration": 0.132938,
     "end_time": "2020-10-20T11:56:09.350363",
     "exception": false,
     "start_time": "2020-10-20T11:56:09.217425",
     "status": "completed"
    },
    "tags": []
   },
   "source": [
    "#### 데이터의 행과 열 확인하기"
   ]
  },
  {
   "cell_type": "code",
   "execution_count": 14,
   "metadata": {
    "execution": {
     "iopub.execute_input": "2020-10-20T11:56:09.621879Z",
     "iopub.status.busy": "2020-10-20T11:56:09.620924Z",
     "iopub.status.idle": "2020-10-20T11:56:09.624504Z",
     "shell.execute_reply": "2020-10-20T11:56:09.625331Z"
    },
    "papermill": {
     "duration": 0.142065,
     "end_time": "2020-10-20T11:56:09.625531",
     "exception": false,
     "start_time": "2020-10-20T11:56:09.483466",
     "status": "completed"
    },
    "tags": []
   },
   "outputs": [
    {
     "name": "stdout",
     "output_type": "stream",
     "text": [
      "(891, 12)\n",
      "(418, 11)\n"
     ]
    }
   ],
   "source": [
    "print(train_df.shape)\n",
    "print(test_df.shape)"
   ]
  },
  {
   "cell_type": "code",
   "execution_count": 15,
   "metadata": {
    "execution": {
     "iopub.execute_input": "2020-10-20T11:56:09.899621Z",
     "iopub.status.busy": "2020-10-20T11:56:09.898672Z",
     "iopub.status.idle": "2020-10-20T11:56:09.901334Z",
     "shell.execute_reply": "2020-10-20T11:56:09.901890Z"
    },
    "papermill": {
     "duration": 0.142576,
     "end_time": "2020-10-20T11:56:09.902052",
     "exception": false,
     "start_time": "2020-10-20T11:56:09.759476",
     "status": "completed"
    },
    "tags": []
   },
   "outputs": [],
   "source": [
    "pd.set_option(\"display.max_columns\",50)\n",
    "pd.set_option(\"display.max_rows\",50)"
   ]
  },
  {
   "cell_type": "markdown",
   "metadata": {
    "papermill": {
     "duration": 0.180059,
     "end_time": "2020-10-20T11:56:10.215412",
     "exception": false,
     "start_time": "2020-10-20T11:56:10.035353",
     "status": "completed"
    },
    "tags": []
   },
   "source": [
    "#### 데이터 내용 미리보기"
   ]
  },
  {
   "cell_type": "code",
   "execution_count": 16,
   "metadata": {
    "execution": {
     "iopub.execute_input": "2020-10-20T11:56:10.500501Z",
     "iopub.status.busy": "2020-10-20T11:56:10.499558Z",
     "iopub.status.idle": "2020-10-20T11:56:10.503385Z",
     "shell.execute_reply": "2020-10-20T11:56:10.504096Z"
    },
    "papermill": {
     "duration": 0.15562,
     "end_time": "2020-10-20T11:56:10.504252",
     "exception": false,
     "start_time": "2020-10-20T11:56:10.348632",
     "status": "completed"
    },
    "tags": []
   },
   "outputs": [
    {
     "data": {
      "text/html": [
       "<div>\n",
       "<style scoped>\n",
       "    .dataframe tbody tr th:only-of-type {\n",
       "        vertical-align: middle;\n",
       "    }\n",
       "\n",
       "    .dataframe tbody tr th {\n",
       "        vertical-align: top;\n",
       "    }\n",
       "\n",
       "    .dataframe thead th {\n",
       "        text-align: right;\n",
       "    }\n",
       "</style>\n",
       "<table border=\"1\" class=\"dataframe\">\n",
       "  <thead>\n",
       "    <tr style=\"text-align: right;\">\n",
       "      <th></th>\n",
       "      <th>PassengerId</th>\n",
       "      <th>Survived</th>\n",
       "      <th>Pclass</th>\n",
       "      <th>Name</th>\n",
       "      <th>Sex</th>\n",
       "      <th>Age</th>\n",
       "      <th>SibSp</th>\n",
       "      <th>Parch</th>\n",
       "      <th>Ticket</th>\n",
       "      <th>Fare</th>\n",
       "      <th>Cabin</th>\n",
       "      <th>Embarked</th>\n",
       "    </tr>\n",
       "  </thead>\n",
       "  <tbody>\n",
       "    <tr>\n",
       "      <th>0</th>\n",
       "      <td>1</td>\n",
       "      <td>0</td>\n",
       "      <td>3</td>\n",
       "      <td>Braund, Mr. Owen Harris</td>\n",
       "      <td>male</td>\n",
       "      <td>22.0</td>\n",
       "      <td>1</td>\n",
       "      <td>0</td>\n",
       "      <td>A/5 21171</td>\n",
       "      <td>7.2500</td>\n",
       "      <td>NaN</td>\n",
       "      <td>S</td>\n",
       "    </tr>\n",
       "    <tr>\n",
       "      <th>1</th>\n",
       "      <td>2</td>\n",
       "      <td>1</td>\n",
       "      <td>1</td>\n",
       "      <td>Cumings, Mrs. John Bradley (Florence Briggs Th...</td>\n",
       "      <td>female</td>\n",
       "      <td>38.0</td>\n",
       "      <td>1</td>\n",
       "      <td>0</td>\n",
       "      <td>PC 17599</td>\n",
       "      <td>71.2833</td>\n",
       "      <td>C85</td>\n",
       "      <td>C</td>\n",
       "    </tr>\n",
       "    <tr>\n",
       "      <th>2</th>\n",
       "      <td>3</td>\n",
       "      <td>1</td>\n",
       "      <td>3</td>\n",
       "      <td>Heikkinen, Miss. Laina</td>\n",
       "      <td>female</td>\n",
       "      <td>26.0</td>\n",
       "      <td>0</td>\n",
       "      <td>0</td>\n",
       "      <td>STON/O2. 3101282</td>\n",
       "      <td>7.9250</td>\n",
       "      <td>NaN</td>\n",
       "      <td>S</td>\n",
       "    </tr>\n",
       "    <tr>\n",
       "      <th>3</th>\n",
       "      <td>4</td>\n",
       "      <td>1</td>\n",
       "      <td>1</td>\n",
       "      <td>Futrelle, Mrs. Jacques Heath (Lily May Peel)</td>\n",
       "      <td>female</td>\n",
       "      <td>35.0</td>\n",
       "      <td>1</td>\n",
       "      <td>0</td>\n",
       "      <td>113803</td>\n",
       "      <td>53.1000</td>\n",
       "      <td>C123</td>\n",
       "      <td>S</td>\n",
       "    </tr>\n",
       "    <tr>\n",
       "      <th>4</th>\n",
       "      <td>5</td>\n",
       "      <td>0</td>\n",
       "      <td>3</td>\n",
       "      <td>Allen, Mr. William Henry</td>\n",
       "      <td>male</td>\n",
       "      <td>35.0</td>\n",
       "      <td>0</td>\n",
       "      <td>0</td>\n",
       "      <td>373450</td>\n",
       "      <td>8.0500</td>\n",
       "      <td>NaN</td>\n",
       "      <td>S</td>\n",
       "    </tr>\n",
       "  </tbody>\n",
       "</table>\n",
       "</div>"
      ],
      "text/plain": [
       "   PassengerId  Survived  Pclass  \\\n",
       "0            1         0       3   \n",
       "1            2         1       1   \n",
       "2            3         1       3   \n",
       "3            4         1       1   \n",
       "4            5         0       3   \n",
       "\n",
       "                                                Name     Sex   Age  SibSp  \\\n",
       "0                            Braund, Mr. Owen Harris    male  22.0      1   \n",
       "1  Cumings, Mrs. John Bradley (Florence Briggs Th...  female  38.0      1   \n",
       "2                             Heikkinen, Miss. Laina  female  26.0      0   \n",
       "3       Futrelle, Mrs. Jacques Heath (Lily May Peel)  female  35.0      1   \n",
       "4                           Allen, Mr. William Henry    male  35.0      0   \n",
       "\n",
       "   Parch            Ticket     Fare Cabin Embarked  \n",
       "0      0         A/5 21171   7.2500   NaN        S  \n",
       "1      0          PC 17599  71.2833   C85        C  \n",
       "2      0  STON/O2. 3101282   7.9250   NaN        S  \n",
       "3      0            113803  53.1000  C123        S  \n",
       "4      0            373450   8.0500   NaN        S  "
      ]
     },
     "execution_count": 16,
     "metadata": {},
     "output_type": "execute_result"
    }
   ],
   "source": [
    "train_df.head()"
   ]
  },
  {
   "cell_type": "code",
   "execution_count": 17,
   "metadata": {
    "execution": {
     "iopub.execute_input": "2020-10-20T11:56:10.789552Z",
     "iopub.status.busy": "2020-10-20T11:56:10.788815Z",
     "iopub.status.idle": "2020-10-20T11:56:10.793545Z",
     "shell.execute_reply": "2020-10-20T11:56:10.792976Z"
    },
    "papermill": {
     "duration": 0.156135,
     "end_time": "2020-10-20T11:56:10.793680",
     "exception": false,
     "start_time": "2020-10-20T11:56:10.637545",
     "status": "completed"
    },
    "tags": []
   },
   "outputs": [
    {
     "data": {
      "text/html": [
       "<div>\n",
       "<style scoped>\n",
       "    .dataframe tbody tr th:only-of-type {\n",
       "        vertical-align: middle;\n",
       "    }\n",
       "\n",
       "    .dataframe tbody tr th {\n",
       "        vertical-align: top;\n",
       "    }\n",
       "\n",
       "    .dataframe thead th {\n",
       "        text-align: right;\n",
       "    }\n",
       "</style>\n",
       "<table border=\"1\" class=\"dataframe\">\n",
       "  <thead>\n",
       "    <tr style=\"text-align: right;\">\n",
       "      <th></th>\n",
       "      <th>PassengerId</th>\n",
       "      <th>Pclass</th>\n",
       "      <th>Name</th>\n",
       "      <th>Sex</th>\n",
       "      <th>Age</th>\n",
       "      <th>SibSp</th>\n",
       "      <th>Parch</th>\n",
       "      <th>Ticket</th>\n",
       "      <th>Fare</th>\n",
       "      <th>Cabin</th>\n",
       "      <th>Embarked</th>\n",
       "    </tr>\n",
       "  </thead>\n",
       "  <tbody>\n",
       "    <tr>\n",
       "      <th>0</th>\n",
       "      <td>892</td>\n",
       "      <td>3</td>\n",
       "      <td>Kelly, Mr. James</td>\n",
       "      <td>male</td>\n",
       "      <td>34.5</td>\n",
       "      <td>0</td>\n",
       "      <td>0</td>\n",
       "      <td>330911</td>\n",
       "      <td>7.8292</td>\n",
       "      <td>NaN</td>\n",
       "      <td>Q</td>\n",
       "    </tr>\n",
       "    <tr>\n",
       "      <th>1</th>\n",
       "      <td>893</td>\n",
       "      <td>3</td>\n",
       "      <td>Wilkes, Mrs. James (Ellen Needs)</td>\n",
       "      <td>female</td>\n",
       "      <td>47.0</td>\n",
       "      <td>1</td>\n",
       "      <td>0</td>\n",
       "      <td>363272</td>\n",
       "      <td>7.0000</td>\n",
       "      <td>NaN</td>\n",
       "      <td>S</td>\n",
       "    </tr>\n",
       "    <tr>\n",
       "      <th>2</th>\n",
       "      <td>894</td>\n",
       "      <td>2</td>\n",
       "      <td>Myles, Mr. Thomas Francis</td>\n",
       "      <td>male</td>\n",
       "      <td>62.0</td>\n",
       "      <td>0</td>\n",
       "      <td>0</td>\n",
       "      <td>240276</td>\n",
       "      <td>9.6875</td>\n",
       "      <td>NaN</td>\n",
       "      <td>Q</td>\n",
       "    </tr>\n",
       "    <tr>\n",
       "      <th>3</th>\n",
       "      <td>895</td>\n",
       "      <td>3</td>\n",
       "      <td>Wirz, Mr. Albert</td>\n",
       "      <td>male</td>\n",
       "      <td>27.0</td>\n",
       "      <td>0</td>\n",
       "      <td>0</td>\n",
       "      <td>315154</td>\n",
       "      <td>8.6625</td>\n",
       "      <td>NaN</td>\n",
       "      <td>S</td>\n",
       "    </tr>\n",
       "    <tr>\n",
       "      <th>4</th>\n",
       "      <td>896</td>\n",
       "      <td>3</td>\n",
       "      <td>Hirvonen, Mrs. Alexander (Helga E Lindqvist)</td>\n",
       "      <td>female</td>\n",
       "      <td>22.0</td>\n",
       "      <td>1</td>\n",
       "      <td>1</td>\n",
       "      <td>3101298</td>\n",
       "      <td>12.2875</td>\n",
       "      <td>NaN</td>\n",
       "      <td>S</td>\n",
       "    </tr>\n",
       "  </tbody>\n",
       "</table>\n",
       "</div>"
      ],
      "text/plain": [
       "   PassengerId  Pclass                                          Name     Sex  \\\n",
       "0          892       3                              Kelly, Mr. James    male   \n",
       "1          893       3              Wilkes, Mrs. James (Ellen Needs)  female   \n",
       "2          894       2                     Myles, Mr. Thomas Francis    male   \n",
       "3          895       3                              Wirz, Mr. Albert    male   \n",
       "4          896       3  Hirvonen, Mrs. Alexander (Helga E Lindqvist)  female   \n",
       "\n",
       "    Age  SibSp  Parch   Ticket     Fare Cabin Embarked  \n",
       "0  34.5      0      0   330911   7.8292   NaN        Q  \n",
       "1  47.0      1      0   363272   7.0000   NaN        S  \n",
       "2  62.0      0      0   240276   9.6875   NaN        Q  \n",
       "3  27.0      0      0   315154   8.6625   NaN        S  \n",
       "4  22.0      1      1  3101298  12.2875   NaN        S  "
      ]
     },
     "execution_count": 17,
     "metadata": {},
     "output_type": "execute_result"
    }
   ],
   "source": [
    "test_df.head()"
   ]
  },
  {
   "cell_type": "markdown",
   "metadata": {
    "papermill": {
     "duration": 0.134482,
     "end_time": "2020-10-20T11:56:11.063372",
     "exception": false,
     "start_time": "2020-10-20T11:56:10.928890",
     "status": "completed"
    },
    "tags": []
   },
   "source": [
    "#### 데이터 속성 확인하기"
   ]
  },
  {
   "cell_type": "code",
   "execution_count": 18,
   "metadata": {
    "execution": {
     "iopub.execute_input": "2020-10-20T11:56:11.378539Z",
     "iopub.status.busy": "2020-10-20T11:56:11.377587Z",
     "iopub.status.idle": "2020-10-20T11:56:11.382286Z",
     "shell.execute_reply": "2020-10-20T11:56:11.381529Z"
    },
    "papermill": {
     "duration": 0.153311,
     "end_time": "2020-10-20T11:56:11.382409",
     "exception": false,
     "start_time": "2020-10-20T11:56:11.229098",
     "status": "completed"
    },
    "tags": []
   },
   "outputs": [
    {
     "name": "stdout",
     "output_type": "stream",
     "text": [
      "2.1.0\n",
      "2.2.2\n"
     ]
    },
    {
     "data": {
      "text/plain": [
       "PassengerId      int64\n",
       "Survived         int64\n",
       "Pclass           int64\n",
       "Name            object\n",
       "Sex             object\n",
       "Age            float64\n",
       "SibSp            int64\n",
       "Parch            int64\n",
       "Ticket          object\n",
       "Fare           float64\n",
       "Cabin           object\n",
       "Embarked        object\n",
       "dtype: object"
      ]
     },
     "execution_count": 18,
     "metadata": {},
     "output_type": "execute_result"
    }
   ],
   "source": [
    "print(np.__version__)\n",
    "print(pd.__version__)\n",
    "train_df.dtypes"
   ]
  },
  {
   "cell_type": "markdown",
   "metadata": {
    "papermill": {
     "duration": 0.133806,
     "end_time": "2020-10-20T11:56:11.651025",
     "exception": false,
     "start_time": "2020-10-20T11:56:11.517219",
     "status": "completed"
    },
    "tags": []
   },
   "source": [
    "#### 데이터의 통계량 확인하기"
   ]
  },
  {
   "cell_type": "code",
   "execution_count": 19,
   "metadata": {
    "execution": {
     "iopub.execute_input": "2020-10-20T11:56:11.932450Z",
     "iopub.status.busy": "2020-10-20T11:56:11.931632Z",
     "iopub.status.idle": "2020-10-20T11:56:11.962921Z",
     "shell.execute_reply": "2020-10-20T11:56:11.962259Z"
    },
    "papermill": {
     "duration": 0.177867,
     "end_time": "2020-10-20T11:56:11.963043",
     "exception": false,
     "start_time": "2020-10-20T11:56:11.785176",
     "status": "completed"
    },
    "tags": []
   },
   "outputs": [
    {
     "data": {
      "text/html": [
       "<div>\n",
       "<style scoped>\n",
       "    .dataframe tbody tr th:only-of-type {\n",
       "        vertical-align: middle;\n",
       "    }\n",
       "\n",
       "    .dataframe tbody tr th {\n",
       "        vertical-align: top;\n",
       "    }\n",
       "\n",
       "    .dataframe thead th {\n",
       "        text-align: right;\n",
       "    }\n",
       "</style>\n",
       "<table border=\"1\" class=\"dataframe\">\n",
       "  <thead>\n",
       "    <tr style=\"text-align: right;\">\n",
       "      <th></th>\n",
       "      <th>PassengerId</th>\n",
       "      <th>Survived</th>\n",
       "      <th>Pclass</th>\n",
       "      <th>Age</th>\n",
       "      <th>SibSp</th>\n",
       "      <th>Parch</th>\n",
       "      <th>Fare</th>\n",
       "    </tr>\n",
       "  </thead>\n",
       "  <tbody>\n",
       "    <tr>\n",
       "      <th>count</th>\n",
       "      <td>891.000000</td>\n",
       "      <td>891.000000</td>\n",
       "      <td>891.000000</td>\n",
       "      <td>714.000000</td>\n",
       "      <td>891.000000</td>\n",
       "      <td>891.000000</td>\n",
       "      <td>891.000000</td>\n",
       "    </tr>\n",
       "    <tr>\n",
       "      <th>mean</th>\n",
       "      <td>446.000000</td>\n",
       "      <td>0.383838</td>\n",
       "      <td>2.308642</td>\n",
       "      <td>29.699118</td>\n",
       "      <td>0.523008</td>\n",
       "      <td>0.381594</td>\n",
       "      <td>32.204208</td>\n",
       "    </tr>\n",
       "    <tr>\n",
       "      <th>std</th>\n",
       "      <td>257.353842</td>\n",
       "      <td>0.486592</td>\n",
       "      <td>0.836071</td>\n",
       "      <td>14.526497</td>\n",
       "      <td>1.102743</td>\n",
       "      <td>0.806057</td>\n",
       "      <td>49.693429</td>\n",
       "    </tr>\n",
       "    <tr>\n",
       "      <th>min</th>\n",
       "      <td>1.000000</td>\n",
       "      <td>0.000000</td>\n",
       "      <td>1.000000</td>\n",
       "      <td>0.420000</td>\n",
       "      <td>0.000000</td>\n",
       "      <td>0.000000</td>\n",
       "      <td>0.000000</td>\n",
       "    </tr>\n",
       "    <tr>\n",
       "      <th>25%</th>\n",
       "      <td>223.500000</td>\n",
       "      <td>0.000000</td>\n",
       "      <td>2.000000</td>\n",
       "      <td>20.125000</td>\n",
       "      <td>0.000000</td>\n",
       "      <td>0.000000</td>\n",
       "      <td>7.910400</td>\n",
       "    </tr>\n",
       "    <tr>\n",
       "      <th>50%</th>\n",
       "      <td>446.000000</td>\n",
       "      <td>0.000000</td>\n",
       "      <td>3.000000</td>\n",
       "      <td>28.000000</td>\n",
       "      <td>0.000000</td>\n",
       "      <td>0.000000</td>\n",
       "      <td>14.454200</td>\n",
       "    </tr>\n",
       "    <tr>\n",
       "      <th>75%</th>\n",
       "      <td>668.500000</td>\n",
       "      <td>1.000000</td>\n",
       "      <td>3.000000</td>\n",
       "      <td>38.000000</td>\n",
       "      <td>1.000000</td>\n",
       "      <td>0.000000</td>\n",
       "      <td>31.000000</td>\n",
       "    </tr>\n",
       "    <tr>\n",
       "      <th>max</th>\n",
       "      <td>891.000000</td>\n",
       "      <td>1.000000</td>\n",
       "      <td>3.000000</td>\n",
       "      <td>80.000000</td>\n",
       "      <td>8.000000</td>\n",
       "      <td>6.000000</td>\n",
       "      <td>512.329200</td>\n",
       "    </tr>\n",
       "  </tbody>\n",
       "</table>\n",
       "</div>"
      ],
      "text/plain": [
       "       PassengerId    Survived      Pclass         Age       SibSp  \\\n",
       "count   891.000000  891.000000  891.000000  714.000000  891.000000   \n",
       "mean    446.000000    0.383838    2.308642   29.699118    0.523008   \n",
       "std     257.353842    0.486592    0.836071   14.526497    1.102743   \n",
       "min       1.000000    0.000000    1.000000    0.420000    0.000000   \n",
       "25%     223.500000    0.000000    2.000000   20.125000    0.000000   \n",
       "50%     446.000000    0.000000    3.000000   28.000000    0.000000   \n",
       "75%     668.500000    1.000000    3.000000   38.000000    1.000000   \n",
       "max     891.000000    1.000000    3.000000   80.000000    8.000000   \n",
       "\n",
       "            Parch        Fare  \n",
       "count  891.000000  891.000000  \n",
       "mean     0.381594   32.204208  \n",
       "std      0.806057   49.693429  \n",
       "min      0.000000    0.000000  \n",
       "25%      0.000000    7.910400  \n",
       "50%      0.000000   14.454200  \n",
       "75%      0.000000   31.000000  \n",
       "max      6.000000  512.329200  "
      ]
     },
     "execution_count": 19,
     "metadata": {},
     "output_type": "execute_result"
    }
   ],
   "source": [
    "train_df.describe()"
   ]
  },
  {
   "cell_type": "code",
   "execution_count": 20,
   "metadata": {
    "execution": {
     "iopub.execute_input": "2020-10-20T11:56:12.248006Z",
     "iopub.status.busy": "2020-10-20T11:56:12.245906Z",
     "iopub.status.idle": "2020-10-20T11:56:12.271408Z",
     "shell.execute_reply": "2020-10-20T11:56:12.270825Z"
    },
    "papermill": {
     "duration": 0.172459,
     "end_time": "2020-10-20T11:56:12.271533",
     "exception": false,
     "start_time": "2020-10-20T11:56:12.099074",
     "status": "completed"
    },
    "tags": []
   },
   "outputs": [
    {
     "data": {
      "text/html": [
       "<div>\n",
       "<style scoped>\n",
       "    .dataframe tbody tr th:only-of-type {\n",
       "        vertical-align: middle;\n",
       "    }\n",
       "\n",
       "    .dataframe tbody tr th {\n",
       "        vertical-align: top;\n",
       "    }\n",
       "\n",
       "    .dataframe thead th {\n",
       "        text-align: right;\n",
       "    }\n",
       "</style>\n",
       "<table border=\"1\" class=\"dataframe\">\n",
       "  <thead>\n",
       "    <tr style=\"text-align: right;\">\n",
       "      <th></th>\n",
       "      <th>PassengerId</th>\n",
       "      <th>Pclass</th>\n",
       "      <th>Age</th>\n",
       "      <th>SibSp</th>\n",
       "      <th>Parch</th>\n",
       "      <th>Fare</th>\n",
       "    </tr>\n",
       "  </thead>\n",
       "  <tbody>\n",
       "    <tr>\n",
       "      <th>count</th>\n",
       "      <td>418.000000</td>\n",
       "      <td>418.000000</td>\n",
       "      <td>332.000000</td>\n",
       "      <td>418.000000</td>\n",
       "      <td>418.000000</td>\n",
       "      <td>417.000000</td>\n",
       "    </tr>\n",
       "    <tr>\n",
       "      <th>mean</th>\n",
       "      <td>1100.500000</td>\n",
       "      <td>2.265550</td>\n",
       "      <td>30.272590</td>\n",
       "      <td>0.447368</td>\n",
       "      <td>0.392344</td>\n",
       "      <td>35.627188</td>\n",
       "    </tr>\n",
       "    <tr>\n",
       "      <th>std</th>\n",
       "      <td>120.810458</td>\n",
       "      <td>0.841838</td>\n",
       "      <td>14.181209</td>\n",
       "      <td>0.896760</td>\n",
       "      <td>0.981429</td>\n",
       "      <td>55.907576</td>\n",
       "    </tr>\n",
       "    <tr>\n",
       "      <th>min</th>\n",
       "      <td>892.000000</td>\n",
       "      <td>1.000000</td>\n",
       "      <td>0.170000</td>\n",
       "      <td>0.000000</td>\n",
       "      <td>0.000000</td>\n",
       "      <td>0.000000</td>\n",
       "    </tr>\n",
       "    <tr>\n",
       "      <th>25%</th>\n",
       "      <td>996.250000</td>\n",
       "      <td>1.000000</td>\n",
       "      <td>21.000000</td>\n",
       "      <td>0.000000</td>\n",
       "      <td>0.000000</td>\n",
       "      <td>7.895800</td>\n",
       "    </tr>\n",
       "    <tr>\n",
       "      <th>50%</th>\n",
       "      <td>1100.500000</td>\n",
       "      <td>3.000000</td>\n",
       "      <td>27.000000</td>\n",
       "      <td>0.000000</td>\n",
       "      <td>0.000000</td>\n",
       "      <td>14.454200</td>\n",
       "    </tr>\n",
       "    <tr>\n",
       "      <th>75%</th>\n",
       "      <td>1204.750000</td>\n",
       "      <td>3.000000</td>\n",
       "      <td>39.000000</td>\n",
       "      <td>1.000000</td>\n",
       "      <td>0.000000</td>\n",
       "      <td>31.500000</td>\n",
       "    </tr>\n",
       "    <tr>\n",
       "      <th>max</th>\n",
       "      <td>1309.000000</td>\n",
       "      <td>3.000000</td>\n",
       "      <td>76.000000</td>\n",
       "      <td>8.000000</td>\n",
       "      <td>9.000000</td>\n",
       "      <td>512.329200</td>\n",
       "    </tr>\n",
       "  </tbody>\n",
       "</table>\n",
       "</div>"
      ],
      "text/plain": [
       "       PassengerId      Pclass         Age       SibSp       Parch        Fare\n",
       "count   418.000000  418.000000  332.000000  418.000000  418.000000  417.000000\n",
       "mean   1100.500000    2.265550   30.272590    0.447368    0.392344   35.627188\n",
       "std     120.810458    0.841838   14.181209    0.896760    0.981429   55.907576\n",
       "min     892.000000    1.000000    0.170000    0.000000    0.000000    0.000000\n",
       "25%     996.250000    1.000000   21.000000    0.000000    0.000000    7.895800\n",
       "50%    1100.500000    3.000000   27.000000    0.000000    0.000000   14.454200\n",
       "75%    1204.750000    3.000000   39.000000    1.000000    0.000000   31.500000\n",
       "max    1309.000000    3.000000   76.000000    8.000000    9.000000  512.329200"
      ]
     },
     "execution_count": 20,
     "metadata": {},
     "output_type": "execute_result"
    }
   ],
   "source": [
    "test_df.describe()"
   ]
  },
  {
   "cell_type": "markdown",
   "metadata": {
    "papermill": {
     "duration": 0.136573,
     "end_time": "2020-10-20T11:56:12.545005",
     "exception": false,
     "start_time": "2020-10-20T11:56:12.408432",
     "status": "completed"
    },
    "tags": []
   },
   "source": [
    "#### 카테고리 변수 확인하기"
   ]
  },
  {
   "cell_type": "code",
   "execution_count": 21,
   "metadata": {
    "execution": {
     "iopub.execute_input": "2020-10-20T11:56:12.826565Z",
     "iopub.status.busy": "2020-10-20T11:56:12.825730Z",
     "iopub.status.idle": "2020-10-20T11:56:12.830425Z",
     "shell.execute_reply": "2020-10-20T11:56:12.829708Z"
    },
    "papermill": {
     "duration": 0.149088,
     "end_time": "2020-10-20T11:56:12.830542",
     "exception": false,
     "start_time": "2020-10-20T11:56:12.681454",
     "status": "completed"
    },
    "tags": []
   },
   "outputs": [
    {
     "data": {
      "text/plain": [
       "Sex\n",
       "male      577\n",
       "female    314\n",
       "Name: count, dtype: int64"
      ]
     },
     "execution_count": 21,
     "metadata": {},
     "output_type": "execute_result"
    }
   ],
   "source": [
    "train_df[\"Sex\"].value_counts()"
   ]
  },
  {
   "cell_type": "code",
   "execution_count": 22,
   "metadata": {
    "execution": {
     "iopub.execute_input": "2020-10-20T11:56:13.115895Z",
     "iopub.status.busy": "2020-10-20T11:56:13.114817Z",
     "iopub.status.idle": "2020-10-20T11:56:13.118256Z",
     "shell.execute_reply": "2020-10-20T11:56:13.118922Z"
    },
    "papermill": {
     "duration": 0.14989,
     "end_time": "2020-10-20T11:56:13.119082",
     "exception": false,
     "start_time": "2020-10-20T11:56:12.969192",
     "status": "completed"
    },
    "tags": []
   },
   "outputs": [
    {
     "data": {
      "text/plain": [
       "Embarked\n",
       "S    644\n",
       "C    168\n",
       "Q     77\n",
       "Name: count, dtype: int64"
      ]
     },
     "execution_count": 22,
     "metadata": {},
     "output_type": "execute_result"
    }
   ],
   "source": [
    "train_df[\"Embarked\"].value_counts()"
   ]
  },
  {
   "cell_type": "code",
   "execution_count": 23,
   "metadata": {
    "execution": {
     "iopub.execute_input": "2020-10-20T11:56:13.405090Z",
     "iopub.status.busy": "2020-10-20T11:56:13.404019Z",
     "iopub.status.idle": "2020-10-20T11:56:13.408377Z",
     "shell.execute_reply": "2020-10-20T11:56:13.407618Z"
    },
    "papermill": {
     "duration": 0.150862,
     "end_time": "2020-10-20T11:56:13.408496",
     "exception": false,
     "start_time": "2020-10-20T11:56:13.257634",
     "status": "completed"
    },
    "tags": []
   },
   "outputs": [
    {
     "data": {
      "text/plain": [
       "Cabin\n",
       "B96 B98        4\n",
       "G6             4\n",
       "C23 C25 C27    4\n",
       "C22 C26        3\n",
       "F33            3\n",
       "              ..\n",
       "E34            1\n",
       "C7             1\n",
       "C54            1\n",
       "E36            1\n",
       "C148           1\n",
       "Name: count, Length: 147, dtype: int64"
      ]
     },
     "execution_count": 23,
     "metadata": {},
     "output_type": "execute_result"
    }
   ],
   "source": [
    "train_df[\"Cabin\"].value_counts()"
   ]
  },
  {
   "cell_type": "markdown",
   "metadata": {
    "papermill": {
     "duration": 0.137654,
     "end_time": "2020-10-20T11:56:13.684873",
     "exception": false,
     "start_time": "2020-10-20T11:56:13.547219",
     "status": "completed"
    },
    "tags": []
   },
   "source": [
    "#### 결측치 확인하기"
   ]
  },
  {
   "cell_type": "code",
   "execution_count": 24,
   "metadata": {
    "execution": {
     "iopub.execute_input": "2020-10-20T11:56:13.972444Z",
     "iopub.status.busy": "2020-10-20T11:56:13.971414Z",
     "iopub.status.idle": "2020-10-20T11:56:13.975250Z",
     "shell.execute_reply": "2020-10-20T11:56:13.975797Z"
    },
    "papermill": {
     "duration": 0.152977,
     "end_time": "2020-10-20T11:56:13.975964",
     "exception": false,
     "start_time": "2020-10-20T11:56:13.822987",
     "status": "completed"
    },
    "tags": []
   },
   "outputs": [
    {
     "data": {
      "text/plain": [
       "PassengerId      0\n",
       "Survived         0\n",
       "Pclass           0\n",
       "Name             0\n",
       "Sex              0\n",
       "Age            177\n",
       "SibSp            0\n",
       "Parch            0\n",
       "Ticket           0\n",
       "Fare             0\n",
       "Cabin          687\n",
       "Embarked         2\n",
       "dtype: int64"
      ]
     },
     "execution_count": 24,
     "metadata": {},
     "output_type": "execute_result"
    }
   ],
   "source": [
    "train_df.isnull().sum()"
   ]
  },
  {
   "cell_type": "code",
   "execution_count": 25,
   "metadata": {
    "execution": {
     "iopub.execute_input": "2020-10-20T11:56:14.264293Z",
     "iopub.status.busy": "2020-10-20T11:56:14.263271Z",
     "iopub.status.idle": "2020-10-20T11:56:14.267365Z",
     "shell.execute_reply": "2020-10-20T11:56:14.266729Z"
    },
    "papermill": {
     "duration": 0.15142,
     "end_time": "2020-10-20T11:56:14.267495",
     "exception": false,
     "start_time": "2020-10-20T11:56:14.116075",
     "status": "completed"
    },
    "tags": []
   },
   "outputs": [
    {
     "data": {
      "text/plain": [
       "PassengerId      0\n",
       "Pclass           0\n",
       "Name             0\n",
       "Sex              0\n",
       "Age             86\n",
       "SibSp            0\n",
       "Parch            0\n",
       "Ticket           0\n",
       "Fare             1\n",
       "Cabin          327\n",
       "Embarked         0\n",
       "dtype: int64"
      ]
     },
     "execution_count": 25,
     "metadata": {},
     "output_type": "execute_result"
    }
   ],
   "source": [
    "test_df.isnull().sum()"
   ]
  },
  {
   "cell_type": "markdown",
   "metadata": {
    "papermill": {
     "duration": 0.139219,
     "end_time": "2020-10-20T11:56:14.546762",
     "exception": false,
     "start_time": "2020-10-20T11:56:14.407543",
     "status": "completed"
    },
    "tags": []
   },
   "source": [
    "## 3. Data Visualize"
   ]
  },
  {
   "cell_type": "markdown",
   "metadata": {
    "papermill": {
     "duration": 0.138853,
     "end_time": "2020-10-20T11:56:14.824900",
     "exception": false,
     "start_time": "2020-10-20T11:56:14.686047",
     "status": "completed"
    },
    "tags": []
   },
   "source": [
    "### 데이터의 시각화"
   ]
  },
  {
   "cell_type": "markdown",
   "metadata": {
    "papermill": {
     "duration": 0.139278,
     "end_time": "2020-10-20T11:56:15.104599",
     "exception": false,
     "start_time": "2020-10-20T11:56:14.965321",
     "status": "completed"
    },
    "tags": []
   },
   "source": [
    "#### 시각화용 라이브러리 설치하고 불러오기"
   ]
  },
  {
   "cell_type": "code",
   "execution_count": 26,
   "metadata": {},
   "outputs": [
    {
     "name": "stdout",
     "output_type": "stream",
     "text": [
      "3.9.2\n"
     ]
    }
   ],
   "source": [
    "import matplotlib\n",
    "print(matplotlib.__version__)"
   ]
  },
  {
   "cell_type": "code",
   "execution_count": 27,
   "metadata": {
    "execution": {
     "iopub.execute_input": "2020-10-20T11:56:15.392810Z",
     "iopub.status.busy": "2020-10-20T11:56:15.391968Z",
     "iopub.status.idle": "2020-10-20T11:56:16.349292Z",
     "shell.execute_reply": "2020-10-20T11:56:16.348577Z"
    },
    "papermill": {
     "duration": 1.104631,
     "end_time": "2020-10-20T11:56:16.349436",
     "exception": false,
     "start_time": "2020-10-20T11:56:15.244805",
     "status": "completed"
    },
    "tags": []
   },
   "outputs": [],
   "source": [
    "%matplotlib inline\n",
    "import matplotlib.pyplot as plt\n",
    "import seaborn as sns"
   ]
  },
  {
   "cell_type": "code",
   "execution_count": 28,
   "metadata": {
    "execution": {
     "iopub.execute_input": "2020-10-20T11:56:16.636703Z",
     "iopub.status.busy": "2020-10-20T11:56:16.635644Z",
     "iopub.status.idle": "2020-10-20T11:56:16.638838Z",
     "shell.execute_reply": "2020-10-20T11:56:16.638104Z"
    },
    "papermill": {
     "duration": 0.148541,
     "end_time": "2020-10-20T11:56:16.638961",
     "exception": false,
     "start_time": "2020-10-20T11:56:16.490420",
     "status": "completed"
    },
    "tags": []
   },
   "outputs": [],
   "source": [
    "plt.style.use('ggplot')"
   ]
  },
  {
   "cell_type": "markdown",
   "metadata": {
    "papermill": {
     "duration": 0.138879,
     "end_time": "2020-10-20T11:56:16.917956",
     "exception": false,
     "start_time": "2020-10-20T11:56:16.779077",
     "status": "completed"
    },
    "tags": []
   },
   "source": [
    "#### 데이터프레임에서 임의의 열 추출하기"
   ]
  },
  {
   "cell_type": "code",
   "execution_count": 29,
   "metadata": {
    "execution": {
     "iopub.execute_input": "2020-10-20T11:56:17.214067Z",
     "iopub.status.busy": "2020-10-20T11:56:17.213131Z",
     "iopub.status.idle": "2020-10-20T11:56:17.217081Z",
     "shell.execute_reply": "2020-10-20T11:56:17.217637Z"
    },
    "papermill": {
     "duration": 0.160365,
     "end_time": "2020-10-20T11:56:17.217815",
     "exception": false,
     "start_time": "2020-10-20T11:56:17.057450",
     "status": "completed"
    },
    "tags": []
   },
   "outputs": [
    {
     "data": {
      "text/html": [
       "<div>\n",
       "<style scoped>\n",
       "    .dataframe tbody tr th:only-of-type {\n",
       "        vertical-align: middle;\n",
       "    }\n",
       "\n",
       "    .dataframe tbody tr th {\n",
       "        vertical-align: top;\n",
       "    }\n",
       "\n",
       "    .dataframe thead th {\n",
       "        text-align: right;\n",
       "    }\n",
       "</style>\n",
       "<table border=\"1\" class=\"dataframe\">\n",
       "  <thead>\n",
       "    <tr style=\"text-align: right;\">\n",
       "      <th></th>\n",
       "      <th>Embarked</th>\n",
       "      <th>Survived</th>\n",
       "      <th>PassengerId</th>\n",
       "    </tr>\n",
       "  </thead>\n",
       "  <tbody>\n",
       "    <tr>\n",
       "      <th>0</th>\n",
       "      <td>S</td>\n",
       "      <td>0</td>\n",
       "      <td>1</td>\n",
       "    </tr>\n",
       "    <tr>\n",
       "      <th>1</th>\n",
       "      <td>C</td>\n",
       "      <td>1</td>\n",
       "      <td>2</td>\n",
       "    </tr>\n",
       "    <tr>\n",
       "      <th>2</th>\n",
       "      <td>S</td>\n",
       "      <td>1</td>\n",
       "      <td>3</td>\n",
       "    </tr>\n",
       "    <tr>\n",
       "      <th>3</th>\n",
       "      <td>S</td>\n",
       "      <td>1</td>\n",
       "      <td>4</td>\n",
       "    </tr>\n",
       "    <tr>\n",
       "      <th>4</th>\n",
       "      <td>S</td>\n",
       "      <td>0</td>\n",
       "      <td>5</td>\n",
       "    </tr>\n",
       "    <tr>\n",
       "      <th>...</th>\n",
       "      <td>...</td>\n",
       "      <td>...</td>\n",
       "      <td>...</td>\n",
       "    </tr>\n",
       "    <tr>\n",
       "      <th>886</th>\n",
       "      <td>S</td>\n",
       "      <td>0</td>\n",
       "      <td>887</td>\n",
       "    </tr>\n",
       "    <tr>\n",
       "      <th>887</th>\n",
       "      <td>S</td>\n",
       "      <td>1</td>\n",
       "      <td>888</td>\n",
       "    </tr>\n",
       "    <tr>\n",
       "      <th>888</th>\n",
       "      <td>S</td>\n",
       "      <td>0</td>\n",
       "      <td>889</td>\n",
       "    </tr>\n",
       "    <tr>\n",
       "      <th>889</th>\n",
       "      <td>C</td>\n",
       "      <td>1</td>\n",
       "      <td>890</td>\n",
       "    </tr>\n",
       "    <tr>\n",
       "      <th>890</th>\n",
       "      <td>Q</td>\n",
       "      <td>0</td>\n",
       "      <td>891</td>\n",
       "    </tr>\n",
       "  </tbody>\n",
       "</table>\n",
       "<p>891 rows × 3 columns</p>\n",
       "</div>"
      ],
      "text/plain": [
       "    Embarked  Survived  PassengerId\n",
       "0          S         0            1\n",
       "1          C         1            2\n",
       "2          S         1            3\n",
       "3          S         1            4\n",
       "4          S         0            5\n",
       "..       ...       ...          ...\n",
       "886        S         0          887\n",
       "887        S         1          888\n",
       "888        S         0          889\n",
       "889        C         1          890\n",
       "890        Q         0          891\n",
       "\n",
       "[891 rows x 3 columns]"
      ]
     },
     "execution_count": 29,
     "metadata": {},
     "output_type": "execute_result"
    }
   ],
   "source": [
    "train_df[[\"Embarked\",\"Survived\",\"PassengerId\"]]"
   ]
  },
  {
   "cell_type": "markdown",
   "metadata": {
    "papermill": {
     "duration": 0.140359,
     "end_time": "2020-10-20T11:56:17.500552",
     "exception": false,
     "start_time": "2020-10-20T11:56:17.360193",
     "status": "completed"
    },
    "tags": []
   },
   "source": [
    "#### 시각화하고 싶은 데이터에서 결측치를 제외하기"
   ]
  },
  {
   "cell_type": "code",
   "execution_count": 30,
   "metadata": {
    "execution": {
     "iopub.execute_input": "2020-10-20T11:56:17.792014Z",
     "iopub.status.busy": "2020-10-20T11:56:17.791270Z",
     "iopub.status.idle": "2020-10-20T11:56:17.819375Z",
     "shell.execute_reply": "2020-10-20T11:56:17.818762Z"
    },
    "papermill": {
     "duration": 0.177792,
     "end_time": "2020-10-20T11:56:17.819510",
     "exception": false,
     "start_time": "2020-10-20T11:56:17.641718",
     "status": "completed"
    },
    "tags": []
   },
   "outputs": [
    {
     "data": {
      "text/html": [
       "<div>\n",
       "<style scoped>\n",
       "    .dataframe tbody tr th:only-of-type {\n",
       "        vertical-align: middle;\n",
       "    }\n",
       "\n",
       "    .dataframe tbody tr th {\n",
       "        vertical-align: top;\n",
       "    }\n",
       "\n",
       "    .dataframe thead th {\n",
       "        text-align: right;\n",
       "    }\n",
       "</style>\n",
       "<table border=\"1\" class=\"dataframe\">\n",
       "  <thead>\n",
       "    <tr style=\"text-align: right;\">\n",
       "      <th></th>\n",
       "      <th>Embarked</th>\n",
       "      <th>Survived</th>\n",
       "      <th>PassengerId</th>\n",
       "    </tr>\n",
       "  </thead>\n",
       "  <tbody>\n",
       "    <tr>\n",
       "      <th>0</th>\n",
       "      <td>S</td>\n",
       "      <td>0</td>\n",
       "      <td>1</td>\n",
       "    </tr>\n",
       "    <tr>\n",
       "      <th>1</th>\n",
       "      <td>C</td>\n",
       "      <td>1</td>\n",
       "      <td>2</td>\n",
       "    </tr>\n",
       "    <tr>\n",
       "      <th>2</th>\n",
       "      <td>S</td>\n",
       "      <td>1</td>\n",
       "      <td>3</td>\n",
       "    </tr>\n",
       "    <tr>\n",
       "      <th>3</th>\n",
       "      <td>S</td>\n",
       "      <td>1</td>\n",
       "      <td>4</td>\n",
       "    </tr>\n",
       "    <tr>\n",
       "      <th>4</th>\n",
       "      <td>S</td>\n",
       "      <td>0</td>\n",
       "      <td>5</td>\n",
       "    </tr>\n",
       "    <tr>\n",
       "      <th>...</th>\n",
       "      <td>...</td>\n",
       "      <td>...</td>\n",
       "      <td>...</td>\n",
       "    </tr>\n",
       "    <tr>\n",
       "      <th>886</th>\n",
       "      <td>S</td>\n",
       "      <td>0</td>\n",
       "      <td>887</td>\n",
       "    </tr>\n",
       "    <tr>\n",
       "      <th>887</th>\n",
       "      <td>S</td>\n",
       "      <td>1</td>\n",
       "      <td>888</td>\n",
       "    </tr>\n",
       "    <tr>\n",
       "      <th>888</th>\n",
       "      <td>S</td>\n",
       "      <td>0</td>\n",
       "      <td>889</td>\n",
       "    </tr>\n",
       "    <tr>\n",
       "      <th>889</th>\n",
       "      <td>C</td>\n",
       "      <td>1</td>\n",
       "      <td>890</td>\n",
       "    </tr>\n",
       "    <tr>\n",
       "      <th>890</th>\n",
       "      <td>Q</td>\n",
       "      <td>0</td>\n",
       "      <td>891</td>\n",
       "    </tr>\n",
       "  </tbody>\n",
       "</table>\n",
       "<p>889 rows × 3 columns</p>\n",
       "</div>"
      ],
      "text/plain": [
       "    Embarked  Survived  PassengerId\n",
       "0          S         0            1\n",
       "1          C         1            2\n",
       "2          S         1            3\n",
       "3          S         1            4\n",
       "4          S         0            5\n",
       "..       ...       ...          ...\n",
       "886        S         0          887\n",
       "887        S         1          888\n",
       "888        S         0          889\n",
       "889        C         1          890\n",
       "890        Q         0          891\n",
       "\n",
       "[889 rows x 3 columns]"
      ]
     },
     "execution_count": 30,
     "metadata": {},
     "output_type": "execute_result"
    }
   ],
   "source": [
    "train_df[[\"Embarked\",\"Survived\",\"PassengerId\"]].dropna()"
   ]
  },
  {
   "cell_type": "markdown",
   "metadata": {
    "papermill": {
     "duration": 0.1423,
     "end_time": "2020-10-20T11:56:18.105204",
     "exception": false,
     "start_time": "2020-10-20T11:56:17.962904",
     "status": "completed"
    },
    "tags": []
   },
   "source": [
    "#### Embarked와 Survived로만 집계기"
   ]
  },
  {
   "cell_type": "code",
   "execution_count": 31,
   "metadata": {
    "execution": {
     "iopub.execute_input": "2020-10-20T11:56:18.399795Z",
     "iopub.status.busy": "2020-10-20T11:56:18.398223Z",
     "iopub.status.idle": "2020-10-20T11:56:18.410554Z",
     "shell.execute_reply": "2020-10-20T11:56:18.411094Z"
    },
    "papermill": {
     "duration": 0.16355,
     "end_time": "2020-10-20T11:56:18.411255",
     "exception": false,
     "start_time": "2020-10-20T11:56:18.247705",
     "status": "completed"
    },
    "tags": []
   },
   "outputs": [
    {
     "data": {
      "text/html": [
       "<div>\n",
       "<style scoped>\n",
       "    .dataframe tbody tr th:only-of-type {\n",
       "        vertical-align: middle;\n",
       "    }\n",
       "\n",
       "    .dataframe tbody tr th {\n",
       "        vertical-align: top;\n",
       "    }\n",
       "\n",
       "    .dataframe thead th {\n",
       "        text-align: right;\n",
       "    }\n",
       "</style>\n",
       "<table border=\"1\" class=\"dataframe\">\n",
       "  <thead>\n",
       "    <tr style=\"text-align: right;\">\n",
       "      <th></th>\n",
       "      <th></th>\n",
       "      <th>PassengerId</th>\n",
       "    </tr>\n",
       "    <tr>\n",
       "      <th>Embarked</th>\n",
       "      <th>Survived</th>\n",
       "      <th></th>\n",
       "    </tr>\n",
       "  </thead>\n",
       "  <tbody>\n",
       "    <tr>\n",
       "      <th rowspan=\"2\" valign=\"top\">C</th>\n",
       "      <th>0</th>\n",
       "      <td>75</td>\n",
       "    </tr>\n",
       "    <tr>\n",
       "      <th>1</th>\n",
       "      <td>93</td>\n",
       "    </tr>\n",
       "    <tr>\n",
       "      <th rowspan=\"2\" valign=\"top\">Q</th>\n",
       "      <th>0</th>\n",
       "      <td>47</td>\n",
       "    </tr>\n",
       "    <tr>\n",
       "      <th>1</th>\n",
       "      <td>30</td>\n",
       "    </tr>\n",
       "    <tr>\n",
       "      <th rowspan=\"2\" valign=\"top\">S</th>\n",
       "      <th>0</th>\n",
       "      <td>427</td>\n",
       "    </tr>\n",
       "    <tr>\n",
       "      <th>1</th>\n",
       "      <td>217</td>\n",
       "    </tr>\n",
       "  </tbody>\n",
       "</table>\n",
       "</div>"
      ],
      "text/plain": [
       "                   PassengerId\n",
       "Embarked Survived             \n",
       "C        0                  75\n",
       "         1                  93\n",
       "Q        0                  47\n",
       "         1                  30\n",
       "S        0                 427\n",
       "         1                 217"
      ]
     },
     "execution_count": 31,
     "metadata": {},
     "output_type": "execute_result"
    }
   ],
   "source": [
    "train_df[[\"Embarked\",\"Survived\",\"PassengerId\"]].dropna().groupby([\"Embarked\",\"Survived\"]).count()"
   ]
  },
  {
   "cell_type": "markdown",
   "metadata": {
    "papermill": {
     "duration": 0.142198,
     "end_time": "2020-10-20T11:56:18.695582",
     "exception": false,
     "start_time": "2020-10-20T11:56:18.553384",
     "status": "completed"
    },
    "tags": []
   },
   "source": [
    "#### 데이터를 수평으로 변환하기"
   ]
  },
  {
   "cell_type": "code",
   "execution_count": 32,
   "metadata": {
    "execution": {
     "iopub.execute_input": "2020-10-20T11:56:18.996977Z",
     "iopub.status.busy": "2020-10-20T11:56:18.995906Z",
     "iopub.status.idle": "2020-10-20T11:56:19.000638Z",
     "shell.execute_reply": "2020-10-20T11:56:18.999942Z"
    },
    "papermill": {
     "duration": 0.161496,
     "end_time": "2020-10-20T11:56:19.000760",
     "exception": false,
     "start_time": "2020-10-20T11:56:18.839264",
     "status": "completed"
    },
    "tags": []
   },
   "outputs": [],
   "source": [
    "embarked_df = train_df[[\"Embarked\",\"Survived\",\"PassengerId\"]].dropna().groupby([\"Embarked\",\"Survived\"]).count().unstack()"
   ]
  },
  {
   "cell_type": "code",
   "execution_count": 33,
   "metadata": {
    "execution": {
     "iopub.execute_input": "2020-10-20T11:56:19.303465Z",
     "iopub.status.busy": "2020-10-20T11:56:19.302430Z",
     "iopub.status.idle": "2020-10-20T11:56:19.305872Z",
     "shell.execute_reply": "2020-10-20T11:56:19.306454Z"
    },
    "papermill": {
     "duration": 0.157589,
     "end_time": "2020-10-20T11:56:19.306602",
     "exception": false,
     "start_time": "2020-10-20T11:56:19.149013",
     "status": "completed"
    },
    "tags": []
   },
   "outputs": [
    {
     "data": {
      "text/html": [
       "<div>\n",
       "<style scoped>\n",
       "    .dataframe tbody tr th:only-of-type {\n",
       "        vertical-align: middle;\n",
       "    }\n",
       "\n",
       "    .dataframe tbody tr th {\n",
       "        vertical-align: top;\n",
       "    }\n",
       "\n",
       "    .dataframe thead tr th {\n",
       "        text-align: left;\n",
       "    }\n",
       "\n",
       "    .dataframe thead tr:last-of-type th {\n",
       "        text-align: right;\n",
       "    }\n",
       "</style>\n",
       "<table border=\"1\" class=\"dataframe\">\n",
       "  <thead>\n",
       "    <tr>\n",
       "      <th></th>\n",
       "      <th colspan=\"2\" halign=\"left\">PassengerId</th>\n",
       "    </tr>\n",
       "    <tr>\n",
       "      <th>Survived</th>\n",
       "      <th>0</th>\n",
       "      <th>1</th>\n",
       "    </tr>\n",
       "    <tr>\n",
       "      <th>Embarked</th>\n",
       "      <th></th>\n",
       "      <th></th>\n",
       "    </tr>\n",
       "  </thead>\n",
       "  <tbody>\n",
       "    <tr>\n",
       "      <th>C</th>\n",
       "      <td>75</td>\n",
       "      <td>93</td>\n",
       "    </tr>\n",
       "    <tr>\n",
       "      <th>Q</th>\n",
       "      <td>47</td>\n",
       "      <td>30</td>\n",
       "    </tr>\n",
       "    <tr>\n",
       "      <th>S</th>\n",
       "      <td>427</td>\n",
       "      <td>217</td>\n",
       "    </tr>\n",
       "  </tbody>\n",
       "</table>\n",
       "</div>"
      ],
      "text/plain": [
       "         PassengerId     \n",
       "Survived           0    1\n",
       "Embarked                 \n",
       "C                 75   93\n",
       "Q                 47   30\n",
       "S                427  217"
      ]
     },
     "execution_count": 33,
     "metadata": {},
     "output_type": "execute_result"
    }
   ],
   "source": [
    "embarked_df"
   ]
  },
  {
   "cell_type": "markdown",
   "metadata": {
    "papermill": {
     "duration": 0.142765,
     "end_time": "2020-10-20T11:56:19.592268",
     "exception": false,
     "start_time": "2020-10-20T11:56:19.449503",
     "status": "completed"
    },
    "tags": []
   },
   "source": [
    "#### 누적 막대 그래프로 시각화하기"
   ]
  },
  {
   "cell_type": "code",
   "execution_count": 34,
   "metadata": {
    "execution": {
     "iopub.execute_input": "2020-10-20T11:56:19.882256Z",
     "iopub.status.busy": "2020-10-20T11:56:19.881491Z",
     "iopub.status.idle": "2020-10-20T11:56:20.104629Z",
     "shell.execute_reply": "2020-10-20T11:56:20.103920Z"
    },
    "papermill": {
     "duration": 0.370162,
     "end_time": "2020-10-20T11:56:20.104760",
     "exception": false,
     "start_time": "2020-10-20T11:56:19.734598",
     "status": "completed"
    },
    "tags": []
   },
   "outputs": [
    {
     "data": {
      "text/plain": [
       "<Axes: xlabel='Embarked'>"
      ]
     },
     "execution_count": 34,
     "metadata": {},
     "output_type": "execute_result"
    },
    {
     "data": {
      "image/png": "[encoded data removed]",
      "text/plain": [
       "<Figure size 640x480 with 1 Axes>"
      ]
     },
     "metadata": {},
     "output_type": "display_data"
    }
   ],
   "source": [
    "embarked_df.plot.bar(stacked=True)"
   ]
  },
  {
   "cell_type": "code",
   "execution_count": 35,
   "metadata": {
    "execution": {
     "iopub.execute_input": "2020-10-20T11:56:20.405024Z",
     "iopub.status.busy": "2020-10-20T11:56:20.404102Z",
     "iopub.status.idle": "2020-10-20T11:56:20.406544Z",
     "shell.execute_reply": "2020-10-20T11:56:20.407081Z"
    },
    "papermill": {
     "duration": 0.156225,
     "end_time": "2020-10-20T11:56:20.407234",
     "exception": false,
     "start_time": "2020-10-20T11:56:20.251009",
     "status": "completed"
    },
    "tags": []
   },
   "outputs": [],
   "source": [
    "embarked_df[\"survived_rate\"]=embarked_df.iloc[:,0]/(embarked_df.iloc[:,0] + embarked_df.iloc[:,1])"
   ]
  },
  {
   "cell_type": "code",
   "execution_count": 36,
   "metadata": {
    "execution": {
     "iopub.execute_input": "2020-10-20T11:56:20.708095Z",
     "iopub.status.busy": "2020-10-20T11:56:20.707011Z",
     "iopub.status.idle": "2020-10-20T11:56:20.711414Z",
     "shell.execute_reply": "2020-10-20T11:56:20.710691Z"
    },
    "papermill": {
     "duration": 0.16017,
     "end_time": "2020-10-20T11:56:20.711534",
     "exception": false,
     "start_time": "2020-10-20T11:56:20.551364",
     "status": "completed"
    },
    "tags": []
   },
   "outputs": [
    {
     "data": {
      "text/html": [
       "<div>\n",
       "<style scoped>\n",
       "    .dataframe tbody tr th:only-of-type {\n",
       "        vertical-align: middle;\n",
       "    }\n",
       "\n",
       "    .dataframe tbody tr th {\n",
       "        vertical-align: top;\n",
       "    }\n",
       "\n",
       "    .dataframe thead tr th {\n",
       "        text-align: left;\n",
       "    }\n",
       "\n",
       "    .dataframe thead tr:last-of-type th {\n",
       "        text-align: right;\n",
       "    }\n",
       "</style>\n",
       "<table border=\"1\" class=\"dataframe\">\n",
       "  <thead>\n",
       "    <tr>\n",
       "      <th></th>\n",
       "      <th colspan=\"2\" halign=\"left\">PassengerId</th>\n",
       "      <th>survived_rate</th>\n",
       "    </tr>\n",
       "    <tr>\n",
       "      <th>Survived</th>\n",
       "      <th>0</th>\n",
       "      <th>1</th>\n",
       "      <th></th>\n",
       "    </tr>\n",
       "    <tr>\n",
       "      <th>Embarked</th>\n",
       "      <th></th>\n",
       "      <th></th>\n",
       "      <th></th>\n",
       "    </tr>\n",
       "  </thead>\n",
       "  <tbody>\n",
       "    <tr>\n",
       "      <th>C</th>\n",
       "      <td>75</td>\n",
       "      <td>93</td>\n",
       "      <td>0.446429</td>\n",
       "    </tr>\n",
       "    <tr>\n",
       "      <th>Q</th>\n",
       "      <td>47</td>\n",
       "      <td>30</td>\n",
       "      <td>0.610390</td>\n",
       "    </tr>\n",
       "    <tr>\n",
       "      <th>S</th>\n",
       "      <td>427</td>\n",
       "      <td>217</td>\n",
       "      <td>0.663043</td>\n",
       "    </tr>\n",
       "  </tbody>\n",
       "</table>\n",
       "</div>"
      ],
      "text/plain": [
       "         PassengerId      survived_rate\n",
       "Survived           0    1              \n",
       "Embarked                               \n",
       "C                 75   93      0.446429\n",
       "Q                 47   30      0.610390\n",
       "S                427  217      0.663043"
      ]
     },
     "execution_count": 36,
     "metadata": {},
     "output_type": "execute_result"
    }
   ],
   "source": [
    "embarked_df"
   ]
  },
  {
   "cell_type": "code",
   "execution_count": 37,
   "metadata": {
    "execution": {
     "iopub.execute_input": "2020-10-20T11:56:21.013579Z",
     "iopub.status.busy": "2020-10-20T11:56:21.011496Z",
     "iopub.status.idle": "2020-10-20T11:56:21.184320Z",
     "shell.execute_reply": "2020-10-20T11:56:21.183583Z"
    },
    "papermill": {
     "duration": 0.328682,
     "end_time": "2020-10-20T11:56:21.184438",
     "exception": false,
     "start_time": "2020-10-20T11:56:20.855756",
     "status": "completed"
    },
    "tags": []
   },
   "outputs": [
    {
     "data": {
      "text/plain": [
       "<Axes: xlabel='Sex'>"
      ]
     },
     "execution_count": 37,
     "metadata": {},
     "output_type": "execute_result"
    },
    {
     "data": {
      "image/png": "[encoded data removed]",
      "text/plain": [
       "<Figure size 640x480 with 1 Axes>"
      ]
     },
     "metadata": {},
     "output_type": "display_data"
    }
   ],
   "source": [
    "sex_df = train_df[[\"Sex\",\"Survived\",\"PassengerId\"]].dropna().groupby([\"Sex\",\"Survived\"]).count().unstack()\n",
    "sex_df.plot.bar(stacked=True)"
   ]
  },
  {
   "cell_type": "code",
   "execution_count": 38,
   "metadata": {
    "execution": {
     "iopub.execute_input": "2020-10-20T11:56:21.491019Z",
     "iopub.status.busy": "2020-10-20T11:56:21.488662Z",
     "iopub.status.idle": "2020-10-20T11:56:21.654386Z",
     "shell.execute_reply": "2020-10-20T11:56:21.653654Z"
    },
    "papermill": {
     "duration": 0.321051,
     "end_time": "2020-10-20T11:56:21.654504",
     "exception": false,
     "start_time": "2020-10-20T11:56:21.333453",
     "status": "completed"
    },
    "tags": []
   },
   "outputs": [
    {
     "data": {
      "text/plain": [
       "<Axes: xlabel='Pclass'>"
      ]
     },
     "execution_count": 38,
     "metadata": {},
     "output_type": "execute_result"
    },
    {
     "data": {
      "image/png": "[encoded data removed]",
      "text/plain": [
       "<Figure size 640x480 with 1 Axes>"
      ]
     },
     "metadata": {},
     "output_type": "display_data"
    }
   ],
   "source": [
    "ticket_df = train_df[[\"Pclass\",\"Survived\",\"PassengerId\"]].dropna().groupby([\"Pclass\",\"Survived\"]).count().unstack()\n",
    "ticket_df.plot.bar(stacked=True)"
   ]
  },
  {
   "cell_type": "markdown",
   "metadata": {
    "papermill": {
     "duration": 0.150604,
     "end_time": "2020-10-20T11:56:21.953577",
     "exception": false,
     "start_time": "2020-10-20T11:56:21.802973",
     "status": "completed"
    },
    "tags": []
   },
   "source": [
    "#### 히스토그램으로 시각화하기"
   ]
  },
  {
   "cell_type": "code",
   "execution_count": 39,
   "metadata": {
    "execution": {
     "iopub.execute_input": "2020-10-20T11:56:22.378101Z",
     "iopub.status.busy": "2020-10-20T11:56:22.303902Z",
     "iopub.status.idle": "2020-10-20T11:56:22.588516Z",
     "shell.execute_reply": "2020-10-20T11:56:22.589066Z"
    },
    "papermill": {
     "duration": 0.481103,
     "end_time": "2020-10-20T11:56:22.589249",
     "exception": false,
     "start_time": "2020-10-20T11:56:22.108146",
     "status": "completed"
    },
    "tags": []
   },
   "outputs": [
    {
     "data": {
      "text/plain": [
       "<matplotlib.legend.Legend at 0x12e417a30>"
      ]
     },
     "execution_count": 39,
     "metadata": {},
     "output_type": "execute_result"
    },
    {
     "data": {
      "image/png": "[encoded data removed]",
      "text/plain": [
       "<Figure size 640x480 with 1 Axes>"
      ]
     },
     "metadata": {},
     "output_type": "display_data"
    }
   ],
   "source": [
    "plt.hist(x=[train_df.Age[train_df.Survived==0], train_df.Age[train_df.Survived==1]], bins=8  , histtype='barstacked', label=[\"Death\",\"Survived\"])\n",
    "plt.legend()\n"
   ]
  },
  {
   "cell_type": "markdown",
   "metadata": {
    "papermill": {
     "duration": 0.149217,
     "end_time": "2020-10-20T11:56:22.888586",
     "exception": false,
     "start_time": "2020-10-20T11:56:22.739369",
     "status": "completed"
    },
    "tags": []
   },
   "source": [
    "#### 카테고리 변수를 더미 변수화하기"
   ]
  },
  {
   "cell_type": "code",
   "execution_count": 40,
   "metadata": {
    "execution": {
     "iopub.execute_input": "2020-10-20T11:56:23.203726Z",
     "iopub.status.busy": "2020-10-20T11:56:23.200008Z",
     "iopub.status.idle": "2020-10-20T11:56:23.214212Z",
     "shell.execute_reply": "2020-10-20T11:56:23.214789Z"
    },
    "papermill": {
     "duration": 0.174672,
     "end_time": "2020-10-20T11:56:23.214958",
     "exception": false,
     "start_time": "2020-10-20T11:56:23.040286",
     "status": "completed"
    },
    "tags": []
   },
   "outputs": [],
   "source": [
    "train_df_corr = pd.get_dummies(train_df, columns=[\"Sex\"],drop_first=True)\n",
    "train_df_corr = pd.get_dummies(train_df_corr, columns=[\"Embarked\"])"
   ]
  },
  {
   "cell_type": "code",
   "execution_count": 41,
   "metadata": {
    "execution": {
     "iopub.execute_input": "2020-10-20T11:56:23.533658Z",
     "iopub.status.busy": "2020-10-20T11:56:23.532621Z",
     "iopub.status.idle": "2020-10-20T11:56:23.537483Z",
     "shell.execute_reply": "2020-10-20T11:56:23.536661Z"
    },
    "papermill": {
     "duration": 0.17277,
     "end_time": "2020-10-20T11:56:23.537609",
     "exception": false,
     "start_time": "2020-10-20T11:56:23.364839",
     "status": "completed"
    },
    "tags": []
   },
   "outputs": [
    {
     "data": {
      "text/html": [
       "<div>\n",
       "<style scoped>\n",
       "    .dataframe tbody tr th:only-of-type {\n",
       "        vertical-align: middle;\n",
       "    }\n",
       "\n",
       "    .dataframe tbody tr th {\n",
       "        vertical-align: top;\n",
       "    }\n",
       "\n",
       "    .dataframe thead th {\n",
       "        text-align: right;\n",
       "    }\n",
       "</style>\n",
       "<table border=\"1\" class=\"dataframe\">\n",
       "  <thead>\n",
       "    <tr style=\"text-align: right;\">\n",
       "      <th></th>\n",
       "      <th>PassengerId</th>\n",
       "      <th>Survived</th>\n",
       "      <th>Pclass</th>\n",
       "      <th>Name</th>\n",
       "      <th>Age</th>\n",
       "      <th>SibSp</th>\n",
       "      <th>Parch</th>\n",
       "      <th>Ticket</th>\n",
       "      <th>Fare</th>\n",
       "      <th>Cabin</th>\n",
       "      <th>Sex_male</th>\n",
       "      <th>Embarked_C</th>\n",
       "      <th>Embarked_Q</th>\n",
       "      <th>Embarked_S</th>\n",
       "    </tr>\n",
       "  </thead>\n",
       "  <tbody>\n",
       "    <tr>\n",
       "      <th>0</th>\n",
       "      <td>1</td>\n",
       "      <td>0</td>\n",
       "      <td>3</td>\n",
       "      <td>Braund, Mr. Owen Harris</td>\n",
       "      <td>22.0</td>\n",
       "      <td>1</td>\n",
       "      <td>0</td>\n",
       "      <td>A/5 21171</td>\n",
       "      <td>7.2500</td>\n",
       "      <td>NaN</td>\n",
       "      <td>True</td>\n",
       "      <td>False</td>\n",
       "      <td>False</td>\n",
       "      <td>True</td>\n",
       "    </tr>\n",
       "    <tr>\n",
       "      <th>1</th>\n",
       "      <td>2</td>\n",
       "      <td>1</td>\n",
       "      <td>1</td>\n",
       "      <td>Cumings, Mrs. John Bradley (Florence Briggs Th...</td>\n",
       "      <td>38.0</td>\n",
       "      <td>1</td>\n",
       "      <td>0</td>\n",
       "      <td>PC 17599</td>\n",
       "      <td>71.2833</td>\n",
       "      <td>C85</td>\n",
       "      <td>False</td>\n",
       "      <td>True</td>\n",
       "      <td>False</td>\n",
       "      <td>False</td>\n",
       "    </tr>\n",
       "    <tr>\n",
       "      <th>2</th>\n",
       "      <td>3</td>\n",
       "      <td>1</td>\n",
       "      <td>3</td>\n",
       "      <td>Heikkinen, Miss. Laina</td>\n",
       "      <td>26.0</td>\n",
       "      <td>0</td>\n",
       "      <td>0</td>\n",
       "      <td>STON/O2. 3101282</td>\n",
       "      <td>7.9250</td>\n",
       "      <td>NaN</td>\n",
       "      <td>False</td>\n",
       "      <td>False</td>\n",
       "      <td>False</td>\n",
       "      <td>True</td>\n",
       "    </tr>\n",
       "    <tr>\n",
       "      <th>3</th>\n",
       "      <td>4</td>\n",
       "      <td>1</td>\n",
       "      <td>1</td>\n",
       "      <td>Futrelle, Mrs. Jacques Heath (Lily May Peel)</td>\n",
       "      <td>35.0</td>\n",
       "      <td>1</td>\n",
       "      <td>0</td>\n",
       "      <td>113803</td>\n",
       "      <td>53.1000</td>\n",
       "      <td>C123</td>\n",
       "      <td>False</td>\n",
       "      <td>False</td>\n",
       "      <td>False</td>\n",
       "      <td>True</td>\n",
       "    </tr>\n",
       "    <tr>\n",
       "      <th>4</th>\n",
       "      <td>5</td>\n",
       "      <td>0</td>\n",
       "      <td>3</td>\n",
       "      <td>Allen, Mr. William Henry</td>\n",
       "      <td>35.0</td>\n",
       "      <td>0</td>\n",
       "      <td>0</td>\n",
       "      <td>373450</td>\n",
       "      <td>8.0500</td>\n",
       "      <td>NaN</td>\n",
       "      <td>True</td>\n",
       "      <td>False</td>\n",
       "      <td>False</td>\n",
       "      <td>True</td>\n",
       "    </tr>\n",
       "  </tbody>\n",
       "</table>\n",
       "</div>"
      ],
      "text/plain": [
       "   PassengerId  Survived  Pclass  \\\n",
       "0            1         0       3   \n",
       "1            2         1       1   \n",
       "2            3         1       3   \n",
       "3            4         1       1   \n",
       "4            5         0       3   \n",
       "\n",
       "                                                Name   Age  SibSp  Parch  \\\n",
       "0                            Braund, Mr. Owen Harris  22.0      1      0   \n",
       "1  Cumings, Mrs. John Bradley (Florence Briggs Th...  38.0      1      0   \n",
       "2                             Heikkinen, Miss. Laina  26.0      0      0   \n",
       "3       Futrelle, Mrs. Jacques Heath (Lily May Peel)  35.0      1      0   \n",
       "4                           Allen, Mr. William Henry  35.0      0      0   \n",
       "\n",
       "             Ticket     Fare Cabin  Sex_male  Embarked_C  Embarked_Q  \\\n",
       "0         A/5 21171   7.2500   NaN      True       False       False   \n",
       "1          PC 17599  71.2833   C85     False        True       False   \n",
       "2  STON/O2. 3101282   7.9250   NaN     False       False       False   \n",
       "3            113803  53.1000  C123     False       False       False   \n",
       "4            373450   8.0500   NaN      True       False       False   \n",
       "\n",
       "   Embarked_S  \n",
       "0        True  \n",
       "1       False  \n",
       "2        True  \n",
       "3        True  \n",
       "4        True  "
      ]
     },
     "execution_count": 41,
     "metadata": {},
     "output_type": "execute_result"
    }
   ],
   "source": [
    "train_df_corr.head()"
   ]
  },
  {
   "cell_type": "markdown",
   "metadata": {
    "papermill": {
     "duration": 0.149266,
     "end_time": "2020-10-20T11:56:23.837414",
     "exception": false,
     "start_time": "2020-10-20T11:56:23.688148",
     "status": "completed"
    },
    "tags": []
   },
   "source": [
    "#### 상관 행렬 작성하기"
   ]
  },
  {
   "cell_type": "code",
   "execution_count": 42,
   "metadata": {
    "execution": {
     "iopub.execute_input": "2020-10-20T11:56:24.143877Z",
     "iopub.status.busy": "2020-10-20T11:56:24.143034Z",
     "iopub.status.idle": "2020-10-20T11:56:24.150438Z",
     "shell.execute_reply": "2020-10-20T11:56:24.149852Z"
    },
    "papermill": {
     "duration": 0.163015,
     "end_time": "2020-10-20T11:56:24.150563",
     "exception": false,
     "start_time": "2020-10-20T11:56:23.987548",
     "status": "completed"
    },
    "tags": []
   },
   "outputs": [
    {
     "ename": "ValueError",
     "evalue": "could not convert string to float: 'Braund, Mr. Owen Harris'",
     "output_type": "error",
     "traceback": [
      "\u001b[0;31m---------------------------------------------------------------------------\u001b[0m",
      "\u001b[0;31mValueError\u001b[0m                                Traceback (most recent call last)",
      "Cell \u001b[0;32mIn[42], line 1\u001b[0m\n\u001b[0;32m----> 1\u001b[0m train_corr \u001b[38;5;241m=\u001b[39m \u001b[43mtrain_df_corr\u001b[49m\u001b[38;5;241;43m.\u001b[39;49m\u001b[43mcorr\u001b[49m\u001b[43m(\u001b[49m\u001b[43m)\u001b[49m\n",
      "File \u001b[0;32m~/Documents/devstudy/data_science/.venv/lib/python3.10/site-packages/pandas/core/frame.py:11049\u001b[0m, in \u001b[0;36mDataFrame.corr\u001b[0;34m(self, method, min_periods, numeric_only)\u001b[0m\n\u001b[1;32m  11047\u001b[0m cols \u001b[38;5;241m=\u001b[39m data\u001b[38;5;241m.\u001b[39mcolumns\n\u001b[1;32m  11048\u001b[0m idx \u001b[38;5;241m=\u001b[39m cols\u001b[38;5;241m.\u001b[39mcopy()\n\u001b[0;32m> 11049\u001b[0m mat \u001b[38;5;241m=\u001b[39m \u001b[43mdata\u001b[49m\u001b[38;5;241;43m.\u001b[39;49m\u001b[43mto_numpy\u001b[49m\u001b[43m(\u001b[49m\u001b[43mdtype\u001b[49m\u001b[38;5;241;43m=\u001b[39;49m\u001b[38;5;28;43mfloat\u001b[39;49m\u001b[43m,\u001b[49m\u001b[43m \u001b[49m\u001b[43mna_value\u001b[49m\u001b[38;5;241;43m=\u001b[39;49m\u001b[43mnp\u001b[49m\u001b[38;5;241;43m.\u001b[39;49m\u001b[43mnan\u001b[49m\u001b[43m,\u001b[49m\u001b[43m \u001b[49m\u001b[43mcopy\u001b[49m\u001b[38;5;241;43m=\u001b[39;49m\u001b[38;5;28;43;01mFalse\u001b[39;49;00m\u001b[43m)\u001b[49m\n\u001b[1;32m  11051\u001b[0m \u001b[38;5;28;01mif\u001b[39;00m method \u001b[38;5;241m==\u001b[39m \u001b[38;5;124m\"\u001b[39m\u001b[38;5;124mpearson\u001b[39m\u001b[38;5;124m\"\u001b[39m:\n\u001b[1;32m  11052\u001b[0m     correl \u001b[38;5;241m=\u001b[39m libalgos\u001b[38;5;241m.\u001b[39mnancorr(mat, minp\u001b[38;5;241m=\u001b[39mmin_periods)\n",
      "File \u001b[0;32m~/Documents/devstudy/data_science/.venv/lib/python3.10/site-packages/pandas/core/frame.py:1993\u001b[0m, in \u001b[0;36mDataFrame.to_numpy\u001b[0;34m(self, dtype, copy, na_value)\u001b[0m\n\u001b[1;32m   1991\u001b[0m \u001b[38;5;28;01mif\u001b[39;00m dtype \u001b[38;5;129;01mis\u001b[39;00m \u001b[38;5;129;01mnot\u001b[39;00m \u001b[38;5;28;01mNone\u001b[39;00m:\n\u001b[1;32m   1992\u001b[0m     dtype \u001b[38;5;241m=\u001b[39m np\u001b[38;5;241m.\u001b[39mdtype(dtype)\n\u001b[0;32m-> 1993\u001b[0m result \u001b[38;5;241m=\u001b[39m \u001b[38;5;28;43mself\u001b[39;49m\u001b[38;5;241;43m.\u001b[39;49m\u001b[43m_mgr\u001b[49m\u001b[38;5;241;43m.\u001b[39;49m\u001b[43mas_array\u001b[49m\u001b[43m(\u001b[49m\u001b[43mdtype\u001b[49m\u001b[38;5;241;43m=\u001b[39;49m\u001b[43mdtype\u001b[49m\u001b[43m,\u001b[49m\u001b[43m \u001b[49m\u001b[43mcopy\u001b[49m\u001b[38;5;241;43m=\u001b[39;49m\u001b[43mcopy\u001b[49m\u001b[43m,\u001b[49m\u001b[43m \u001b[49m\u001b[43mna_value\u001b[49m\u001b[38;5;241;43m=\u001b[39;49m\u001b[43mna_value\u001b[49m\u001b[43m)\u001b[49m\n\u001b[1;32m   1994\u001b[0m \u001b[38;5;28;01mif\u001b[39;00m result\u001b[38;5;241m.\u001b[39mdtype \u001b[38;5;129;01mis\u001b[39;00m \u001b[38;5;129;01mnot\u001b[39;00m dtype:\n\u001b[1;32m   1995\u001b[0m     result \u001b[38;5;241m=\u001b[39m np\u001b[38;5;241m.\u001b[39masarray(result, dtype\u001b[38;5;241m=\u001b[39mdtype)\n",
      "File \u001b[0;32m~/Documents/devstudy/data_science/.venv/lib/python3.10/site-packages/pandas/core/internals/managers.py:1694\u001b[0m, in \u001b[0;36mBlockManager.as_array\u001b[0;34m(self, dtype, copy, na_value)\u001b[0m\n\u001b[1;32m   1692\u001b[0m         arr\u001b[38;5;241m.\u001b[39mflags\u001b[38;5;241m.\u001b[39mwriteable \u001b[38;5;241m=\u001b[39m \u001b[38;5;28;01mFalse\u001b[39;00m\n\u001b[1;32m   1693\u001b[0m \u001b[38;5;28;01melse\u001b[39;00m:\n\u001b[0;32m-> 1694\u001b[0m     arr \u001b[38;5;241m=\u001b[39m \u001b[38;5;28;43mself\u001b[39;49m\u001b[38;5;241;43m.\u001b[39;49m\u001b[43m_interleave\u001b[49m\u001b[43m(\u001b[49m\u001b[43mdtype\u001b[49m\u001b[38;5;241;43m=\u001b[39;49m\u001b[43mdtype\u001b[49m\u001b[43m,\u001b[49m\u001b[43m \u001b[49m\u001b[43mna_value\u001b[49m\u001b[38;5;241;43m=\u001b[39;49m\u001b[43mna_value\u001b[49m\u001b[43m)\u001b[49m\n\u001b[1;32m   1695\u001b[0m     \u001b[38;5;66;03m# The underlying data was copied within _interleave, so no need\u001b[39;00m\n\u001b[1;32m   1696\u001b[0m     \u001b[38;5;66;03m# to further copy if copy=True or setting na_value\u001b[39;00m\n\u001b[1;32m   1698\u001b[0m \u001b[38;5;28;01mif\u001b[39;00m na_value \u001b[38;5;129;01mis\u001b[39;00m lib\u001b[38;5;241m.\u001b[39mno_default:\n",
      "File \u001b[0;32m~/Documents/devstudy/data_science/.venv/lib/python3.10/site-packages/pandas/core/internals/managers.py:1753\u001b[0m, in \u001b[0;36mBlockManager._interleave\u001b[0;34m(self, dtype, na_value)\u001b[0m\n\u001b[1;32m   1751\u001b[0m     \u001b[38;5;28;01melse\u001b[39;00m:\n\u001b[1;32m   1752\u001b[0m         arr \u001b[38;5;241m=\u001b[39m blk\u001b[38;5;241m.\u001b[39mget_values(dtype)\n\u001b[0;32m-> 1753\u001b[0m     \u001b[43mresult\u001b[49m\u001b[43m[\u001b[49m\u001b[43mrl\u001b[49m\u001b[38;5;241;43m.\u001b[39;49m\u001b[43mindexer\u001b[49m\u001b[43m]\u001b[49m \u001b[38;5;241m=\u001b[39m arr\n\u001b[1;32m   1754\u001b[0m     itemmask[rl\u001b[38;5;241m.\u001b[39mindexer] \u001b[38;5;241m=\u001b[39m \u001b[38;5;241m1\u001b[39m\n\u001b[1;32m   1756\u001b[0m \u001b[38;5;28;01mif\u001b[39;00m \u001b[38;5;129;01mnot\u001b[39;00m itemmask\u001b[38;5;241m.\u001b[39mall():\n",
      "\u001b[0;31mValueError\u001b[0m: could not convert string to float: 'Braund, Mr. Owen Harris'"
     ]
    }
   ],
   "source": [
    "train_corr = train_df_corr.corr()"
   ]
  },
  {
   "cell_type": "code",
   "execution_count": null,
   "metadata": {
    "execution": {
     "iopub.execute_input": "2020-10-20T11:56:24.475953Z",
     "iopub.status.busy": "2020-10-20T11:56:24.475126Z",
     "iopub.status.idle": "2020-10-20T11:56:24.480981Z",
     "shell.execute_reply": "2020-10-20T11:56:24.480242Z"
    },
    "papermill": {
     "duration": 0.178923,
     "end_time": "2020-10-20T11:56:24.481109",
     "exception": false,
     "start_time": "2020-10-20T11:56:24.302186",
     "status": "completed"
    },
    "tags": []
   },
   "outputs": [
    {
     "data": {
      "text/html": [
       "<div>\n",
       "<style scoped>\n",
       "    .dataframe tbody tr th:only-of-type {\n",
       "        vertical-align: middle;\n",
       "    }\n",
       "\n",
       "    .dataframe tbody tr th {\n",
       "        vertical-align: top;\n",
       "    }\n",
       "\n",
       "    .dataframe thead th {\n",
       "        text-align: right;\n",
       "    }\n",
       "</style>\n",
       "<table border=\"1\" class=\"dataframe\">\n",
       "  <thead>\n",
       "    <tr style=\"text-align: right;\">\n",
       "      <th></th>\n",
       "      <th>PassengerId</th>\n",
       "      <th>Survived</th>\n",
       "      <th>Pclass</th>\n",
       "      <th>Age</th>\n",
       "      <th>SibSp</th>\n",
       "      <th>Parch</th>\n",
       "      <th>Fare</th>\n",
       "      <th>Sex_male</th>\n",
       "      <th>Embarked_C</th>\n",
       "      <th>Embarked_Q</th>\n",
       "      <th>Embarked_S</th>\n",
       "    </tr>\n",
       "  </thead>\n",
       "  <tbody>\n",
       "    <tr>\n",
       "      <th>PassengerId</th>\n",
       "      <td>1.000000</td>\n",
       "      <td>-0.005007</td>\n",
       "      <td>-0.035144</td>\n",
       "      <td>0.036847</td>\n",
       "      <td>-0.057527</td>\n",
       "      <td>-0.001652</td>\n",
       "      <td>0.012658</td>\n",
       "      <td>0.042939</td>\n",
       "      <td>-0.001205</td>\n",
       "      <td>-0.033606</td>\n",
       "      <td>0.022148</td>\n",
       "    </tr>\n",
       "    <tr>\n",
       "      <th>Survived</th>\n",
       "      <td>-0.005007</td>\n",
       "      <td>1.000000</td>\n",
       "      <td>-0.338481</td>\n",
       "      <td>-0.077221</td>\n",
       "      <td>-0.035322</td>\n",
       "      <td>0.081629</td>\n",
       "      <td>0.257307</td>\n",
       "      <td>-0.543351</td>\n",
       "      <td>0.168240</td>\n",
       "      <td>0.003650</td>\n",
       "      <td>-0.155660</td>\n",
       "    </tr>\n",
       "    <tr>\n",
       "      <th>Pclass</th>\n",
       "      <td>-0.035144</td>\n",
       "      <td>-0.338481</td>\n",
       "      <td>1.000000</td>\n",
       "      <td>-0.369226</td>\n",
       "      <td>0.083081</td>\n",
       "      <td>0.018443</td>\n",
       "      <td>-0.549500</td>\n",
       "      <td>0.131900</td>\n",
       "      <td>-0.243292</td>\n",
       "      <td>0.221009</td>\n",
       "      <td>0.081720</td>\n",
       "    </tr>\n",
       "    <tr>\n",
       "      <th>Age</th>\n",
       "      <td>0.036847</td>\n",
       "      <td>-0.077221</td>\n",
       "      <td>-0.369226</td>\n",
       "      <td>1.000000</td>\n",
       "      <td>-0.308247</td>\n",
       "      <td>-0.189119</td>\n",
       "      <td>0.096067</td>\n",
       "      <td>0.093254</td>\n",
       "      <td>0.036261</td>\n",
       "      <td>-0.022405</td>\n",
       "      <td>-0.032523</td>\n",
       "    </tr>\n",
       "    <tr>\n",
       "      <th>SibSp</th>\n",
       "      <td>-0.057527</td>\n",
       "      <td>-0.035322</td>\n",
       "      <td>0.083081</td>\n",
       "      <td>-0.308247</td>\n",
       "      <td>1.000000</td>\n",
       "      <td>0.414838</td>\n",
       "      <td>0.159651</td>\n",
       "      <td>-0.114631</td>\n",
       "      <td>-0.059528</td>\n",
       "      <td>-0.026354</td>\n",
       "      <td>0.070941</td>\n",
       "    </tr>\n",
       "    <tr>\n",
       "      <th>Parch</th>\n",
       "      <td>-0.001652</td>\n",
       "      <td>0.081629</td>\n",
       "      <td>0.018443</td>\n",
       "      <td>-0.189119</td>\n",
       "      <td>0.414838</td>\n",
       "      <td>1.000000</td>\n",
       "      <td>0.216225</td>\n",
       "      <td>-0.245489</td>\n",
       "      <td>-0.011069</td>\n",
       "      <td>-0.081228</td>\n",
       "      <td>0.063036</td>\n",
       "    </tr>\n",
       "    <tr>\n",
       "      <th>Fare</th>\n",
       "      <td>0.012658</td>\n",
       "      <td>0.257307</td>\n",
       "      <td>-0.549500</td>\n",
       "      <td>0.096067</td>\n",
       "      <td>0.159651</td>\n",
       "      <td>0.216225</td>\n",
       "      <td>1.000000</td>\n",
       "      <td>-0.182333</td>\n",
       "      <td>0.269335</td>\n",
       "      <td>-0.117216</td>\n",
       "      <td>-0.166603</td>\n",
       "    </tr>\n",
       "    <tr>\n",
       "      <th>Sex_male</th>\n",
       "      <td>0.042939</td>\n",
       "      <td>-0.543351</td>\n",
       "      <td>0.131900</td>\n",
       "      <td>0.093254</td>\n",
       "      <td>-0.114631</td>\n",
       "      <td>-0.245489</td>\n",
       "      <td>-0.182333</td>\n",
       "      <td>1.000000</td>\n",
       "      <td>-0.082853</td>\n",
       "      <td>-0.074115</td>\n",
       "      <td>0.125722</td>\n",
       "    </tr>\n",
       "    <tr>\n",
       "      <th>Embarked_C</th>\n",
       "      <td>-0.001205</td>\n",
       "      <td>0.168240</td>\n",
       "      <td>-0.243292</td>\n",
       "      <td>0.036261</td>\n",
       "      <td>-0.059528</td>\n",
       "      <td>-0.011069</td>\n",
       "      <td>0.269335</td>\n",
       "      <td>-0.082853</td>\n",
       "      <td>1.000000</td>\n",
       "      <td>-0.148258</td>\n",
       "      <td>-0.778359</td>\n",
       "    </tr>\n",
       "    <tr>\n",
       "      <th>Embarked_Q</th>\n",
       "      <td>-0.033606</td>\n",
       "      <td>0.003650</td>\n",
       "      <td>0.221009</td>\n",
       "      <td>-0.022405</td>\n",
       "      <td>-0.026354</td>\n",
       "      <td>-0.081228</td>\n",
       "      <td>-0.117216</td>\n",
       "      <td>-0.074115</td>\n",
       "      <td>-0.148258</td>\n",
       "      <td>1.000000</td>\n",
       "      <td>-0.496624</td>\n",
       "    </tr>\n",
       "    <tr>\n",
       "      <th>Embarked_S</th>\n",
       "      <td>0.022148</td>\n",
       "      <td>-0.155660</td>\n",
       "      <td>0.081720</td>\n",
       "      <td>-0.032523</td>\n",
       "      <td>0.070941</td>\n",
       "      <td>0.063036</td>\n",
       "      <td>-0.166603</td>\n",
       "      <td>0.125722</td>\n",
       "      <td>-0.778359</td>\n",
       "      <td>-0.496624</td>\n",
       "      <td>1.000000</td>\n",
       "    </tr>\n",
       "  </tbody>\n",
       "</table>\n",
       "</div>"
      ],
      "text/plain": [
       "             PassengerId  Survived    Pclass       Age     SibSp     Parch  \\\n",
       "PassengerId     1.000000 -0.005007 -0.035144  0.036847 -0.057527 -0.001652   \n",
       "Survived       -0.005007  1.000000 -0.338481 -0.077221 -0.035322  0.081629   \n",
       "Pclass         -0.035144 -0.338481  1.000000 -0.369226  0.083081  0.018443   \n",
       "Age             0.036847 -0.077221 -0.369226  1.000000 -0.308247 -0.189119   \n",
       "SibSp          -0.057527 -0.035322  0.083081 -0.308247  1.000000  0.414838   \n",
       "Parch          -0.001652  0.081629  0.018443 -0.189119  0.414838  1.000000   \n",
       "Fare            0.012658  0.257307 -0.549500  0.096067  0.159651  0.216225   \n",
       "Sex_male        0.042939 -0.543351  0.131900  0.093254 -0.114631 -0.245489   \n",
       "Embarked_C     -0.001205  0.168240 -0.243292  0.036261 -0.059528 -0.011069   \n",
       "Embarked_Q     -0.033606  0.003650  0.221009 -0.022405 -0.026354 -0.081228   \n",
       "Embarked_S      0.022148 -0.155660  0.081720 -0.032523  0.070941  0.063036   \n",
       "\n",
       "                 Fare  Sex_male  Embarked_C  Embarked_Q  Embarked_S  \n",
       "PassengerId  0.012658  0.042939   -0.001205   -0.033606    0.022148  \n",
       "Survived     0.257307 -0.543351    0.168240    0.003650   -0.155660  \n",
       "Pclass      -0.549500  0.131900   -0.243292    0.221009    0.081720  \n",
       "Age          0.096067  0.093254    0.036261   -0.022405   -0.032523  \n",
       "SibSp        0.159651 -0.114631   -0.059528   -0.026354    0.070941  \n",
       "Parch        0.216225 -0.245489   -0.011069   -0.081228    0.063036  \n",
       "Fare         1.000000 -0.182333    0.269335   -0.117216   -0.166603  \n",
       "Sex_male    -0.182333  1.000000   -0.082853   -0.074115    0.125722  \n",
       "Embarked_C   0.269335 -0.082853    1.000000   -0.148258   -0.778359  \n",
       "Embarked_Q  -0.117216 -0.074115   -0.148258    1.000000   -0.496624  \n",
       "Embarked_S  -0.166603  0.125722   -0.778359   -0.496624    1.000000  "
      ]
     },
     "execution_count": 37,
     "metadata": {},
     "output_type": "execute_result"
    }
   ],
   "source": [
    "train_corr"
   ]
  },
  {
   "cell_type": "code",
   "execution_count": null,
   "metadata": {
    "execution": {
     "iopub.execute_input": "2020-10-20T11:56:24.803472Z",
     "iopub.status.busy": "2020-10-20T11:56:24.794228Z",
     "iopub.status.idle": "2020-10-20T11:56:25.520907Z",
     "shell.execute_reply": "2020-10-20T11:56:25.520279Z"
    },
    "papermill": {
     "duration": 0.884182,
     "end_time": "2020-10-20T11:56:25.521037",
     "exception": false,
     "start_time": "2020-10-20T11:56:24.636855",
     "status": "completed"
    },
    "tags": []
   },
   "outputs": [
    {
     "data": {
      "text/plain": [
       "<matplotlib.axes._subplots.AxesSubplot at 0x1df7fd62b48>"
      ]
     },
     "execution_count": 38,
     "metadata": {},
     "output_type": "execute_result"
    },
    {
     "data": {
      "image/png": "[encoded data removed]",
      "text/plain": [
       "<Figure size 648x648 with 2 Axes>"
      ]
     },
     "metadata": {},
     "output_type": "display_data"
    }
   ],
   "source": [
    "plt.figure(figsize=(9, 9))\n",
    "sns.heatmap(train_corr, vmax=1, vmin=-1, center=0, annot=True)"
   ]
  },
  {
   "cell_type": "markdown",
   "metadata": {
    "papermill": {
     "duration": 0.154008,
     "end_time": "2020-10-20T11:56:25.830402",
     "exception": false,
     "start_time": "2020-10-20T11:56:25.676394",
     "status": "completed"
    },
    "tags": []
   },
   "source": [
    "## 4. Preprocessing & Feature Engineering"
   ]
  },
  {
   "cell_type": "markdown",
   "metadata": {
    "papermill": {
     "duration": 0.155948,
     "end_time": "2020-10-20T11:56:26.142423",
     "exception": false,
     "start_time": "2020-10-20T11:56:25.986475",
     "status": "completed"
    },
    "tags": []
   },
   "source": [
    "### 데이터 전처리와 특징값 생성"
   ]
  },
  {
   "cell_type": "markdown",
   "metadata": {
    "papermill": {
     "duration": 0.155488,
     "end_time": "2020-10-20T11:56:26.453048",
     "exception": false,
     "start_time": "2020-10-20T11:56:26.297560",
     "status": "completed"
    },
    "tags": []
   },
   "source": [
    "#### 학습 데이터와 테스트 데이터의 통합"
   ]
  },
  {
   "cell_type": "code",
   "execution_count": 43,
   "metadata": {
    "execution": {
     "iopub.execute_input": "2020-10-20T11:56:26.774082Z",
     "iopub.status.busy": "2020-10-20T11:56:26.769911Z",
     "iopub.status.idle": "2020-10-20T11:56:26.779257Z",
     "shell.execute_reply": "2020-10-20T11:56:26.778655Z"
    },
    "papermill": {
     "duration": 0.170348,
     "end_time": "2020-10-20T11:56:26.779387",
     "exception": false,
     "start_time": "2020-10-20T11:56:26.609039",
     "status": "completed"
    },
    "tags": []
   },
   "outputs": [],
   "source": [
    "all_df = pd.concat([train_df, test_df],sort=False).reset_index(drop=True)"
   ]
  },
  {
   "cell_type": "code",
   "execution_count": 44,
   "metadata": {
    "execution": {
     "iopub.execute_input": "2020-10-20T11:56:27.110266Z",
     "iopub.status.busy": "2020-10-20T11:56:27.102499Z",
     "iopub.status.idle": "2020-10-20T11:56:27.128731Z",
     "shell.execute_reply": "2020-10-20T11:56:27.128168Z"
    },
    "papermill": {
     "duration": 0.193019,
     "end_time": "2020-10-20T11:56:27.128882",
     "exception": false,
     "start_time": "2020-10-20T11:56:26.935863",
     "status": "completed"
    },
    "tags": []
   },
   "outputs": [
    {
     "data": {
      "text/html": [
       "<div>\n",
       "<style scoped>\n",
       "    .dataframe tbody tr th:only-of-type {\n",
       "        vertical-align: middle;\n",
       "    }\n",
       "\n",
       "    .dataframe tbody tr th {\n",
       "        vertical-align: top;\n",
       "    }\n",
       "\n",
       "    .dataframe thead th {\n",
       "        text-align: right;\n",
       "    }\n",
       "</style>\n",
       "<table border=\"1\" class=\"dataframe\">\n",
       "  <thead>\n",
       "    <tr style=\"text-align: right;\">\n",
       "      <th></th>\n",
       "      <th>PassengerId</th>\n",
       "      <th>Survived</th>\n",
       "      <th>Pclass</th>\n",
       "      <th>Name</th>\n",
       "      <th>Sex</th>\n",
       "      <th>Age</th>\n",
       "      <th>SibSp</th>\n",
       "      <th>Parch</th>\n",
       "      <th>Ticket</th>\n",
       "      <th>Fare</th>\n",
       "      <th>Cabin</th>\n",
       "      <th>Embarked</th>\n",
       "    </tr>\n",
       "  </thead>\n",
       "  <tbody>\n",
       "    <tr>\n",
       "      <th>0</th>\n",
       "      <td>1</td>\n",
       "      <td>0.0</td>\n",
       "      <td>3</td>\n",
       "      <td>Braund, Mr. Owen Harris</td>\n",
       "      <td>male</td>\n",
       "      <td>22.0</td>\n",
       "      <td>1</td>\n",
       "      <td>0</td>\n",
       "      <td>A/5 21171</td>\n",
       "      <td>7.2500</td>\n",
       "      <td>NaN</td>\n",
       "      <td>S</td>\n",
       "    </tr>\n",
       "    <tr>\n",
       "      <th>1</th>\n",
       "      <td>2</td>\n",
       "      <td>1.0</td>\n",
       "      <td>1</td>\n",
       "      <td>Cumings, Mrs. John Bradley (Florence Briggs Th...</td>\n",
       "      <td>female</td>\n",
       "      <td>38.0</td>\n",
       "      <td>1</td>\n",
       "      <td>0</td>\n",
       "      <td>PC 17599</td>\n",
       "      <td>71.2833</td>\n",
       "      <td>C85</td>\n",
       "      <td>C</td>\n",
       "    </tr>\n",
       "    <tr>\n",
       "      <th>2</th>\n",
       "      <td>3</td>\n",
       "      <td>1.0</td>\n",
       "      <td>3</td>\n",
       "      <td>Heikkinen, Miss. Laina</td>\n",
       "      <td>female</td>\n",
       "      <td>26.0</td>\n",
       "      <td>0</td>\n",
       "      <td>0</td>\n",
       "      <td>STON/O2. 3101282</td>\n",
       "      <td>7.9250</td>\n",
       "      <td>NaN</td>\n",
       "      <td>S</td>\n",
       "    </tr>\n",
       "    <tr>\n",
       "      <th>3</th>\n",
       "      <td>4</td>\n",
       "      <td>1.0</td>\n",
       "      <td>1</td>\n",
       "      <td>Futrelle, Mrs. Jacques Heath (Lily May Peel)</td>\n",
       "      <td>female</td>\n",
       "      <td>35.0</td>\n",
       "      <td>1</td>\n",
       "      <td>0</td>\n",
       "      <td>113803</td>\n",
       "      <td>53.1000</td>\n",
       "      <td>C123</td>\n",
       "      <td>S</td>\n",
       "    </tr>\n",
       "    <tr>\n",
       "      <th>4</th>\n",
       "      <td>5</td>\n",
       "      <td>0.0</td>\n",
       "      <td>3</td>\n",
       "      <td>Allen, Mr. William Henry</td>\n",
       "      <td>male</td>\n",
       "      <td>35.0</td>\n",
       "      <td>0</td>\n",
       "      <td>0</td>\n",
       "      <td>373450</td>\n",
       "      <td>8.0500</td>\n",
       "      <td>NaN</td>\n",
       "      <td>S</td>\n",
       "    </tr>\n",
       "    <tr>\n",
       "      <th>...</th>\n",
       "      <td>...</td>\n",
       "      <td>...</td>\n",
       "      <td>...</td>\n",
       "      <td>...</td>\n",
       "      <td>...</td>\n",
       "      <td>...</td>\n",
       "      <td>...</td>\n",
       "      <td>...</td>\n",
       "      <td>...</td>\n",
       "      <td>...</td>\n",
       "      <td>...</td>\n",
       "      <td>...</td>\n",
       "    </tr>\n",
       "    <tr>\n",
       "      <th>1304</th>\n",
       "      <td>1305</td>\n",
       "      <td>NaN</td>\n",
       "      <td>3</td>\n",
       "      <td>Spector, Mr. Woolf</td>\n",
       "      <td>male</td>\n",
       "      <td>NaN</td>\n",
       "      <td>0</td>\n",
       "      <td>0</td>\n",
       "      <td>A.5. 3236</td>\n",
       "      <td>8.0500</td>\n",
       "      <td>NaN</td>\n",
       "      <td>S</td>\n",
       "    </tr>\n",
       "    <tr>\n",
       "      <th>1305</th>\n",
       "      <td>1306</td>\n",
       "      <td>NaN</td>\n",
       "      <td>1</td>\n",
       "      <td>Oliva y Ocana, Dona. Fermina</td>\n",
       "      <td>female</td>\n",
       "      <td>39.0</td>\n",
       "      <td>0</td>\n",
       "      <td>0</td>\n",
       "      <td>PC 17758</td>\n",
       "      <td>108.9000</td>\n",
       "      <td>C105</td>\n",
       "      <td>C</td>\n",
       "    </tr>\n",
       "    <tr>\n",
       "      <th>1306</th>\n",
       "      <td>1307</td>\n",
       "      <td>NaN</td>\n",
       "      <td>3</td>\n",
       "      <td>Saether, Mr. Simon Sivertsen</td>\n",
       "      <td>male</td>\n",
       "      <td>38.5</td>\n",
       "      <td>0</td>\n",
       "      <td>0</td>\n",
       "      <td>SOTON/O.Q. 3101262</td>\n",
       "      <td>7.2500</td>\n",
       "      <td>NaN</td>\n",
       "      <td>S</td>\n",
       "    </tr>\n",
       "    <tr>\n",
       "      <th>1307</th>\n",
       "      <td>1308</td>\n",
       "      <td>NaN</td>\n",
       "      <td>3</td>\n",
       "      <td>Ware, Mr. Frederick</td>\n",
       "      <td>male</td>\n",
       "      <td>NaN</td>\n",
       "      <td>0</td>\n",
       "      <td>0</td>\n",
       "      <td>359309</td>\n",
       "      <td>8.0500</td>\n",
       "      <td>NaN</td>\n",
       "      <td>S</td>\n",
       "    </tr>\n",
       "    <tr>\n",
       "      <th>1308</th>\n",
       "      <td>1309</td>\n",
       "      <td>NaN</td>\n",
       "      <td>3</td>\n",
       "      <td>Peter, Master. Michael J</td>\n",
       "      <td>male</td>\n",
       "      <td>NaN</td>\n",
       "      <td>1</td>\n",
       "      <td>1</td>\n",
       "      <td>2668</td>\n",
       "      <td>22.3583</td>\n",
       "      <td>NaN</td>\n",
       "      <td>C</td>\n",
       "    </tr>\n",
       "  </tbody>\n",
       "</table>\n",
       "<p>1309 rows × 12 columns</p>\n",
       "</div>"
      ],
      "text/plain": [
       "      PassengerId  Survived  Pclass  \\\n",
       "0               1       0.0       3   \n",
       "1               2       1.0       1   \n",
       "2               3       1.0       3   \n",
       "3               4       1.0       1   \n",
       "4               5       0.0       3   \n",
       "...           ...       ...     ...   \n",
       "1304         1305       NaN       3   \n",
       "1305         1306       NaN       1   \n",
       "1306         1307       NaN       3   \n",
       "1307         1308       NaN       3   \n",
       "1308         1309       NaN       3   \n",
       "\n",
       "                                                   Name     Sex   Age  SibSp  \\\n",
       "0                               Braund, Mr. Owen Harris    male  22.0      1   \n",
       "1     Cumings, Mrs. John Bradley (Florence Briggs Th...  female  38.0      1   \n",
       "2                                Heikkinen, Miss. Laina  female  26.0      0   \n",
       "3          Futrelle, Mrs. Jacques Heath (Lily May Peel)  female  35.0      1   \n",
       "4                              Allen, Mr. William Henry    male  35.0      0   \n",
       "...                                                 ...     ...   ...    ...   \n",
       "1304                                 Spector, Mr. Woolf    male   NaN      0   \n",
       "1305                       Oliva y Ocana, Dona. Fermina  female  39.0      0   \n",
       "1306                       Saether, Mr. Simon Sivertsen    male  38.5      0   \n",
       "1307                                Ware, Mr. Frederick    male   NaN      0   \n",
       "1308                           Peter, Master. Michael J    male   NaN      1   \n",
       "\n",
       "      Parch              Ticket      Fare Cabin Embarked  \n",
       "0         0           A/5 21171    7.2500   NaN        S  \n",
       "1         0            PC 17599   71.2833   C85        C  \n",
       "2         0    STON/O2. 3101282    7.9250   NaN        S  \n",
       "3         0              113803   53.1000  C123        S  \n",
       "4         0              373450    8.0500   NaN        S  \n",
       "...     ...                 ...       ...   ...      ...  \n",
       "1304      0           A.5. 3236    8.0500   NaN        S  \n",
       "1305      0            PC 17758  108.9000  C105        C  \n",
       "1306      0  SOTON/O.Q. 3101262    7.2500   NaN        S  \n",
       "1307      0              359309    8.0500   NaN        S  \n",
       "1308      1                2668   22.3583   NaN        C  \n",
       "\n",
       "[1309 rows x 12 columns]"
      ]
     },
     "execution_count": 44,
     "metadata": {},
     "output_type": "execute_result"
    }
   ],
   "source": [
    "all_df"
   ]
  },
  {
   "cell_type": "markdown",
   "metadata": {
    "papermill": {
     "duration": 0.156342,
     "end_time": "2020-10-20T11:56:27.441745",
     "exception": false,
     "start_time": "2020-10-20T11:56:27.285403",
     "status": "completed"
    },
    "tags": []
   },
   "source": [
    "#### 전체 데이터로 결측치 수 확인하기"
   ]
  },
  {
   "cell_type": "code",
   "execution_count": 45,
   "metadata": {
    "execution": {
     "iopub.execute_input": "2020-10-20T11:56:27.763243Z",
     "iopub.status.busy": "2020-10-20T11:56:27.762382Z",
     "iopub.status.idle": "2020-10-20T11:56:27.767142Z",
     "shell.execute_reply": "2020-10-20T11:56:27.766416Z"
    },
    "papermill": {
     "duration": 0.169463,
     "end_time": "2020-10-20T11:56:27.767262",
     "exception": false,
     "start_time": "2020-10-20T11:56:27.597799",
     "status": "completed"
    },
    "tags": []
   },
   "outputs": [
    {
     "data": {
      "text/plain": [
       "PassengerId       0\n",
       "Survived        418\n",
       "Pclass            0\n",
       "Name              0\n",
       "Sex               0\n",
       "Age             263\n",
       "SibSp             0\n",
       "Parch             0\n",
       "Ticket            0\n",
       "Fare              1\n",
       "Cabin          1014\n",
       "Embarked          2\n",
       "dtype: int64"
      ]
     },
     "execution_count": 45,
     "metadata": {},
     "output_type": "execute_result"
    }
   ],
   "source": [
    "all_df.isnull().sum()"
   ]
  },
  {
   "cell_type": "markdown",
   "metadata": {
    "papermill": {
     "duration": 0.157413,
     "end_time": "2020-10-20T11:56:28.082406",
     "exception": false,
     "start_time": "2020-10-20T11:56:27.924993",
     "status": "completed"
    },
    "tags": []
   },
   "source": [
    "#### 결측치 메우기"
   ]
  },
  {
   "cell_type": "code",
   "execution_count": 46,
   "metadata": {
    "execution": {
     "iopub.execute_input": "2020-10-20T11:56:28.409483Z",
     "iopub.status.busy": "2020-10-20T11:56:28.405229Z",
     "iopub.status.idle": "2020-10-20T11:56:28.414279Z",
     "shell.execute_reply": "2020-10-20T11:56:28.413539Z"
    },
    "papermill": {
     "duration": 0.173293,
     "end_time": "2020-10-20T11:56:28.414399",
     "exception": false,
     "start_time": "2020-10-20T11:56:28.241106",
     "status": "completed"
    },
    "tags": []
   },
   "outputs": [],
   "source": [
    "Fare_mean = all_df[[\"Pclass\",\"Fare\"]].groupby(\"Pclass\").mean().reset_index()"
   ]
  },
  {
   "cell_type": "code",
   "execution_count": 47,
   "metadata": {
    "execution": {
     "iopub.execute_input": "2020-10-20T11:56:28.734346Z",
     "iopub.status.busy": "2020-10-20T11:56:28.733570Z",
     "iopub.status.idle": "2020-10-20T11:56:28.736628Z",
     "shell.execute_reply": "2020-10-20T11:56:28.737247Z"
    },
    "papermill": {
     "duration": 0.165534,
     "end_time": "2020-10-20T11:56:28.737415",
     "exception": false,
     "start_time": "2020-10-20T11:56:28.571881",
     "status": "completed"
    },
    "tags": []
   },
   "outputs": [],
   "source": [
    "Fare_mean.columns = [\"Pclass\",\"Fare_mean\"]"
   ]
  },
  {
   "cell_type": "code",
   "execution_count": 48,
   "metadata": {
    "execution": {
     "iopub.execute_input": "2020-10-20T11:56:29.063267Z",
     "iopub.status.busy": "2020-10-20T11:56:29.062176Z",
     "iopub.status.idle": "2020-10-20T11:56:29.066471Z",
     "shell.execute_reply": "2020-10-20T11:56:29.067023Z"
    },
    "papermill": {
     "duration": 0.172061,
     "end_time": "2020-10-20T11:56:29.067195",
     "exception": false,
     "start_time": "2020-10-20T11:56:28.895134",
     "status": "completed"
    },
    "tags": []
   },
   "outputs": [
    {
     "data": {
      "text/html": [
       "<div>\n",
       "<style scoped>\n",
       "    .dataframe tbody tr th:only-of-type {\n",
       "        vertical-align: middle;\n",
       "    }\n",
       "\n",
       "    .dataframe tbody tr th {\n",
       "        vertical-align: top;\n",
       "    }\n",
       "\n",
       "    .dataframe thead th {\n",
       "        text-align: right;\n",
       "    }\n",
       "</style>\n",
       "<table border=\"1\" class=\"dataframe\">\n",
       "  <thead>\n",
       "    <tr style=\"text-align: right;\">\n",
       "      <th></th>\n",
       "      <th>Pclass</th>\n",
       "      <th>Fare_mean</th>\n",
       "    </tr>\n",
       "  </thead>\n",
       "  <tbody>\n",
       "    <tr>\n",
       "      <th>0</th>\n",
       "      <td>1</td>\n",
       "      <td>87.508992</td>\n",
       "    </tr>\n",
       "    <tr>\n",
       "      <th>1</th>\n",
       "      <td>2</td>\n",
       "      <td>21.179196</td>\n",
       "    </tr>\n",
       "    <tr>\n",
       "      <th>2</th>\n",
       "      <td>3</td>\n",
       "      <td>13.302889</td>\n",
       "    </tr>\n",
       "  </tbody>\n",
       "</table>\n",
       "</div>"
      ],
      "text/plain": [
       "   Pclass  Fare_mean\n",
       "0       1  87.508992\n",
       "1       2  21.179196\n",
       "2       3  13.302889"
      ]
     },
     "execution_count": 48,
     "metadata": {},
     "output_type": "execute_result"
    }
   ],
   "source": [
    "Fare_mean"
   ]
  },
  {
   "cell_type": "code",
   "execution_count": 49,
   "metadata": {
    "execution": {
     "iopub.execute_input": "2020-10-20T11:56:29.401661Z",
     "iopub.status.busy": "2020-10-20T11:56:29.397058Z",
     "iopub.status.idle": "2020-10-20T11:56:29.410405Z",
     "shell.execute_reply": "2020-10-20T11:56:29.409638Z"
    },
    "papermill": {
     "duration": 0.180288,
     "end_time": "2020-10-20T11:56:29.410539",
     "exception": false,
     "start_time": "2020-10-20T11:56:29.230251",
     "status": "completed"
    },
    "tags": []
   },
   "outputs": [],
   "source": [
    "all_df = pd.merge(all_df, Fare_mean, on=\"Pclass\",how=\"left\")\n",
    "all_df.loc[(all_df[\"Fare\"].isnull()), \"Fare\"] = all_df[\"Fare_mean\"]\n",
    "all_df = all_df.drop(\"Fare_mean\",axis=1)"
   ]
  },
  {
   "cell_type": "markdown",
   "metadata": {
    "papermill": {
     "duration": 0.157428,
     "end_time": "2020-10-20T11:56:29.726391",
     "exception": false,
     "start_time": "2020-10-20T11:56:29.568963",
     "status": "completed"
    },
    "tags": []
   },
   "source": [
    "#### Name의 호칭에 주목하기"
   ]
  },
  {
   "cell_type": "code",
   "execution_count": 50,
   "metadata": {
    "execution": {
     "iopub.execute_input": "2020-10-20T11:56:30.051687Z",
     "iopub.status.busy": "2020-10-20T11:56:30.050840Z",
     "iopub.status.idle": "2020-10-20T11:56:30.054600Z",
     "shell.execute_reply": "2020-10-20T11:56:30.055148Z"
    },
    "papermill": {
     "duration": 0.170208,
     "end_time": "2020-10-20T11:56:30.055326",
     "exception": false,
     "start_time": "2020-10-20T11:56:29.885118",
     "status": "completed"
    },
    "tags": []
   },
   "outputs": [
    {
     "data": {
      "text/plain": [
       "0                              Braund, Mr. Owen Harris\n",
       "1    Cumings, Mrs. John Bradley (Florence Briggs Th...\n",
       "2                               Heikkinen, Miss. Laina\n",
       "3         Futrelle, Mrs. Jacques Heath (Lily May Peel)\n",
       "4                             Allen, Mr. William Henry\n",
       "Name: Name, dtype: object"
      ]
     },
     "execution_count": 50,
     "metadata": {},
     "output_type": "execute_result"
    }
   ],
   "source": [
    "all_df[\"Name\"].head()"
   ]
  },
  {
   "cell_type": "code",
   "execution_count": 55,
   "metadata": {
    "execution": {
     "iopub.execute_input": "2020-10-20T11:56:30.384357Z",
     "iopub.status.busy": "2020-10-20T11:56:30.383631Z",
     "iopub.status.idle": "2020-10-20T11:56:30.390533Z",
     "shell.execute_reply": "2020-10-20T11:56:30.389824Z"
    },
    "papermill": {
     "duration": 0.175331,
     "end_time": "2020-10-20T11:56:30.390654",
     "exception": false,
     "start_time": "2020-10-20T11:56:30.215323",
     "status": "completed"
    },
    "tags": []
   },
   "outputs": [],
   "source": [
    "name_df = all_df[\"Name\"].str.split(\"[,.]\",expand=True)"
   ]
  },
  {
   "cell_type": "code",
   "execution_count": 57,
   "metadata": {
    "execution": {
     "iopub.execute_input": "2020-10-20T11:56:30.714824Z",
     "iopub.status.busy": "2020-10-20T11:56:30.713852Z",
     "iopub.status.idle": "2020-10-20T11:56:30.717263Z",
     "shell.execute_reply": "2020-10-20T11:56:30.716604Z"
    },
    "papermill": {
     "duration": 0.166986,
     "end_time": "2020-10-20T11:56:30.717388",
     "exception": false,
     "start_time": "2020-10-20T11:56:30.550402",
     "status": "completed"
    },
    "tags": []
   },
   "outputs": [],
   "source": [
    "name_df.columns = [\"family_name\",\"honorific\",\"name\",\"_\"]"
   ]
  },
  {
   "cell_type": "code",
   "execution_count": 58,
   "metadata": {
    "execution": {
     "iopub.execute_input": "2020-10-20T11:56:31.052008Z",
     "iopub.status.busy": "2020-10-20T11:56:31.051089Z",
     "iopub.status.idle": "2020-10-20T11:56:31.055375Z",
     "shell.execute_reply": "2020-10-20T11:56:31.054723Z"
    },
    "papermill": {
     "duration": 0.179084,
     "end_time": "2020-10-20T11:56:31.055497",
     "exception": false,
     "start_time": "2020-10-20T11:56:30.876413",
     "status": "completed"
    },
    "tags": []
   },
   "outputs": [
    {
     "data": {
      "text/html": [
       "<div>\n",
       "<style scoped>\n",
       "    .dataframe tbody tr th:only-of-type {\n",
       "        vertical-align: middle;\n",
       "    }\n",
       "\n",
       "    .dataframe tbody tr th {\n",
       "        vertical-align: top;\n",
       "    }\n",
       "\n",
       "    .dataframe thead th {\n",
       "        text-align: right;\n",
       "    }\n",
       "</style>\n",
       "<table border=\"1\" class=\"dataframe\">\n",
       "  <thead>\n",
       "    <tr style=\"text-align: right;\">\n",
       "      <th></th>\n",
       "      <th>family_name</th>\n",
       "      <th>honorific</th>\n",
       "      <th>name</th>\n",
       "      <th>_</th>\n",
       "    </tr>\n",
       "  </thead>\n",
       "  <tbody>\n",
       "    <tr>\n",
       "      <th>0</th>\n",
       "      <td>Braund</td>\n",
       "      <td>Mr</td>\n",
       "      <td>Owen Harris</td>\n",
       "      <td>None</td>\n",
       "    </tr>\n",
       "    <tr>\n",
       "      <th>1</th>\n",
       "      <td>Cumings</td>\n",
       "      <td>Mrs</td>\n",
       "      <td>John Bradley (Florence Briggs Thayer)</td>\n",
       "      <td>None</td>\n",
       "    </tr>\n",
       "    <tr>\n",
       "      <th>2</th>\n",
       "      <td>Heikkinen</td>\n",
       "      <td>Miss</td>\n",
       "      <td>Laina</td>\n",
       "      <td>None</td>\n",
       "    </tr>\n",
       "    <tr>\n",
       "      <th>3</th>\n",
       "      <td>Futrelle</td>\n",
       "      <td>Mrs</td>\n",
       "      <td>Jacques Heath (Lily May Peel)</td>\n",
       "      <td>None</td>\n",
       "    </tr>\n",
       "    <tr>\n",
       "      <th>4</th>\n",
       "      <td>Allen</td>\n",
       "      <td>Mr</td>\n",
       "      <td>William Henry</td>\n",
       "      <td>None</td>\n",
       "    </tr>\n",
       "    <tr>\n",
       "      <th>...</th>\n",
       "      <td>...</td>\n",
       "      <td>...</td>\n",
       "      <td>...</td>\n",
       "      <td>...</td>\n",
       "    </tr>\n",
       "    <tr>\n",
       "      <th>1304</th>\n",
       "      <td>Spector</td>\n",
       "      <td>Mr</td>\n",
       "      <td>Woolf</td>\n",
       "      <td>None</td>\n",
       "    </tr>\n",
       "    <tr>\n",
       "      <th>1305</th>\n",
       "      <td>Oliva y Ocana</td>\n",
       "      <td>Dona</td>\n",
       "      <td>Fermina</td>\n",
       "      <td>None</td>\n",
       "    </tr>\n",
       "    <tr>\n",
       "      <th>1306</th>\n",
       "      <td>Saether</td>\n",
       "      <td>Mr</td>\n",
       "      <td>Simon Sivertsen</td>\n",
       "      <td>None</td>\n",
       "    </tr>\n",
       "    <tr>\n",
       "      <th>1307</th>\n",
       "      <td>Ware</td>\n",
       "      <td>Mr</td>\n",
       "      <td>Frederick</td>\n",
       "      <td>None</td>\n",
       "    </tr>\n",
       "    <tr>\n",
       "      <th>1308</th>\n",
       "      <td>Peter</td>\n",
       "      <td>Master</td>\n",
       "      <td>Michael J</td>\n",
       "      <td>None</td>\n",
       "    </tr>\n",
       "  </tbody>\n",
       "</table>\n",
       "<p>1309 rows × 4 columns</p>\n",
       "</div>"
      ],
      "text/plain": [
       "        family_name honorific                                    name     _\n",
       "0            Braund        Mr                             Owen Harris  None\n",
       "1           Cumings       Mrs   John Bradley (Florence Briggs Thayer)  None\n",
       "2         Heikkinen      Miss                                   Laina  None\n",
       "3          Futrelle       Mrs           Jacques Heath (Lily May Peel)  None\n",
       "4             Allen        Mr                           William Henry  None\n",
       "...             ...       ...                                     ...   ...\n",
       "1304        Spector        Mr                                   Woolf  None\n",
       "1305  Oliva y Ocana      Dona                                 Fermina  None\n",
       "1306        Saether        Mr                         Simon Sivertsen  None\n",
       "1307           Ware        Mr                               Frederick  None\n",
       "1308          Peter    Master                               Michael J  None\n",
       "\n",
       "[1309 rows x 4 columns]"
      ]
     },
     "execution_count": 58,
     "metadata": {},
     "output_type": "execute_result"
    }
   ],
   "source": [
    "name_df"
   ]
  },
  {
   "cell_type": "code",
   "execution_count": 59,
   "metadata": {
    "execution": {
     "iopub.execute_input": "2020-10-20T11:56:31.387697Z",
     "iopub.status.busy": "2020-10-20T11:56:31.386671Z",
     "iopub.status.idle": "2020-10-20T11:56:31.390316Z",
     "shell.execute_reply": "2020-10-20T11:56:31.389575Z"
    },
    "papermill": {
     "duration": 0.17498,
     "end_time": "2020-10-20T11:56:31.390437",
     "exception": false,
     "start_time": "2020-10-20T11:56:31.215457",
     "status": "completed"
    },
    "tags": []
   },
   "outputs": [],
   "source": [
    "name_df[\"family_name\"] =name_df[\"family_name\"].str.strip()\n",
    "name_df[\"honorific\"] =name_df[\"honorific\"].str.strip()\n",
    "name_df[\"name\"] =name_df[\"name\"].str.strip()"
   ]
  },
  {
   "cell_type": "code",
   "execution_count": 60,
   "metadata": {
    "execution": {
     "iopub.execute_input": "2020-10-20T11:56:31.720643Z",
     "iopub.status.busy": "2020-10-20T11:56:31.719578Z",
     "iopub.status.idle": "2020-10-20T11:56:31.724069Z",
     "shell.execute_reply": "2020-10-20T11:56:31.723298Z"
    },
    "papermill": {
     "duration": 0.172941,
     "end_time": "2020-10-20T11:56:31.724190",
     "exception": false,
     "start_time": "2020-10-20T11:56:31.551249",
     "status": "completed"
    },
    "tags": []
   },
   "outputs": [
    {
     "data": {
      "text/plain": [
       "honorific\n",
       "Mr              757\n",
       "Miss            260\n",
       "Mrs             197\n",
       "Master           61\n",
       "Rev               8\n",
       "Dr                8\n",
       "Col               4\n",
       "Mlle              2\n",
       "Major             2\n",
       "Ms                2\n",
       "Lady              1\n",
       "Sir               1\n",
       "Mme               1\n",
       "Don               1\n",
       "Capt              1\n",
       "the Countess      1\n",
       "Jonkheer          1\n",
       "Dona              1\n",
       "Name: count, dtype: int64"
      ]
     },
     "execution_count": 60,
     "metadata": {},
     "output_type": "execute_result"
    }
   ],
   "source": [
    "name_df[\"honorific\"].value_counts()"
   ]
  },
  {
   "cell_type": "code",
   "execution_count": 61,
   "metadata": {
    "execution": {
     "iopub.execute_input": "2020-10-20T11:56:32.056142Z",
     "iopub.status.busy": "2020-10-20T11:56:32.055113Z",
     "iopub.status.idle": "2020-10-20T11:56:32.058563Z",
     "shell.execute_reply": "2020-10-20T11:56:32.057761Z"
    },
    "papermill": {
     "duration": 0.174026,
     "end_time": "2020-10-20T11:56:32.058689",
     "exception": false,
     "start_time": "2020-10-20T11:56:31.884663",
     "status": "completed"
    },
    "tags": []
   },
   "outputs": [],
   "source": [
    "all_df = pd.concat([all_df, name_df],axis=1)"
   ]
  },
  {
   "cell_type": "code",
   "execution_count": 62,
   "metadata": {
    "execution": {
     "iopub.execute_input": "2020-10-20T11:56:32.412159Z",
     "iopub.status.busy": "2020-10-20T11:56:32.406326Z",
     "iopub.status.idle": "2020-10-20T11:56:32.427754Z",
     "shell.execute_reply": "2020-10-20T11:56:32.427164Z"
    },
    "papermill": {
     "duration": 0.202775,
     "end_time": "2020-10-20T11:56:32.427935",
     "exception": false,
     "start_time": "2020-10-20T11:56:32.225160",
     "status": "completed"
    },
    "tags": []
   },
   "outputs": [
    {
     "data": {
      "text/html": [
       "<div>\n",
       "<style scoped>\n",
       "    .dataframe tbody tr th:only-of-type {\n",
       "        vertical-align: middle;\n",
       "    }\n",
       "\n",
       "    .dataframe tbody tr th {\n",
       "        vertical-align: top;\n",
       "    }\n",
       "\n",
       "    .dataframe thead th {\n",
       "        text-align: right;\n",
       "    }\n",
       "</style>\n",
       "<table border=\"1\" class=\"dataframe\">\n",
       "  <thead>\n",
       "    <tr style=\"text-align: right;\">\n",
       "      <th></th>\n",
       "      <th>PassengerId</th>\n",
       "      <th>Survived</th>\n",
       "      <th>Pclass</th>\n",
       "      <th>Name</th>\n",
       "      <th>Sex</th>\n",
       "      <th>Age</th>\n",
       "      <th>SibSp</th>\n",
       "      <th>Parch</th>\n",
       "      <th>Ticket</th>\n",
       "      <th>Fare</th>\n",
       "      <th>Cabin</th>\n",
       "      <th>Embarked</th>\n",
       "      <th>family_name</th>\n",
       "      <th>honorific</th>\n",
       "      <th>name</th>\n",
       "      <th>_</th>\n",
       "    </tr>\n",
       "  </thead>\n",
       "  <tbody>\n",
       "    <tr>\n",
       "      <th>0</th>\n",
       "      <td>1</td>\n",
       "      <td>0.0</td>\n",
       "      <td>3</td>\n",
       "      <td>Braund, Mr. Owen Harris</td>\n",
       "      <td>male</td>\n",
       "      <td>22.0</td>\n",
       "      <td>1</td>\n",
       "      <td>0</td>\n",
       "      <td>A/5 21171</td>\n",
       "      <td>7.2500</td>\n",
       "      <td>NaN</td>\n",
       "      <td>S</td>\n",
       "      <td>Braund</td>\n",
       "      <td>Mr</td>\n",
       "      <td>Owen Harris</td>\n",
       "      <td>None</td>\n",
       "    </tr>\n",
       "    <tr>\n",
       "      <th>1</th>\n",
       "      <td>2</td>\n",
       "      <td>1.0</td>\n",
       "      <td>1</td>\n",
       "      <td>Cumings, Mrs. John Bradley (Florence Briggs Th...</td>\n",
       "      <td>female</td>\n",
       "      <td>38.0</td>\n",
       "      <td>1</td>\n",
       "      <td>0</td>\n",
       "      <td>PC 17599</td>\n",
       "      <td>71.2833</td>\n",
       "      <td>C85</td>\n",
       "      <td>C</td>\n",
       "      <td>Cumings</td>\n",
       "      <td>Mrs</td>\n",
       "      <td>John Bradley (Florence Briggs Thayer)</td>\n",
       "      <td>None</td>\n",
       "    </tr>\n",
       "    <tr>\n",
       "      <th>2</th>\n",
       "      <td>3</td>\n",
       "      <td>1.0</td>\n",
       "      <td>3</td>\n",
       "      <td>Heikkinen, Miss. Laina</td>\n",
       "      <td>female</td>\n",
       "      <td>26.0</td>\n",
       "      <td>0</td>\n",
       "      <td>0</td>\n",
       "      <td>STON/O2. 3101282</td>\n",
       "      <td>7.9250</td>\n",
       "      <td>NaN</td>\n",
       "      <td>S</td>\n",
       "      <td>Heikkinen</td>\n",
       "      <td>Miss</td>\n",
       "      <td>Laina</td>\n",
       "      <td>None</td>\n",
       "    </tr>\n",
       "    <tr>\n",
       "      <th>3</th>\n",
       "      <td>4</td>\n",
       "      <td>1.0</td>\n",
       "      <td>1</td>\n",
       "      <td>Futrelle, Mrs. Jacques Heath (Lily May Peel)</td>\n",
       "      <td>female</td>\n",
       "      <td>35.0</td>\n",
       "      <td>1</td>\n",
       "      <td>0</td>\n",
       "      <td>113803</td>\n",
       "      <td>53.1000</td>\n",
       "      <td>C123</td>\n",
       "      <td>S</td>\n",
       "      <td>Futrelle</td>\n",
       "      <td>Mrs</td>\n",
       "      <td>Jacques Heath (Lily May Peel)</td>\n",
       "      <td>None</td>\n",
       "    </tr>\n",
       "    <tr>\n",
       "      <th>4</th>\n",
       "      <td>5</td>\n",
       "      <td>0.0</td>\n",
       "      <td>3</td>\n",
       "      <td>Allen, Mr. William Henry</td>\n",
       "      <td>male</td>\n",
       "      <td>35.0</td>\n",
       "      <td>0</td>\n",
       "      <td>0</td>\n",
       "      <td>373450</td>\n",
       "      <td>8.0500</td>\n",
       "      <td>NaN</td>\n",
       "      <td>S</td>\n",
       "      <td>Allen</td>\n",
       "      <td>Mr</td>\n",
       "      <td>William Henry</td>\n",
       "      <td>None</td>\n",
       "    </tr>\n",
       "    <tr>\n",
       "      <th>...</th>\n",
       "      <td>...</td>\n",
       "      <td>...</td>\n",
       "      <td>...</td>\n",
       "      <td>...</td>\n",
       "      <td>...</td>\n",
       "      <td>...</td>\n",
       "      <td>...</td>\n",
       "      <td>...</td>\n",
       "      <td>...</td>\n",
       "      <td>...</td>\n",
       "      <td>...</td>\n",
       "      <td>...</td>\n",
       "      <td>...</td>\n",
       "      <td>...</td>\n",
       "      <td>...</td>\n",
       "      <td>...</td>\n",
       "    </tr>\n",
       "    <tr>\n",
       "      <th>1304</th>\n",
       "      <td>1305</td>\n",
       "      <td>NaN</td>\n",
       "      <td>3</td>\n",
       "      <td>Spector, Mr. Woolf</td>\n",
       "      <td>male</td>\n",
       "      <td>NaN</td>\n",
       "      <td>0</td>\n",
       "      <td>0</td>\n",
       "      <td>A.5. 3236</td>\n",
       "      <td>8.0500</td>\n",
       "      <td>NaN</td>\n",
       "      <td>S</td>\n",
       "      <td>Spector</td>\n",
       "      <td>Mr</td>\n",
       "      <td>Woolf</td>\n",
       "      <td>None</td>\n",
       "    </tr>\n",
       "    <tr>\n",
       "      <th>1305</th>\n",
       "      <td>1306</td>\n",
       "      <td>NaN</td>\n",
       "      <td>1</td>\n",
       "      <td>Oliva y Ocana, Dona. Fermina</td>\n",
       "      <td>female</td>\n",
       "      <td>39.0</td>\n",
       "      <td>0</td>\n",
       "      <td>0</td>\n",
       "      <td>PC 17758</td>\n",
       "      <td>108.9000</td>\n",
       "      <td>C105</td>\n",
       "      <td>C</td>\n",
       "      <td>Oliva y Ocana</td>\n",
       "      <td>Dona</td>\n",
       "      <td>Fermina</td>\n",
       "      <td>None</td>\n",
       "    </tr>\n",
       "    <tr>\n",
       "      <th>1306</th>\n",
       "      <td>1307</td>\n",
       "      <td>NaN</td>\n",
       "      <td>3</td>\n",
       "      <td>Saether, Mr. Simon Sivertsen</td>\n",
       "      <td>male</td>\n",
       "      <td>38.5</td>\n",
       "      <td>0</td>\n",
       "      <td>0</td>\n",
       "      <td>SOTON/O.Q. 3101262</td>\n",
       "      <td>7.2500</td>\n",
       "      <td>NaN</td>\n",
       "      <td>S</td>\n",
       "      <td>Saether</td>\n",
       "      <td>Mr</td>\n",
       "      <td>Simon Sivertsen</td>\n",
       "      <td>None</td>\n",
       "    </tr>\n",
       "    <tr>\n",
       "      <th>1307</th>\n",
       "      <td>1308</td>\n",
       "      <td>NaN</td>\n",
       "      <td>3</td>\n",
       "      <td>Ware, Mr. Frederick</td>\n",
       "      <td>male</td>\n",
       "      <td>NaN</td>\n",
       "      <td>0</td>\n",
       "      <td>0</td>\n",
       "      <td>359309</td>\n",
       "      <td>8.0500</td>\n",
       "      <td>NaN</td>\n",
       "      <td>S</td>\n",
       "      <td>Ware</td>\n",
       "      <td>Mr</td>\n",
       "      <td>Frederick</td>\n",
       "      <td>None</td>\n",
       "    </tr>\n",
       "    <tr>\n",
       "      <th>1308</th>\n",
       "      <td>1309</td>\n",
       "      <td>NaN</td>\n",
       "      <td>3</td>\n",
       "      <td>Peter, Master. Michael J</td>\n",
       "      <td>male</td>\n",
       "      <td>NaN</td>\n",
       "      <td>1</td>\n",
       "      <td>1</td>\n",
       "      <td>2668</td>\n",
       "      <td>22.3583</td>\n",
       "      <td>NaN</td>\n",
       "      <td>C</td>\n",
       "      <td>Peter</td>\n",
       "      <td>Master</td>\n",
       "      <td>Michael J</td>\n",
       "      <td>None</td>\n",
       "    </tr>\n",
       "  </tbody>\n",
       "</table>\n",
       "<p>1309 rows × 16 columns</p>\n",
       "</div>"
      ],
      "text/plain": [
       "      PassengerId  Survived  Pclass  \\\n",
       "0               1       0.0       3   \n",
       "1               2       1.0       1   \n",
       "2               3       1.0       3   \n",
       "3               4       1.0       1   \n",
       "4               5       0.0       3   \n",
       "...           ...       ...     ...   \n",
       "1304         1305       NaN       3   \n",
       "1305         1306       NaN       1   \n",
       "1306         1307       NaN       3   \n",
       "1307         1308       NaN       3   \n",
       "1308         1309       NaN       3   \n",
       "\n",
       "                                                   Name     Sex   Age  SibSp  \\\n",
       "0                               Braund, Mr. Owen Harris    male  22.0      1   \n",
       "1     Cumings, Mrs. John Bradley (Florence Briggs Th...  female  38.0      1   \n",
       "2                                Heikkinen, Miss. Laina  female  26.0      0   \n",
       "3          Futrelle, Mrs. Jacques Heath (Lily May Peel)  female  35.0      1   \n",
       "4                              Allen, Mr. William Henry    male  35.0      0   \n",
       "...                                                 ...     ...   ...    ...   \n",
       "1304                                 Spector, Mr. Woolf    male   NaN      0   \n",
       "1305                       Oliva y Ocana, Dona. Fermina  female  39.0      0   \n",
       "1306                       Saether, Mr. Simon Sivertsen    male  38.5      0   \n",
       "1307                                Ware, Mr. Frederick    male   NaN      0   \n",
       "1308                           Peter, Master. Michael J    male   NaN      1   \n",
       "\n",
       "      Parch              Ticket      Fare Cabin Embarked    family_name  \\\n",
       "0         0           A/5 21171    7.2500   NaN        S         Braund   \n",
       "1         0            PC 17599   71.2833   C85        C        Cumings   \n",
       "2         0    STON/O2. 3101282    7.9250   NaN        S      Heikkinen   \n",
       "3         0              113803   53.1000  C123        S       Futrelle   \n",
       "4         0              373450    8.0500   NaN        S          Allen   \n",
       "...     ...                 ...       ...   ...      ...            ...   \n",
       "1304      0           A.5. 3236    8.0500   NaN        S        Spector   \n",
       "1305      0            PC 17758  108.9000  C105        C  Oliva y Ocana   \n",
       "1306      0  SOTON/O.Q. 3101262    7.2500   NaN        S        Saether   \n",
       "1307      0              359309    8.0500   NaN        S           Ware   \n",
       "1308      1                2668   22.3583   NaN        C          Peter   \n",
       "\n",
       "     honorific                                   name     _  \n",
       "0           Mr                            Owen Harris  None  \n",
       "1          Mrs  John Bradley (Florence Briggs Thayer)  None  \n",
       "2         Miss                                  Laina  None  \n",
       "3          Mrs          Jacques Heath (Lily May Peel)  None  \n",
       "4           Mr                          William Henry  None  \n",
       "...        ...                                    ...   ...  \n",
       "1304        Mr                                  Woolf  None  \n",
       "1305      Dona                                Fermina  None  \n",
       "1306        Mr                        Simon Sivertsen  None  \n",
       "1307        Mr                              Frederick  None  \n",
       "1308    Master                              Michael J  None  \n",
       "\n",
       "[1309 rows x 16 columns]"
      ]
     },
     "execution_count": 62,
     "metadata": {},
     "output_type": "execute_result"
    }
   ],
   "source": [
    "all_df"
   ]
  },
  {
   "cell_type": "code",
   "execution_count": 63,
   "metadata": {
    "execution": {
     "iopub.execute_input": "2020-10-20T11:56:32.760119Z",
     "iopub.status.busy": "2020-10-20T11:56:32.757498Z",
     "iopub.status.idle": "2020-10-20T11:56:33.250674Z",
     "shell.execute_reply": "2020-10-20T11:56:33.249956Z"
    },
    "papermill": {
     "duration": 0.661523,
     "end_time": "2020-10-20T11:56:33.250837",
     "exception": false,
     "start_time": "2020-10-20T11:56:32.589314",
     "status": "completed"
    },
    "tags": []
   },
   "outputs": [
    {
     "data": {
      "text/plain": [
       "<Axes: xlabel='honorific', ylabel='Age'>"
      ]
     },
     "execution_count": 63,
     "metadata": {},
     "output_type": "execute_result"
    },
    {
     "data": {
      "image/png": "[encoded data removed]",
      "text/plain": [
       "<Figure size 1800x500 with 1 Axes>"
      ]
     },
     "metadata": {},
     "output_type": "display_data"
    }
   ],
   "source": [
    "plt.figure(figsize=(18, 5))\n",
    "sns.boxplot(x=\"honorific\", y=\"Age\", data=all_df)"
   ]
  },
  {
   "cell_type": "code",
   "execution_count": 64,
   "metadata": {
    "execution": {
     "iopub.execute_input": "2020-10-20T11:56:33.586388Z",
     "iopub.status.busy": "2020-10-20T11:56:33.585650Z",
     "iopub.status.idle": "2020-10-20T11:56:33.599578Z",
     "shell.execute_reply": "2020-10-20T11:56:33.600122Z"
    },
    "papermill": {
     "duration": 0.184864,
     "end_time": "2020-10-20T11:56:33.600278",
     "exception": false,
     "start_time": "2020-10-20T11:56:33.415414",
     "status": "completed"
    },
    "tags": []
   },
   "outputs": [
    {
     "data": {
      "text/html": [
       "<div>\n",
       "<style scoped>\n",
       "    .dataframe tbody tr th:only-of-type {\n",
       "        vertical-align: middle;\n",
       "    }\n",
       "\n",
       "    .dataframe tbody tr th {\n",
       "        vertical-align: top;\n",
       "    }\n",
       "\n",
       "    .dataframe thead th {\n",
       "        text-align: right;\n",
       "    }\n",
       "</style>\n",
       "<table border=\"1\" class=\"dataframe\">\n",
       "  <thead>\n",
       "    <tr style=\"text-align: right;\">\n",
       "      <th></th>\n",
       "      <th>Age</th>\n",
       "    </tr>\n",
       "    <tr>\n",
       "      <th>honorific</th>\n",
       "      <th></th>\n",
       "    </tr>\n",
       "  </thead>\n",
       "  <tbody>\n",
       "    <tr>\n",
       "      <th>Capt</th>\n",
       "      <td>70.000000</td>\n",
       "    </tr>\n",
       "    <tr>\n",
       "      <th>Col</th>\n",
       "      <td>54.000000</td>\n",
       "    </tr>\n",
       "    <tr>\n",
       "      <th>Don</th>\n",
       "      <td>40.000000</td>\n",
       "    </tr>\n",
       "    <tr>\n",
       "      <th>Dona</th>\n",
       "      <td>39.000000</td>\n",
       "    </tr>\n",
       "    <tr>\n",
       "      <th>Dr</th>\n",
       "      <td>43.571429</td>\n",
       "    </tr>\n",
       "    <tr>\n",
       "      <th>Jonkheer</th>\n",
       "      <td>38.000000</td>\n",
       "    </tr>\n",
       "    <tr>\n",
       "      <th>Lady</th>\n",
       "      <td>48.000000</td>\n",
       "    </tr>\n",
       "    <tr>\n",
       "      <th>Major</th>\n",
       "      <td>48.500000</td>\n",
       "    </tr>\n",
       "    <tr>\n",
       "      <th>Master</th>\n",
       "      <td>5.482642</td>\n",
       "    </tr>\n",
       "    <tr>\n",
       "      <th>Miss</th>\n",
       "      <td>21.774238</td>\n",
       "    </tr>\n",
       "    <tr>\n",
       "      <th>Mlle</th>\n",
       "      <td>24.000000</td>\n",
       "    </tr>\n",
       "    <tr>\n",
       "      <th>Mme</th>\n",
       "      <td>24.000000</td>\n",
       "    </tr>\n",
       "    <tr>\n",
       "      <th>Mr</th>\n",
       "      <td>32.252151</td>\n",
       "    </tr>\n",
       "    <tr>\n",
       "      <th>Mrs</th>\n",
       "      <td>36.994118</td>\n",
       "    </tr>\n",
       "    <tr>\n",
       "      <th>Ms</th>\n",
       "      <td>28.000000</td>\n",
       "    </tr>\n",
       "    <tr>\n",
       "      <th>Rev</th>\n",
       "      <td>41.250000</td>\n",
       "    </tr>\n",
       "    <tr>\n",
       "      <th>Sir</th>\n",
       "      <td>49.000000</td>\n",
       "    </tr>\n",
       "    <tr>\n",
       "      <th>the Countess</th>\n",
       "      <td>33.000000</td>\n",
       "    </tr>\n",
       "  </tbody>\n",
       "</table>\n",
       "</div>"
      ],
      "text/plain": [
       "                    Age\n",
       "honorific              \n",
       "Capt          70.000000\n",
       "Col           54.000000\n",
       "Don           40.000000\n",
       "Dona          39.000000\n",
       "Dr            43.571429\n",
       "Jonkheer      38.000000\n",
       "Lady          48.000000\n",
       "Major         48.500000\n",
       "Master         5.482642\n",
       "Miss          21.774238\n",
       "Mlle          24.000000\n",
       "Mme           24.000000\n",
       "Mr            32.252151\n",
       "Mrs           36.994118\n",
       "Ms            28.000000\n",
       "Rev           41.250000\n",
       "Sir           49.000000\n",
       "the Countess  33.000000"
      ]
     },
     "execution_count": 64,
     "metadata": {},
     "output_type": "execute_result"
    }
   ],
   "source": [
    "all_df[[\"Age\",\"honorific\"]].groupby(\"honorific\").mean()"
   ]
  },
  {
   "cell_type": "markdown",
   "metadata": {
    "papermill": {
     "duration": 0.165665,
     "end_time": "2020-10-20T11:56:33.930077",
     "exception": false,
     "start_time": "2020-10-20T11:56:33.764412",
     "status": "completed"
    },
    "tags": []
   },
   "source": [
    "#### 호칭별 생존율 차이 확인하기"
   ]
  },
  {
   "cell_type": "code",
   "execution_count": 65,
   "metadata": {
    "execution": {
     "iopub.execute_input": "2020-10-20T11:56:34.276887Z",
     "iopub.status.busy": "2020-10-20T11:56:34.275991Z",
     "iopub.status.idle": "2020-10-20T11:56:34.279568Z",
     "shell.execute_reply": "2020-10-20T11:56:34.278834Z"
    },
    "papermill": {
     "duration": 0.184196,
     "end_time": "2020-10-20T11:56:34.279694",
     "exception": false,
     "start_time": "2020-10-20T11:56:34.095498",
     "status": "completed"
    },
    "tags": []
   },
   "outputs": [],
   "source": [
    "train_df = pd.concat([train_df,name_df[0:len(train_df)].reset_index(drop=True)],axis=1)\n",
    "test_df = pd.concat([test_df,name_df[len(train_df):].reset_index(drop=True)],axis=1)"
   ]
  },
  {
   "cell_type": "code",
   "execution_count": 66,
   "metadata": {
    "execution": {
     "iopub.execute_input": "2020-10-20T11:56:34.616024Z",
     "iopub.status.busy": "2020-10-20T11:56:34.615264Z",
     "iopub.status.idle": "2020-10-20T11:56:34.938739Z",
     "shell.execute_reply": "2020-10-20T11:56:34.937743Z"
    },
    "papermill": {
     "duration": 0.493915,
     "end_time": "2020-10-20T11:56:34.938941",
     "exception": false,
     "start_time": "2020-10-20T11:56:34.445026",
     "status": "completed"
    },
    "tags": []
   },
   "outputs": [
    {
     "data": {
      "text/plain": [
       "<Axes: xlabel='honorific'>"
      ]
     },
     "execution_count": 66,
     "metadata": {},
     "output_type": "execute_result"
    },
    {
     "data": {
      "image/png": "[encoded data removed]",
      "text/plain": [
       "<Figure size 640x480 with 1 Axes>"
      ]
     },
     "metadata": {},
     "output_type": "display_data"
    }
   ],
   "source": [
    "honorific_df = train_df[[\"honorific\",\"Survived\",\"PassengerId\"]].dropna().groupby([\"honorific\",\"Survived\"]).count().unstack()\n",
    "honorific_df.plot.bar(stacked=True)"
   ]
  },
  {
   "cell_type": "markdown",
   "metadata": {
    "papermill": {
     "duration": 0.168116,
     "end_time": "2020-10-20T11:56:35.292714",
     "exception": false,
     "start_time": "2020-10-20T11:56:35.124598",
     "status": "completed"
    },
    "tags": []
   },
   "source": [
    "#### 연령의 결측치를 호칭별 평균 연령으로 보완하기"
   ]
  },
  {
   "cell_type": "code",
   "execution_count": 67,
   "metadata": {
    "execution": {
     "iopub.execute_input": "2020-10-20T11:56:35.639230Z",
     "iopub.status.busy": "2020-10-20T11:56:35.638227Z",
     "iopub.status.idle": "2020-10-20T11:56:35.641703Z",
     "shell.execute_reply": "2020-10-20T11:56:35.641011Z"
    },
    "papermill": {
     "duration": 0.182568,
     "end_time": "2020-10-20T11:56:35.641836",
     "exception": false,
     "start_time": "2020-10-20T11:56:35.459268",
     "status": "completed"
    },
    "tags": []
   },
   "outputs": [],
   "source": [
    "honorific_age_mean = all_df[[\"honorific\",\"Age\"]].groupby(\"honorific\").mean().reset_index()\n",
    "honorific_age_mean.columns = [\"honorific\",\"honorific_Age\"]"
   ]
  },
  {
   "cell_type": "code",
   "execution_count": 68,
   "metadata": {
    "execution": {
     "iopub.execute_input": "2020-10-20T11:56:35.986177Z",
     "iopub.status.busy": "2020-10-20T11:56:35.982755Z",
     "iopub.status.idle": "2020-10-20T11:56:35.994620Z",
     "shell.execute_reply": "2020-10-20T11:56:35.995208Z"
    },
    "papermill": {
     "duration": 0.187837,
     "end_time": "2020-10-20T11:56:35.995372",
     "exception": false,
     "start_time": "2020-10-20T11:56:35.807535",
     "status": "completed"
    },
    "tags": []
   },
   "outputs": [],
   "source": [
    "all_df = pd.merge(all_df, honorific_age_mean, on=\"honorific\", how=\"left\")\n",
    "all_df.loc[(all_df[\"Age\"].isnull()), \"Age\"] = all_df[\"honorific_Age\"]\n",
    "all_df = all_df.drop([\"honorific_Age\"],axis=1)"
   ]
  },
  {
   "cell_type": "markdown",
   "metadata": {
    "papermill": {
     "duration": 0.166405,
     "end_time": "2020-10-20T11:56:36.329043",
     "exception": false,
     "start_time": "2020-10-20T11:56:36.162638",
     "status": "completed"
    },
    "tags": []
   },
   "source": [
    "#### 가족 인원수 추가하기"
   ]
  },
  {
   "cell_type": "code",
   "execution_count": 69,
   "metadata": {
    "execution": {
     "iopub.execute_input": "2020-10-20T11:56:36.669125Z",
     "iopub.status.busy": "2020-10-20T11:56:36.668382Z",
     "iopub.status.idle": "2020-10-20T11:56:36.671450Z",
     "shell.execute_reply": "2020-10-20T11:56:36.670735Z"
    },
    "papermill": {
     "duration": 0.175743,
     "end_time": "2020-10-20T11:56:36.671579",
     "exception": false,
     "start_time": "2020-10-20T11:56:36.495836",
     "status": "completed"
    },
    "tags": []
   },
   "outputs": [],
   "source": [
    "all_df[\"family_num\"] = all_df[\"Parch\"] + all_df[\"SibSp\"]"
   ]
  },
  {
   "cell_type": "code",
   "execution_count": 70,
   "metadata": {
    "execution": {
     "iopub.execute_input": "2020-10-20T11:56:37.012277Z",
     "iopub.status.busy": "2020-10-20T11:56:37.011412Z",
     "iopub.status.idle": "2020-10-20T11:56:37.016361Z",
     "shell.execute_reply": "2020-10-20T11:56:37.015589Z"
    },
    "papermill": {
     "duration": 0.178885,
     "end_time": "2020-10-20T11:56:37.016482",
     "exception": false,
     "start_time": "2020-10-20T11:56:36.837597",
     "status": "completed"
    },
    "tags": []
   },
   "outputs": [
    {
     "data": {
      "text/plain": [
       "family_num\n",
       "0     790\n",
       "1     235\n",
       "2     159\n",
       "3      43\n",
       "5      25\n",
       "4      22\n",
       "6      16\n",
       "10     11\n",
       "7       8\n",
       "Name: count, dtype: int64"
      ]
     },
     "execution_count": 70,
     "metadata": {},
     "output_type": "execute_result"
    }
   ],
   "source": [
    "all_df[\"family_num\"].value_counts()"
   ]
  },
  {
   "cell_type": "markdown",
   "metadata": {
    "papermill": {
     "duration": 0.167821,
     "end_time": "2020-10-20T11:56:37.352652",
     "exception": false,
     "start_time": "2020-10-20T11:56:37.184831",
     "status": "completed"
    },
    "tags": []
   },
   "source": [
    "#### 홀로 승선했는지 여부를 새로운 변수로 추가하기"
   ]
  },
  {
   "cell_type": "code",
   "execution_count": 71,
   "metadata": {
    "execution": {
     "iopub.execute_input": "2020-10-20T11:56:37.693186Z",
     "iopub.status.busy": "2020-10-20T11:56:37.692046Z",
     "iopub.status.idle": "2020-10-20T11:56:37.697385Z",
     "shell.execute_reply": "2020-10-20T11:56:37.697987Z"
    },
    "papermill": {
     "duration": 0.178058,
     "end_time": "2020-10-20T11:56:37.698135",
     "exception": false,
     "start_time": "2020-10-20T11:56:37.520077",
     "status": "completed"
    },
    "tags": []
   },
   "outputs": [],
   "source": [
    "all_df.loc[all_df[\"family_num\"] ==0, \"alone\"] = 1\n",
    "all_df[\"alone\"].fillna(0, inplace=True)"
   ]
  },
  {
   "cell_type": "markdown",
   "metadata": {
    "papermill": {
     "duration": 0.168882,
     "end_time": "2020-10-20T11:56:38.034095",
     "exception": false,
     "start_time": "2020-10-20T11:56:37.865213",
     "status": "completed"
    },
    "tags": []
   },
   "source": [
    "#### 불필요한 변수 삭제하기"
   ]
  },
  {
   "cell_type": "code",
   "execution_count": 74,
   "metadata": {
    "execution": {
     "iopub.execute_input": "2020-10-20T11:56:38.376631Z",
     "iopub.status.busy": "2020-10-20T11:56:38.375637Z",
     "iopub.status.idle": "2020-10-20T11:56:38.378818Z",
     "shell.execute_reply": "2020-10-20T11:56:38.378154Z"
    },
    "papermill": {
     "duration": 0.177244,
     "end_time": "2020-10-20T11:56:38.378947",
     "exception": false,
     "start_time": "2020-10-20T11:56:38.201703",
     "status": "completed"
    },
    "tags": []
   },
   "outputs": [],
   "source": [
    "all_df = all_df.drop([\"_\"],axis=1)\n",
    "# \"PassengerId\",\"Name\",\"family_name\",\"name\",\"Ticket\",\"Cabin\", "
   ]
  },
  {
   "cell_type": "code",
   "execution_count": 75,
   "metadata": {
    "execution": {
     "iopub.execute_input": "2020-10-20T11:56:38.732021Z",
     "iopub.status.busy": "2020-10-20T11:56:38.731092Z",
     "iopub.status.idle": "2020-10-20T11:56:38.735647Z",
     "shell.execute_reply": "2020-10-20T11:56:38.735084Z"
    },
    "papermill": {
     "duration": 0.189039,
     "end_time": "2020-10-20T11:56:38.735784",
     "exception": false,
     "start_time": "2020-10-20T11:56:38.546745",
     "status": "completed"
    },
    "tags": []
   },
   "outputs": [
    {
     "data": {
      "text/html": [
       "<div>\n",
       "<style scoped>\n",
       "    .dataframe tbody tr th:only-of-type {\n",
       "        vertical-align: middle;\n",
       "    }\n",
       "\n",
       "    .dataframe tbody tr th {\n",
       "        vertical-align: top;\n",
       "    }\n",
       "\n",
       "    .dataframe thead th {\n",
       "        text-align: right;\n",
       "    }\n",
       "</style>\n",
       "<table border=\"1\" class=\"dataframe\">\n",
       "  <thead>\n",
       "    <tr style=\"text-align: right;\">\n",
       "      <th></th>\n",
       "      <th>Survived</th>\n",
       "      <th>Pclass</th>\n",
       "      <th>Sex</th>\n",
       "      <th>Age</th>\n",
       "      <th>SibSp</th>\n",
       "      <th>Parch</th>\n",
       "      <th>Fare</th>\n",
       "      <th>Embarked</th>\n",
       "      <th>honorific</th>\n",
       "      <th>family_num</th>\n",
       "      <th>alone</th>\n",
       "    </tr>\n",
       "  </thead>\n",
       "  <tbody>\n",
       "    <tr>\n",
       "      <th>0</th>\n",
       "      <td>0.0</td>\n",
       "      <td>3</td>\n",
       "      <td>male</td>\n",
       "      <td>22.0</td>\n",
       "      <td>1</td>\n",
       "      <td>0</td>\n",
       "      <td>7.2500</td>\n",
       "      <td>S</td>\n",
       "      <td>Mr</td>\n",
       "      <td>1</td>\n",
       "      <td>0.0</td>\n",
       "    </tr>\n",
       "    <tr>\n",
       "      <th>1</th>\n",
       "      <td>1.0</td>\n",
       "      <td>1</td>\n",
       "      <td>female</td>\n",
       "      <td>38.0</td>\n",
       "      <td>1</td>\n",
       "      <td>0</td>\n",
       "      <td>71.2833</td>\n",
       "      <td>C</td>\n",
       "      <td>Mrs</td>\n",
       "      <td>1</td>\n",
       "      <td>0.0</td>\n",
       "    </tr>\n",
       "    <tr>\n",
       "      <th>2</th>\n",
       "      <td>1.0</td>\n",
       "      <td>3</td>\n",
       "      <td>female</td>\n",
       "      <td>26.0</td>\n",
       "      <td>0</td>\n",
       "      <td>0</td>\n",
       "      <td>7.9250</td>\n",
       "      <td>S</td>\n",
       "      <td>Miss</td>\n",
       "      <td>0</td>\n",
       "      <td>1.0</td>\n",
       "    </tr>\n",
       "    <tr>\n",
       "      <th>3</th>\n",
       "      <td>1.0</td>\n",
       "      <td>1</td>\n",
       "      <td>female</td>\n",
       "      <td>35.0</td>\n",
       "      <td>1</td>\n",
       "      <td>0</td>\n",
       "      <td>53.1000</td>\n",
       "      <td>S</td>\n",
       "      <td>Mrs</td>\n",
       "      <td>1</td>\n",
       "      <td>0.0</td>\n",
       "    </tr>\n",
       "    <tr>\n",
       "      <th>4</th>\n",
       "      <td>0.0</td>\n",
       "      <td>3</td>\n",
       "      <td>male</td>\n",
       "      <td>35.0</td>\n",
       "      <td>0</td>\n",
       "      <td>0</td>\n",
       "      <td>8.0500</td>\n",
       "      <td>S</td>\n",
       "      <td>Mr</td>\n",
       "      <td>0</td>\n",
       "      <td>1.0</td>\n",
       "    </tr>\n",
       "  </tbody>\n",
       "</table>\n",
       "</div>"
      ],
      "text/plain": [
       "   Survived  Pclass     Sex   Age  SibSp  Parch     Fare Embarked honorific  \\\n",
       "0       0.0       3    male  22.0      1      0   7.2500        S        Mr   \n",
       "1       1.0       1  female  38.0      1      0  71.2833        C       Mrs   \n",
       "2       1.0       3  female  26.0      0      0   7.9250        S      Miss   \n",
       "3       1.0       1  female  35.0      1      0  53.1000        S       Mrs   \n",
       "4       0.0       3    male  35.0      0      0   8.0500        S        Mr   \n",
       "\n",
       "   family_num  alone  \n",
       "0           1    0.0  \n",
       "1           1    0.0  \n",
       "2           0    1.0  \n",
       "3           1    0.0  \n",
       "4           0    1.0  "
      ]
     },
     "execution_count": 75,
     "metadata": {},
     "output_type": "execute_result"
    }
   ],
   "source": [
    "all_df.head()"
   ]
  },
  {
   "cell_type": "markdown",
   "metadata": {
    "papermill": {
     "duration": 0.168861,
     "end_time": "2020-10-20T11:56:39.073047",
     "exception": false,
     "start_time": "2020-10-20T11:56:38.904186",
     "status": "completed"
    },
    "tags": []
   },
   "source": [
    "#### 카테고리 변수를 수치로 변환하기"
   ]
  },
  {
   "cell_type": "code",
   "execution_count": 76,
   "metadata": {
    "execution": {
     "iopub.execute_input": "2020-10-20T11:56:39.421242Z",
     "iopub.status.busy": "2020-10-20T11:56:39.420480Z",
     "iopub.status.idle": "2020-10-20T11:56:39.424079Z",
     "shell.execute_reply": "2020-10-20T11:56:39.425014Z"
    },
    "papermill": {
     "duration": 0.178333,
     "end_time": "2020-10-20T11:56:39.425199",
     "exception": false,
     "start_time": "2020-10-20T11:56:39.246866",
     "status": "completed"
    },
    "tags": []
   },
   "outputs": [
    {
     "name": "stdout",
     "output_type": "stream",
     "text": [
      "Index(['Sex', 'Embarked', 'honorific'], dtype='object')\n"
     ]
    }
   ],
   "source": [
    "categories = all_df.columns[all_df.dtypes == \"object\"]\n",
    "print(categories)"
   ]
  },
  {
   "cell_type": "markdown",
   "metadata": {
    "papermill": {
     "duration": 0.168398,
     "end_time": "2020-10-20T11:56:39.763212",
     "exception": false,
     "start_time": "2020-10-20T11:56:39.594814",
     "status": "completed"
    },
    "tags": []
   },
   "source": [
    "#### Mr, Miss, Mrs, Master 이외는 other로 통합"
   ]
  },
  {
   "cell_type": "code",
   "execution_count": 77,
   "metadata": {
    "execution": {
     "iopub.execute_input": "2020-10-20T11:56:40.112245Z",
     "iopub.status.busy": "2020-10-20T11:56:40.111459Z",
     "iopub.status.idle": "2020-10-20T11:56:40.114735Z",
     "shell.execute_reply": "2020-10-20T11:56:40.114140Z"
    },
    "papermill": {
     "duration": 0.182457,
     "end_time": "2020-10-20T11:56:40.114899",
     "exception": false,
     "start_time": "2020-10-20T11:56:39.932442",
     "status": "completed"
    },
    "tags": []
   },
   "outputs": [],
   "source": [
    "all_df.loc[~((all_df[\"honorific\"] ==\"Mr\") |\n",
    "    (all_df[\"honorific\"] ==\"Miss\") |\n",
    "    (all_df[\"honorific\"] ==\"Mrs\") |\n",
    "    (all_df[\"honorific\"] ==\"Master\")), \"honorific\"] = \"other\""
   ]
  },
  {
   "cell_type": "code",
   "execution_count": 78,
   "metadata": {
    "execution": {
     "iopub.execute_input": "2020-10-20T11:56:40.461734Z",
     "iopub.status.busy": "2020-10-20T11:56:40.460922Z",
     "iopub.status.idle": "2020-10-20T11:56:40.464462Z",
     "shell.execute_reply": "2020-10-20T11:56:40.465002Z"
    },
    "papermill": {
     "duration": 0.180312,
     "end_time": "2020-10-20T11:56:40.465156",
     "exception": false,
     "start_time": "2020-10-20T11:56:40.284844",
     "status": "completed"
    },
    "tags": []
   },
   "outputs": [
    {
     "data": {
      "text/plain": [
       "honorific\n",
       "Mr        757\n",
       "Miss      260\n",
       "Mrs       197\n",
       "Master     61\n",
       "other      34\n",
       "Name: count, dtype: int64"
      ]
     },
     "execution_count": 78,
     "metadata": {},
     "output_type": "execute_result"
    }
   ],
   "source": [
    "all_df.honorific.value_counts()"
   ]
  },
  {
   "cell_type": "code",
   "execution_count": 79,
   "metadata": {
    "execution": {
     "iopub.execute_input": "2020-10-20T11:56:40.811845Z",
     "iopub.status.busy": "2020-10-20T11:56:40.811069Z",
     "iopub.status.idle": "2020-10-20T11:56:40.874616Z",
     "shell.execute_reply": "2020-10-20T11:56:40.873947Z"
    },
    "papermill": {
     "duration": 0.238326,
     "end_time": "2020-10-20T11:56:40.874743",
     "exception": false,
     "start_time": "2020-10-20T11:56:40.636417",
     "status": "completed"
    },
    "tags": []
   },
   "outputs": [],
   "source": [
    "from sklearn.preprocessing import LabelEncoder"
   ]
  },
  {
   "cell_type": "code",
   "execution_count": 80,
   "metadata": {
    "execution": {
     "iopub.execute_input": "2020-10-20T11:56:41.223711Z",
     "iopub.status.busy": "2020-10-20T11:56:41.222761Z",
     "iopub.status.idle": "2020-10-20T11:56:41.225936Z",
     "shell.execute_reply": "2020-10-20T11:56:41.225215Z"
    },
    "papermill": {
     "duration": 0.179668,
     "end_time": "2020-10-20T11:56:41.226055",
     "exception": false,
     "start_time": "2020-10-20T11:56:41.046387",
     "status": "completed"
    },
    "tags": []
   },
   "outputs": [],
   "source": [
    "all_df[\"Embarked\"].fillna(\"missing\", inplace=True)"
   ]
  },
  {
   "cell_type": "code",
   "execution_count": 81,
   "metadata": {
    "execution": {
     "iopub.execute_input": "2020-10-20T11:56:41.583385Z",
     "iopub.status.busy": "2020-10-20T11:56:41.582340Z",
     "iopub.status.idle": "2020-10-20T11:56:41.586653Z",
     "shell.execute_reply": "2020-10-20T11:56:41.585939Z"
    },
    "papermill": {
     "duration": 0.191473,
     "end_time": "2020-10-20T11:56:41.586792",
     "exception": false,
     "start_time": "2020-10-20T11:56:41.395319",
     "status": "completed"
    },
    "tags": []
   },
   "outputs": [
    {
     "data": {
      "text/html": [
       "<div>\n",
       "<style scoped>\n",
       "    .dataframe tbody tr th:only-of-type {\n",
       "        vertical-align: middle;\n",
       "    }\n",
       "\n",
       "    .dataframe tbody tr th {\n",
       "        vertical-align: top;\n",
       "    }\n",
       "\n",
       "    .dataframe thead th {\n",
       "        text-align: right;\n",
       "    }\n",
       "</style>\n",
       "<table border=\"1\" class=\"dataframe\">\n",
       "  <thead>\n",
       "    <tr style=\"text-align: right;\">\n",
       "      <th></th>\n",
       "      <th>Survived</th>\n",
       "      <th>Pclass</th>\n",
       "      <th>Sex</th>\n",
       "      <th>Age</th>\n",
       "      <th>SibSp</th>\n",
       "      <th>Parch</th>\n",
       "      <th>Fare</th>\n",
       "      <th>Embarked</th>\n",
       "      <th>honorific</th>\n",
       "      <th>family_num</th>\n",
       "      <th>alone</th>\n",
       "    </tr>\n",
       "  </thead>\n",
       "  <tbody>\n",
       "    <tr>\n",
       "      <th>0</th>\n",
       "      <td>0.0</td>\n",
       "      <td>3</td>\n",
       "      <td>male</td>\n",
       "      <td>22.0</td>\n",
       "      <td>1</td>\n",
       "      <td>0</td>\n",
       "      <td>7.2500</td>\n",
       "      <td>S</td>\n",
       "      <td>Mr</td>\n",
       "      <td>1</td>\n",
       "      <td>0.0</td>\n",
       "    </tr>\n",
       "    <tr>\n",
       "      <th>1</th>\n",
       "      <td>1.0</td>\n",
       "      <td>1</td>\n",
       "      <td>female</td>\n",
       "      <td>38.0</td>\n",
       "      <td>1</td>\n",
       "      <td>0</td>\n",
       "      <td>71.2833</td>\n",
       "      <td>C</td>\n",
       "      <td>Mrs</td>\n",
       "      <td>1</td>\n",
       "      <td>0.0</td>\n",
       "    </tr>\n",
       "    <tr>\n",
       "      <th>2</th>\n",
       "      <td>1.0</td>\n",
       "      <td>3</td>\n",
       "      <td>female</td>\n",
       "      <td>26.0</td>\n",
       "      <td>0</td>\n",
       "      <td>0</td>\n",
       "      <td>7.9250</td>\n",
       "      <td>S</td>\n",
       "      <td>Miss</td>\n",
       "      <td>0</td>\n",
       "      <td>1.0</td>\n",
       "    </tr>\n",
       "    <tr>\n",
       "      <th>3</th>\n",
       "      <td>1.0</td>\n",
       "      <td>1</td>\n",
       "      <td>female</td>\n",
       "      <td>35.0</td>\n",
       "      <td>1</td>\n",
       "      <td>0</td>\n",
       "      <td>53.1000</td>\n",
       "      <td>S</td>\n",
       "      <td>Mrs</td>\n",
       "      <td>1</td>\n",
       "      <td>0.0</td>\n",
       "    </tr>\n",
       "    <tr>\n",
       "      <th>4</th>\n",
       "      <td>0.0</td>\n",
       "      <td>3</td>\n",
       "      <td>male</td>\n",
       "      <td>35.0</td>\n",
       "      <td>0</td>\n",
       "      <td>0</td>\n",
       "      <td>8.0500</td>\n",
       "      <td>S</td>\n",
       "      <td>Mr</td>\n",
       "      <td>0</td>\n",
       "      <td>1.0</td>\n",
       "    </tr>\n",
       "  </tbody>\n",
       "</table>\n",
       "</div>"
      ],
      "text/plain": [
       "   Survived  Pclass     Sex   Age  SibSp  Parch     Fare Embarked honorific  \\\n",
       "0       0.0       3    male  22.0      1      0   7.2500        S        Mr   \n",
       "1       1.0       1  female  38.0      1      0  71.2833        C       Mrs   \n",
       "2       1.0       3  female  26.0      0      0   7.9250        S      Miss   \n",
       "3       1.0       1  female  35.0      1      0  53.1000        S       Mrs   \n",
       "4       0.0       3    male  35.0      0      0   8.0500        S        Mr   \n",
       "\n",
       "   family_num  alone  \n",
       "0           1    0.0  \n",
       "1           1    0.0  \n",
       "2           0    1.0  \n",
       "3           1    0.0  \n",
       "4           0    1.0  "
      ]
     },
     "execution_count": 81,
     "metadata": {},
     "output_type": "execute_result"
    }
   ],
   "source": [
    "all_df.head()"
   ]
  },
  {
   "cell_type": "code",
   "execution_count": 82,
   "metadata": {
    "execution": {
     "iopub.execute_input": "2020-10-20T11:56:41.939630Z",
     "iopub.status.busy": "2020-10-20T11:56:41.938617Z",
     "iopub.status.idle": "2020-10-20T11:56:41.942720Z",
     "shell.execute_reply": "2020-10-20T11:56:41.942009Z"
    },
    "papermill": {
     "duration": 0.18537,
     "end_time": "2020-10-20T11:56:41.942860",
     "exception": false,
     "start_time": "2020-10-20T11:56:41.757490",
     "status": "completed"
    },
    "tags": []
   },
   "outputs": [
    {
     "name": "stdout",
     "output_type": "stream",
     "text": [
      "Sex\n",
      "Embarked\n",
      "honorific\n"
     ]
    }
   ],
   "source": [
    "for cat in categories:\n",
    "    le = LabelEncoder()\n",
    "    print(cat)\n",
    "    if all_df[cat].dtypes == \"object\":    \n",
    "        le = le.fit(all_df[cat])\n",
    "        all_df[cat] = le.transform(all_df[cat])"
   ]
  },
  {
   "cell_type": "code",
   "execution_count": 83,
   "metadata": {
    "execution": {
     "iopub.execute_input": "2020-10-20T11:56:42.303121Z",
     "iopub.status.busy": "2020-10-20T11:56:42.302118Z",
     "iopub.status.idle": "2020-10-20T11:56:42.306887Z",
     "shell.execute_reply": "2020-10-20T11:56:42.306282Z"
    },
    "papermill": {
     "duration": 0.191988,
     "end_time": "2020-10-20T11:56:42.307013",
     "exception": false,
     "start_time": "2020-10-20T11:56:42.115025",
     "status": "completed"
    },
    "tags": []
   },
   "outputs": [
    {
     "data": {
      "text/html": [
       "<div>\n",
       "<style scoped>\n",
       "    .dataframe tbody tr th:only-of-type {\n",
       "        vertical-align: middle;\n",
       "    }\n",
       "\n",
       "    .dataframe tbody tr th {\n",
       "        vertical-align: top;\n",
       "    }\n",
       "\n",
       "    .dataframe thead th {\n",
       "        text-align: right;\n",
       "    }\n",
       "</style>\n",
       "<table border=\"1\" class=\"dataframe\">\n",
       "  <thead>\n",
       "    <tr style=\"text-align: right;\">\n",
       "      <th></th>\n",
       "      <th>Survived</th>\n",
       "      <th>Pclass</th>\n",
       "      <th>Sex</th>\n",
       "      <th>Age</th>\n",
       "      <th>SibSp</th>\n",
       "      <th>Parch</th>\n",
       "      <th>Fare</th>\n",
       "      <th>Embarked</th>\n",
       "      <th>honorific</th>\n",
       "      <th>family_num</th>\n",
       "      <th>alone</th>\n",
       "    </tr>\n",
       "  </thead>\n",
       "  <tbody>\n",
       "    <tr>\n",
       "      <th>0</th>\n",
       "      <td>0.0</td>\n",
       "      <td>3</td>\n",
       "      <td>1</td>\n",
       "      <td>22.0</td>\n",
       "      <td>1</td>\n",
       "      <td>0</td>\n",
       "      <td>7.2500</td>\n",
       "      <td>2</td>\n",
       "      <td>2</td>\n",
       "      <td>1</td>\n",
       "      <td>0.0</td>\n",
       "    </tr>\n",
       "    <tr>\n",
       "      <th>1</th>\n",
       "      <td>1.0</td>\n",
       "      <td>1</td>\n",
       "      <td>0</td>\n",
       "      <td>38.0</td>\n",
       "      <td>1</td>\n",
       "      <td>0</td>\n",
       "      <td>71.2833</td>\n",
       "      <td>0</td>\n",
       "      <td>3</td>\n",
       "      <td>1</td>\n",
       "      <td>0.0</td>\n",
       "    </tr>\n",
       "    <tr>\n",
       "      <th>2</th>\n",
       "      <td>1.0</td>\n",
       "      <td>3</td>\n",
       "      <td>0</td>\n",
       "      <td>26.0</td>\n",
       "      <td>0</td>\n",
       "      <td>0</td>\n",
       "      <td>7.9250</td>\n",
       "      <td>2</td>\n",
       "      <td>1</td>\n",
       "      <td>0</td>\n",
       "      <td>1.0</td>\n",
       "    </tr>\n",
       "    <tr>\n",
       "      <th>3</th>\n",
       "      <td>1.0</td>\n",
       "      <td>1</td>\n",
       "      <td>0</td>\n",
       "      <td>35.0</td>\n",
       "      <td>1</td>\n",
       "      <td>0</td>\n",
       "      <td>53.1000</td>\n",
       "      <td>2</td>\n",
       "      <td>3</td>\n",
       "      <td>1</td>\n",
       "      <td>0.0</td>\n",
       "    </tr>\n",
       "    <tr>\n",
       "      <th>4</th>\n",
       "      <td>0.0</td>\n",
       "      <td>3</td>\n",
       "      <td>1</td>\n",
       "      <td>35.0</td>\n",
       "      <td>0</td>\n",
       "      <td>0</td>\n",
       "      <td>8.0500</td>\n",
       "      <td>2</td>\n",
       "      <td>2</td>\n",
       "      <td>0</td>\n",
       "      <td>1.0</td>\n",
       "    </tr>\n",
       "  </tbody>\n",
       "</table>\n",
       "</div>"
      ],
      "text/plain": [
       "   Survived  Pclass  Sex   Age  SibSp  Parch     Fare  Embarked  honorific  \\\n",
       "0       0.0       3    1  22.0      1      0   7.2500         2          2   \n",
       "1       1.0       1    0  38.0      1      0  71.2833         0          3   \n",
       "2       1.0       3    0  26.0      0      0   7.9250         2          1   \n",
       "3       1.0       1    0  35.0      1      0  53.1000         2          3   \n",
       "4       0.0       3    1  35.0      0      0   8.0500         2          2   \n",
       "\n",
       "   family_num  alone  \n",
       "0           1    0.0  \n",
       "1           1    0.0  \n",
       "2           0    1.0  \n",
       "3           1    0.0  \n",
       "4           0    1.0  "
      ]
     },
     "execution_count": 83,
     "metadata": {},
     "output_type": "execute_result"
    }
   ],
   "source": [
    "all_df.head()"
   ]
  },
  {
   "cell_type": "markdown",
   "metadata": {
    "papermill": {
     "duration": 0.172269,
     "end_time": "2020-10-20T11:56:42.651735",
     "exception": false,
     "start_time": "2020-10-20T11:56:42.479466",
     "status": "completed"
    },
    "tags": []
   },
   "source": [
    "#### 모든 데이터를 학습 데이터와 테스트 데이터로 되돌리기"
   ]
  },
  {
   "cell_type": "code",
   "execution_count": 84,
   "metadata": {
    "execution": {
     "iopub.execute_input": "2020-10-20T11:56:43.008369Z",
     "iopub.status.busy": "2020-10-20T11:56:43.003997Z",
     "iopub.status.idle": "2020-10-20T11:56:43.011831Z",
     "shell.execute_reply": "2020-10-20T11:56:43.011046Z"
    },
    "papermill": {
     "duration": 0.188398,
     "end_time": "2020-10-20T11:56:43.011957",
     "exception": false,
     "start_time": "2020-10-20T11:56:42.823559",
     "status": "completed"
    },
    "tags": []
   },
   "outputs": [],
   "source": [
    "train_X = all_df[~all_df[\"Survived\"].isnull()].drop(\"Survived\",axis=1).reset_index(drop=True)\n",
    "train_Y = train_df[\"Survived\"]\n",
    "test_X = all_df[all_df[\"Survived\"].isnull()].drop(\"Survived\",axis=1).reset_index(drop=True)"
   ]
  },
  {
   "cell_type": "markdown",
   "metadata": {
    "papermill": {
     "duration": 0.172257,
     "end_time": "2020-10-20T11:56:43.357594",
     "exception": false,
     "start_time": "2020-10-20T11:56:43.185337",
     "status": "completed"
    },
    "tags": []
   },
   "source": [
    "## 5. Modeling"
   ]
  },
  {
   "cell_type": "markdown",
   "metadata": {
    "papermill": {
     "duration": 0.171622,
     "end_time": "2020-10-20T11:56:43.701101",
     "exception": false,
     "start_time": "2020-10-20T11:56:43.529479",
     "status": "completed"
    },
    "tags": []
   },
   "source": [
    "### 머신 러닝 모델링의 실행"
   ]
  },
  {
   "cell_type": "markdown",
   "metadata": {
    "papermill": {
     "duration": 0.172775,
     "end_time": "2020-10-20T11:56:44.046332",
     "exception": false,
     "start_time": "2020-10-20T11:56:43.873557",
     "status": "completed"
    },
    "tags": []
   },
   "source": [
    "#### LightGBM 라이브러리 불러오기"
   ]
  },
  {
   "cell_type": "code",
   "execution_count": 85,
   "metadata": {
    "execution": {
     "iopub.execute_input": "2020-10-20T11:56:44.440015Z",
     "iopub.status.busy": "2020-10-20T11:56:44.439264Z",
     "iopub.status.idle": "2020-10-20T11:56:44.527429Z",
     "shell.execute_reply": "2020-10-20T11:56:44.526722Z"
    },
    "papermill": {
     "duration": 0.266756,
     "end_time": "2020-10-20T11:56:44.527567",
     "exception": false,
     "start_time": "2020-10-20T11:56:44.260811",
     "status": "completed"
    },
    "tags": []
   },
   "outputs": [
    {
     "name": "stdout",
     "output_type": "stream",
     "text": [
      "4.5.0\n"
     ]
    }
   ],
   "source": [
    "import lightgbm as lgb\n",
    "print(lgb.__version__)"
   ]
  },
  {
   "cell_type": "markdown",
   "metadata": {
    "papermill": {
     "duration": 0.172102,
     "end_time": "2020-10-20T11:56:44.873043",
     "exception": false,
     "start_time": "2020-10-20T11:56:44.700941",
     "status": "completed"
    },
    "tags": []
   },
   "source": [
    "#### 홀드 아웃, 교차 검증 실습을 위한 라이브러리 불러오기"
   ]
  },
  {
   "cell_type": "code",
   "execution_count": 86,
   "metadata": {
    "execution": {
     "iopub.execute_input": "2020-10-20T11:56:45.228310Z",
     "iopub.status.busy": "2020-10-20T11:56:45.227512Z",
     "iopub.status.idle": "2020-10-20T11:56:45.230564Z",
     "shell.execute_reply": "2020-10-20T11:56:45.229850Z"
    },
    "papermill": {
     "duration": 0.183841,
     "end_time": "2020-10-20T11:56:45.230686",
     "exception": false,
     "start_time": "2020-10-20T11:56:45.046845",
     "status": "completed"
    },
    "tags": []
   },
   "outputs": [],
   "source": [
    "from sklearn.model_selection import train_test_split\n",
    "from sklearn.model_selection import KFold"
   ]
  },
  {
   "cell_type": "code",
   "execution_count": 87,
   "metadata": {
    "execution": {
     "iopub.execute_input": "2020-10-20T11:56:45.585138Z",
     "iopub.status.busy": "2020-10-20T11:56:45.584089Z",
     "iopub.status.idle": "2020-10-20T11:56:45.587214Z",
     "shell.execute_reply": "2020-10-20T11:56:45.586629Z"
    },
    "papermill": {
     "duration": 0.183293,
     "end_time": "2020-10-20T11:56:45.587354",
     "exception": false,
     "start_time": "2020-10-20T11:56:45.404061",
     "status": "completed"
    },
    "tags": []
   },
   "outputs": [],
   "source": [
    "X_train, X_valid, y_train, y_valid = train_test_split(train_X, train_Y, test_size=0.2)"
   ]
  },
  {
   "cell_type": "markdown",
   "metadata": {
    "papermill": {
     "duration": 0.173572,
     "end_time": "2020-10-20T11:56:45.933885",
     "exception": false,
     "start_time": "2020-10-20T11:56:45.760313",
     "status": "completed"
    },
    "tags": []
   },
   "source": [
    "#### 카테고리 변수의 지정"
   ]
  },
  {
   "cell_type": "code",
   "execution_count": 88,
   "metadata": {
    "execution": {
     "iopub.execute_input": "2020-10-20T11:56:46.286692Z",
     "iopub.status.busy": "2020-10-20T11:56:46.285945Z",
     "iopub.status.idle": "2020-10-20T11:56:46.289564Z",
     "shell.execute_reply": "2020-10-20T11:56:46.288912Z"
    },
    "papermill": {
     "duration": 0.18151,
     "end_time": "2020-10-20T11:56:46.289689",
     "exception": false,
     "start_time": "2020-10-20T11:56:46.108179",
     "status": "completed"
    },
    "tags": []
   },
   "outputs": [],
   "source": [
    "categories = [\"Embarked\", \"Pclass\", \"Sex\",\"honorific\",\"alone\"]"
   ]
  },
  {
   "cell_type": "markdown",
   "metadata": {
    "papermill": {
     "duration": 0.174527,
     "end_time": "2020-10-20T11:56:46.637478",
     "exception": false,
     "start_time": "2020-10-20T11:56:46.462951",
     "status": "completed"
    },
    "tags": []
   },
   "source": [
    "#### LightGBM용 데이터셋 작성"
   ]
  },
  {
   "cell_type": "code",
   "execution_count": 89,
   "metadata": {
    "execution": {
     "iopub.execute_input": "2020-10-20T11:56:46.991564Z",
     "iopub.status.busy": "2020-10-20T11:56:46.990878Z",
     "iopub.status.idle": "2020-10-20T11:56:46.994437Z",
     "shell.execute_reply": "2020-10-20T11:56:46.993787Z"
    },
    "papermill": {
     "duration": 0.183749,
     "end_time": "2020-10-20T11:56:46.994557",
     "exception": false,
     "start_time": "2020-10-20T11:56:46.810808",
     "status": "completed"
    },
    "tags": []
   },
   "outputs": [],
   "source": [
    "lgb_train = lgb.Dataset(X_train, y_train, categorical_feature=categories)\n",
    "lgb_eval = lgb.Dataset(X_valid, y_valid,  categorical_feature=categories, reference=lgb_train)"
   ]
  },
  {
   "cell_type": "code",
   "execution_count": 90,
   "metadata": {
    "execution": {
     "iopub.execute_input": "2020-10-20T11:56:47.348657Z",
     "iopub.status.busy": "2020-10-20T11:56:47.347936Z",
     "iopub.status.idle": "2020-10-20T11:56:47.351982Z",
     "shell.execute_reply": "2020-10-20T11:56:47.351230Z"
    },
    "papermill": {
     "duration": 0.183199,
     "end_time": "2020-10-20T11:56:47.352108",
     "exception": false,
     "start_time": "2020-10-20T11:56:47.168909",
     "status": "completed"
    },
    "tags": []
   },
   "outputs": [],
   "source": [
    "lgbm_params = {\n",
    "    \"objective\":\"binary\",        \n",
    "    \"random_seed\":1234,\n",
    "}"
   ]
  },
  {
   "cell_type": "code",
   "execution_count": 91,
   "metadata": {},
   "outputs": [
    {
     "name": "stdout",
     "output_type": "stream",
     "text": [
      "3.10.0\n"
     ]
    }
   ],
   "source": [
    "from platform import python_version\n",
    "\n",
    "print(python_version())"
   ]
  },
  {
   "cell_type": "code",
   "execution_count": 93,
   "metadata": {
    "execution": {
     "iopub.execute_input": "2020-10-20T11:56:47.775465Z",
     "iopub.status.busy": "2020-10-20T11:56:47.774419Z",
     "iopub.status.idle": "2020-10-20T11:56:48.061451Z",
     "shell.execute_reply": "2020-10-20T11:56:48.062521Z"
    },
    "papermill": {
     "duration": 0.493212,
     "end_time": "2020-10-20T11:56:48.062711",
     "exception": false,
     "start_time": "2020-10-20T11:56:47.569499",
     "status": "completed"
    },
    "tags": []
   },
   "outputs": [
    {
     "name": "stdout",
     "output_type": "stream",
     "text": [
      "[LightGBM] [Info] Number of positive: 272, number of negative: 440\n",
      "[LightGBM] [Info] Auto-choosing row-wise multi-threading, the overhead of testing was 0.000551 seconds.\n",
      "You can set `force_row_wise=true` to remove the overhead.\n",
      "And if memory is not enough, you can set `force_col_wise=true`.\n",
      "[LightGBM] [Info] Total Bins 224\n",
      "[LightGBM] [Info] Number of data points in the train set: 712, number of used features: 10\n",
      "[LightGBM] [Info] [binary:BoostFromScore]: pavg=0.382022 -> initscore=-0.480973\n",
      "[LightGBM] [Info] Start training from score -0.480973\n",
      "[LightGBM] [Warning] No further splits with positive gain, best gain: -inf\n",
      "[LightGBM] [Warning] No further splits with positive gain, best gain: -inf\n",
      "[LightGBM] [Warning] No further splits with positive gain, best gain: -inf\n",
      "[LightGBM] [Warning] No further splits with positive gain, best gain: -inf\n",
      "[LightGBM] [Warning] No further splits with positive gain, best gain: -inf\n",
      "[LightGBM] [Warning] No further splits with positive gain, best gain: -inf\n",
      "[LightGBM] [Warning] No further splits with positive gain, best gain: -inf\n",
      "[LightGBM] [Warning] No further splits with positive gain, best gain: -inf\n",
      "[LightGBM] [Warning] No further splits with positive gain, best gain: -inf\n",
      "[LightGBM] [Warning] No further splits with positive gain, best gain: -inf\n",
      "[LightGBM] [Warning] No further splits with positive gain, best gain: -inf\n",
      "[LightGBM] [Warning] No further splits with positive gain, best gain: -inf\n",
      "[LightGBM] [Warning] No further splits with positive gain, best gain: -inf\n",
      "[LightGBM] [Warning] No further splits with positive gain, best gain: -inf\n",
      "[LightGBM] [Warning] No further splits with positive gain, best gain: -inf\n",
      "[LightGBM] [Warning] No further splits with positive gain, best gain: -inf\n",
      "[LightGBM] [Warning] No further splits with positive gain, best gain: -inf\n",
      "[LightGBM] [Warning] No further splits with positive gain, best gain: -inf\n",
      "[LightGBM] [Warning] No further splits with positive gain, best gain: -inf\n",
      "[LightGBM] [Warning] No further splits with positive gain, best gain: -inf\n",
      "[LightGBM] [Warning] No further splits with positive gain, best gain: -inf\n",
      "[LightGBM] [Warning] No further splits with positive gain, best gain: -inf\n",
      "[LightGBM] [Warning] No further splits with positive gain, best gain: -inf\n",
      "[LightGBM] [Warning] No further splits with positive gain, best gain: -inf\n",
      "[LightGBM] [Warning] No further splits with positive gain, best gain: -inf\n",
      "[LightGBM] [Warning] No further splits with positive gain, best gain: -inf\n",
      "[LightGBM] [Warning] No further splits with positive gain, best gain: -inf\n",
      "[LightGBM] [Warning] No further splits with positive gain, best gain: -inf\n",
      "[LightGBM] [Warning] No further splits with positive gain, best gain: -inf\n",
      "[LightGBM] [Warning] No further splits with positive gain, best gain: -inf\n",
      "[LightGBM] [Warning] No further splits with positive gain, best gain: -inf\n",
      "[LightGBM] [Warning] No further splits with positive gain, best gain: -inf\n",
      "[LightGBM] [Warning] No further splits with positive gain, best gain: -inf\n",
      "[LightGBM] [Warning] No further splits with positive gain, best gain: -inf\n",
      "[LightGBM] [Warning] No further splits with positive gain, best gain: -inf\n",
      "[LightGBM] [Warning] No further splits with positive gain, best gain: -inf\n",
      "[LightGBM] [Warning] No further splits with positive gain, best gain: -inf\n",
      "[LightGBM] [Warning] No further splits with positive gain, best gain: -inf\n",
      "[LightGBM] [Warning] No further splits with positive gain, best gain: -inf\n",
      "[LightGBM] [Warning] No further splits with positive gain, best gain: -inf\n",
      "[LightGBM] [Warning] No further splits with positive gain, best gain: -inf\n",
      "[LightGBM] [Warning] No further splits with positive gain, best gain: -inf\n",
      "[LightGBM] [Warning] No further splits with positive gain, best gain: -inf\n",
      "[LightGBM] [Warning] No further splits with positive gain, best gain: -inf\n",
      "[LightGBM] [Warning] No further splits with positive gain, best gain: -inf\n",
      "[LightGBM] [Warning] No further splits with positive gain, best gain: -inf\n",
      "[LightGBM] [Warning] No further splits with positive gain, best gain: -inf\n",
      "[LightGBM] [Warning] No further splits with positive gain, best gain: -inf\n",
      "[LightGBM] [Warning] No further splits with positive gain, best gain: -inf\n",
      "[LightGBM] [Warning] No further splits with positive gain, best gain: -inf\n",
      "[LightGBM] [Warning] No further splits with positive gain, best gain: -inf\n",
      "[LightGBM] [Warning] No further splits with positive gain, best gain: -inf\n",
      "[LightGBM] [Warning] No further splits with positive gain, best gain: -inf\n",
      "[LightGBM] [Warning] No further splits with positive gain, best gain: -inf\n",
      "[LightGBM] [Warning] No further splits with positive gain, best gain: -inf\n",
      "[LightGBM] [Warning] No further splits with positive gain, best gain: -inf\n",
      "[LightGBM] [Warning] No further splits with positive gain, best gain: -inf\n",
      "[LightGBM] [Warning] No further splits with positive gain, best gain: -inf\n",
      "[LightGBM] [Warning] No further splits with positive gain, best gain: -inf\n",
      "[LightGBM] [Warning] No further splits with positive gain, best gain: -inf\n",
      "[LightGBM] [Warning] No further splits with positive gain, best gain: -inf\n",
      "[LightGBM] [Warning] No further splits with positive gain, best gain: -inf\n",
      "[LightGBM] [Warning] No further splits with positive gain, best gain: -inf\n",
      "[LightGBM] [Warning] No further splits with positive gain, best gain: -inf\n",
      "[LightGBM] [Warning] No further splits with positive gain, best gain: -inf\n",
      "[LightGBM] [Warning] No further splits with positive gain, best gain: -inf\n",
      "[LightGBM] [Warning] No further splits with positive gain, best gain: -inf\n",
      "[LightGBM] [Warning] No further splits with positive gain, best gain: -inf\n",
      "[LightGBM] [Warning] No further splits with positive gain, best gain: -inf\n",
      "[LightGBM] [Warning] No further splits with positive gain, best gain: -inf\n",
      "[LightGBM] [Warning] No further splits with positive gain, best gain: -inf\n",
      "[LightGBM] [Warning] No further splits with positive gain, best gain: -inf\n",
      "[LightGBM] [Warning] No further splits with positive gain, best gain: -inf\n",
      "[LightGBM] [Warning] No further splits with positive gain, best gain: -inf\n",
      "[LightGBM] [Warning] No further splits with positive gain, best gain: -inf\n",
      "[LightGBM] [Warning] No further splits with positive gain, best gain: -inf\n",
      "[LightGBM] [Warning] No further splits with positive gain, best gain: -inf\n",
      "[LightGBM] [Warning] No further splits with positive gain, best gain: -inf\n",
      "[LightGBM] [Warning] No further splits with positive gain, best gain: -inf\n",
      "[LightGBM] [Warning] No further splits with positive gain, best gain: -inf\n",
      "[LightGBM] [Warning] No further splits with positive gain, best gain: -inf\n",
      "[LightGBM] [Warning] No further splits with positive gain, best gain: -inf\n",
      "[LightGBM] [Warning] No further splits with positive gain, best gain: -inf\n",
      "[LightGBM] [Warning] No further splits with positive gain, best gain: -inf\n",
      "[LightGBM] [Warning] No further splits with positive gain, best gain: -inf\n",
      "[LightGBM] [Warning] No further splits with positive gain, best gain: -inf\n",
      "[LightGBM] [Warning] No further splits with positive gain, best gain: -inf\n",
      "[LightGBM] [Warning] No further splits with positive gain, best gain: -inf\n",
      "[LightGBM] [Warning] No further splits with positive gain, best gain: -inf\n",
      "[LightGBM] [Warning] No further splits with positive gain, best gain: -inf\n",
      "[LightGBM] [Warning] No further splits with positive gain, best gain: -inf\n",
      "[LightGBM] [Warning] No further splits with positive gain, best gain: -inf\n",
      "[LightGBM] [Warning] No further splits with positive gain, best gain: -inf\n",
      "[LightGBM] [Warning] No further splits with positive gain, best gain: -inf\n",
      "[LightGBM] [Warning] No further splits with positive gain, best gain: -inf\n",
      "[LightGBM] [Warning] No further splits with positive gain, best gain: -inf\n",
      "[LightGBM] [Warning] No further splits with positive gain, best gain: -inf\n"
     ]
    }
   ],
   "source": [
    "model_lgb = lgb.train(lgbm_params, \n",
    "                      lgb_train, \n",
    "                      valid_sets=lgb_eval, \n",
    "                      num_boost_round=100,\n",
    "                      )"
   ]
  },
  {
   "cell_type": "markdown",
   "metadata": {
    "papermill": {
     "duration": 0.175287,
     "end_time": "2020-10-20T11:56:48.445270",
     "exception": false,
     "start_time": "2020-10-20T11:56:48.269983",
     "status": "completed"
    },
    "tags": []
   },
   "source": [
    "#### 각 변수의 중요도 가시화"
   ]
  },
  {
   "cell_type": "code",
   "execution_count": 94,
   "metadata": {
    "execution": {
     "iopub.execute_input": "2020-10-20T11:56:48.804003Z",
     "iopub.status.busy": "2020-10-20T11:56:48.802975Z",
     "iopub.status.idle": "2020-10-20T11:56:48.807147Z",
     "shell.execute_reply": "2020-10-20T11:56:48.806569Z"
    },
    "papermill": {
     "duration": 0.185601,
     "end_time": "2020-10-20T11:56:48.807280",
     "exception": false,
     "start_time": "2020-10-20T11:56:48.621679",
     "status": "completed"
    },
    "tags": []
   },
   "outputs": [
    {
     "data": {
      "text/plain": [
       "array([ 102,   60, 1026,   56,   34, 1117,  127,   34,   97,   11],\n",
       "      dtype=int32)"
      ]
     },
     "execution_count": 94,
     "metadata": {},
     "output_type": "execute_result"
    }
   ],
   "source": [
    "model_lgb.feature_importance()"
   ]
  },
  {
   "cell_type": "code",
   "execution_count": 83,
   "metadata": {
    "execution": {
     "iopub.execute_input": "2020-10-20T11:56:49.180431Z",
     "iopub.status.busy": "2020-10-20T11:56:49.174879Z",
     "iopub.status.idle": "2020-10-20T11:56:49.365412Z",
     "shell.execute_reply": "2020-10-20T11:56:49.364302Z"
    },
    "papermill": {
     "duration": 0.380284,
     "end_time": "2020-10-20T11:56:49.365608",
     "exception": false,
     "start_time": "2020-10-20T11:56:48.985324",
     "status": "completed"
    },
    "tags": []
   },
   "outputs": [
    {
     "data": {
      "text/plain": [
       "<matplotlib.axes._subplots.AxesSubplot at 0x1df0de7b048>"
      ]
     },
     "execution_count": 83,
     "metadata": {},
     "output_type": "execute_result"
    },
    {
     "data": {
      "image/png": "[encoded data removed]",
      "text/plain": [
       "<Figure size 432x288 with 1 Axes>"
      ]
     },
     "metadata": {},
     "output_type": "display_data"
    }
   ],
   "source": [
    "importance = pd.DataFrame(model_lgb.feature_importance(), index=X_train.columns, columns=[\"importance\"]).sort_values(by=\"importance\",ascending =True)\n",
    "importance.plot.barh()"
   ]
  },
  {
   "cell_type": "markdown",
   "metadata": {
    "papermill": {
     "duration": 0.178319,
     "end_time": "2020-10-20T11:56:49.724193",
     "exception": false,
     "start_time": "2020-10-20T11:56:49.545874",
     "status": "completed"
    },
    "tags": []
   },
   "source": [
    "#### 검증 데이터로 예측 정확도 확인"
   ]
  },
  {
   "cell_type": "code",
   "execution_count": 84,
   "metadata": {
    "execution": {
     "iopub.execute_input": "2020-10-20T11:56:50.094681Z",
     "iopub.status.busy": "2020-10-20T11:56:50.093036Z",
     "iopub.status.idle": "2020-10-20T11:56:50.095468Z",
     "shell.execute_reply": "2020-10-20T11:56:50.093900Z"
    },
    "papermill": {
     "duration": 0.194756,
     "end_time": "2020-10-20T11:56:50.095606",
     "exception": false,
     "start_time": "2020-10-20T11:56:49.900850",
     "status": "completed"
    },
    "tags": []
   },
   "outputs": [],
   "source": [
    "y_pred = model_lgb.predict(X_valid, num_iteration=model_lgb.best_iteration)"
   ]
  },
  {
   "cell_type": "code",
   "execution_count": 85,
   "metadata": {
    "execution": {
     "iopub.execute_input": "2020-10-20T11:56:50.506198Z",
     "iopub.status.busy": "2020-10-20T11:56:50.505264Z",
     "iopub.status.idle": "2020-10-20T11:56:50.507644Z",
     "shell.execute_reply": "2020-10-20T11:56:50.508244Z"
    },
    "papermill": {
     "duration": 0.19627,
     "end_time": "2020-10-20T11:56:50.508393",
     "exception": false,
     "start_time": "2020-10-20T11:56:50.312123",
     "status": "completed"
    },
    "tags": []
   },
   "outputs": [],
   "source": [
    "from sklearn.metrics import accuracy_score"
   ]
  },
  {
   "cell_type": "code",
   "execution_count": 86,
   "metadata": {
    "execution": {
     "iopub.execute_input": "2020-10-20T11:56:50.870081Z",
     "iopub.status.busy": "2020-10-20T11:56:50.869052Z",
     "iopub.status.idle": "2020-10-20T11:56:50.873213Z",
     "shell.execute_reply": "2020-10-20T11:56:50.872639Z"
    },
    "papermill": {
     "duration": 0.186912,
     "end_time": "2020-10-20T11:56:50.873342",
     "exception": false,
     "start_time": "2020-10-20T11:56:50.686430",
     "status": "completed"
    },
    "tags": []
   },
   "outputs": [
    {
     "data": {
      "text/plain": [
       "0.8435754189944135"
      ]
     },
     "execution_count": 86,
     "metadata": {},
     "output_type": "execute_result"
    }
   ],
   "source": [
    "accuracy_score(y_valid, np.round(y_pred))"
   ]
  },
  {
   "cell_type": "markdown",
   "metadata": {
    "papermill": {
     "duration": 0.178178,
     "end_time": "2020-10-20T11:56:51.230870",
     "exception": false,
     "start_time": "2020-10-20T11:56:51.052692",
     "status": "completed"
    },
    "tags": []
   },
   "source": [
    "#### LightGBM의 하이퍼파라미터 변경하기"
   ]
  },
  {
   "cell_type": "code",
   "execution_count": 87,
   "metadata": {
    "execution": {
     "iopub.execute_input": "2020-10-20T11:56:51.594395Z",
     "iopub.status.busy": "2020-10-20T11:56:51.593313Z",
     "iopub.status.idle": "2020-10-20T11:56:51.596815Z",
     "shell.execute_reply": "2020-10-20T11:56:51.596172Z"
    },
    "papermill": {
     "duration": 0.187585,
     "end_time": "2020-10-20T11:56:51.596944",
     "exception": false,
     "start_time": "2020-10-20T11:56:51.409359",
     "status": "completed"
    },
    "tags": []
   },
   "outputs": [],
   "source": [
    "lgbm_params = {\n",
    "    \"objective\":\"binary\",\n",
    "    \"max_bin\":331,\n",
    "    \"num_leaves\": 20,\n",
    "    \"min_data_in_leaf\": 57,\n",
    "    \"andom_seed\":1234,\n",
    "}"
   ]
  },
  {
   "cell_type": "code",
   "execution_count": 88,
   "metadata": {
    "execution": {
     "iopub.execute_input": "2020-10-20T11:56:51.958339Z",
     "iopub.status.busy": "2020-10-20T11:56:51.957270Z",
     "iopub.status.idle": "2020-10-20T11:56:51.960895Z",
     "shell.execute_reply": "2020-10-20T11:56:51.960308Z"
    },
    "papermill": {
     "duration": 0.18687,
     "end_time": "2020-10-20T11:56:51.961028",
     "exception": false,
     "start_time": "2020-10-20T11:56:51.774158",
     "status": "completed"
    },
    "tags": []
   },
   "outputs": [],
   "source": [
    "lgb_train = lgb.Dataset(X_train, y_train, categorical_feature=categories)\n",
    "lgb_eval = lgb.Dataset(X_valid, y_valid, categorical_feature=categories, reference=lgb_train)"
   ]
  },
  {
   "cell_type": "code",
   "execution_count": 89,
   "metadata": {
    "execution": {
     "iopub.execute_input": "2020-10-20T11:56:52.330925Z",
     "iopub.status.busy": "2020-10-20T11:56:52.330080Z",
     "iopub.status.idle": "2020-10-20T11:56:52.552257Z",
     "shell.execute_reply": "2020-10-20T11:56:52.553087Z"
    },
    "papermill": {
     "duration": 0.409806,
     "end_time": "2020-10-20T11:56:52.553260",
     "exception": false,
     "start_time": "2020-10-20T11:56:52.143454",
     "status": "completed"
    },
    "tags": []
   },
   "outputs": [
    {
     "name": "stdout",
     "output_type": "stream",
     "text": [
      "Training until validation scores don't improve for 20 rounds\n",
      "[10]\tvalid_0's binary_logloss: 0.470659\n",
      "[20]\tvalid_0's binary_logloss: 0.425654\n",
      "[30]\tvalid_0's binary_logloss: 0.413748\n",
      "[40]\tvalid_0's binary_logloss: 0.410545\n",
      "[50]\tvalid_0's binary_logloss: 0.412232\n",
      "[60]\tvalid_0's binary_logloss: 0.407988\n",
      "[70]\tvalid_0's binary_logloss: 0.407494\n",
      "[80]\tvalid_0's binary_logloss: 0.410995\n",
      "[90]\tvalid_0's binary_logloss: 0.413203\n",
      "Early stopping, best iteration is:\n",
      "[73]\tvalid_0's binary_logloss: 0.406565\n"
     ]
    }
   ],
   "source": [
    "model_lgb = lgb.train(lgbm_params, lgb_train, \n",
    "                      valid_sets=lgb_eval, \n",
    "                      num_boost_round=100,\n",
    "                      early_stopping_rounds=20,\n",
    "                      verbose_eval=10)"
   ]
  },
  {
   "cell_type": "code",
   "execution_count": 90,
   "metadata": {
    "execution": {
     "iopub.execute_input": "2020-10-20T11:56:52.955502Z",
     "iopub.status.busy": "2020-10-20T11:56:52.954616Z",
     "iopub.status.idle": "2020-10-20T11:56:52.960181Z",
     "shell.execute_reply": "2020-10-20T11:56:52.960713Z"
    },
    "papermill": {
     "duration": 0.194351,
     "end_time": "2020-10-20T11:56:52.960916",
     "exception": false,
     "start_time": "2020-10-20T11:56:52.766565",
     "status": "completed"
    },
    "tags": []
   },
   "outputs": [],
   "source": [
    "y_pred = model_lgb.predict(X_valid, num_iteration=model_lgb.best_iteration)"
   ]
  },
  {
   "cell_type": "code",
   "execution_count": 91,
   "metadata": {
    "execution": {
     "iopub.execute_input": "2020-10-20T11:56:53.390949Z",
     "iopub.status.busy": "2020-10-20T11:56:53.390109Z",
     "iopub.status.idle": "2020-10-20T11:56:53.394128Z",
     "shell.execute_reply": "2020-10-20T11:56:53.394711Z"
    },
    "papermill": {
     "duration": 0.224149,
     "end_time": "2020-10-20T11:56:53.394878",
     "exception": false,
     "start_time": "2020-10-20T11:56:53.170729",
     "status": "completed"
    },
    "tags": []
   },
   "outputs": [
    {
     "data": {
      "text/plain": [
       "0.8491620111731844"
      ]
     },
     "execution_count": 91,
     "metadata": {},
     "output_type": "execute_result"
    }
   ],
   "source": [
    "accuracy_score(y_valid, np.round(y_pred))"
   ]
  },
  {
   "cell_type": "markdown",
   "metadata": {
    "papermill": {
     "duration": 0.178959,
     "end_time": "2020-10-20T11:56:53.754073",
     "exception": false,
     "start_time": "2020-10-20T11:56:53.575114",
     "status": "completed"
    },
    "tags": []
   },
   "source": [
    "#### 교차 검증을 통한 학습"
   ]
  },
  {
   "cell_type": "code",
   "execution_count": 92,
   "metadata": {
    "execution": {
     "iopub.execute_input": "2020-10-20T11:56:54.121226Z",
     "iopub.status.busy": "2020-10-20T11:56:54.120451Z",
     "iopub.status.idle": "2020-10-20T11:56:54.123873Z",
     "shell.execute_reply": "2020-10-20T11:56:54.123222Z"
    },
    "papermill": {
     "duration": 0.18935,
     "end_time": "2020-10-20T11:56:54.123999",
     "exception": false,
     "start_time": "2020-10-20T11:56:53.934649",
     "status": "completed"
    },
    "tags": []
   },
   "outputs": [],
   "source": [
    "folds = 3\n",
    "\n",
    "kf = KFold(n_splits=folds)"
   ]
  },
  {
   "cell_type": "code",
   "execution_count": 93,
   "metadata": {
    "execution": {
     "iopub.execute_input": "2020-10-20T11:56:54.511072Z",
     "iopub.status.busy": "2020-10-20T11:56:54.510070Z",
     "iopub.status.idle": "2020-10-20T11:56:54.851653Z",
     "shell.execute_reply": "2020-10-20T11:56:54.852556Z"
    },
    "papermill": {
     "duration": 0.546306,
     "end_time": "2020-10-20T11:56:54.852737",
     "exception": false,
     "start_time": "2020-10-20T11:56:54.306431",
     "status": "completed"
    },
    "tags": []
   },
   "outputs": [
    {
     "name": "stdout",
     "output_type": "stream",
     "text": [
      "Training until validation scores don't improve for 20 rounds\n",
      "[10]\tvalid_0's binary_logloss: 0.503031\n",
      "[20]\tvalid_0's binary_logloss: 0.465863\n",
      "[30]\tvalid_0's binary_logloss: 0.454056\n",
      "[40]\tvalid_0's binary_logloss: 0.451228\n",
      "[50]\tvalid_0's binary_logloss: 0.44724\n",
      "[60]\tvalid_0's binary_logloss: 0.447342\n",
      "[70]\tvalid_0's binary_logloss: 0.450126\n",
      "Early stopping, best iteration is:\n",
      "[54]\tvalid_0's binary_logloss: 0.445648\n",
      "0.8249158249158249\n",
      "Training until validation scores don't improve for 20 rounds\n",
      "[10]\tvalid_0's binary_logloss: 0.482264\n",
      "[20]\tvalid_0's binary_logloss: 0.440853\n",
      "[30]\tvalid_0's binary_logloss: 0.435016\n",
      "[40]\tvalid_0's binary_logloss: 0.433286\n",
      "[50]\tvalid_0's binary_logloss: 0.432128\n",
      "[60]\tvalid_0's binary_logloss: 0.430387\n",
      "[70]\tvalid_0's binary_logloss: 0.431241\n",
      "[80]\tvalid_0's binary_logloss: 0.438053\n",
      "Early stopping, best iteration is:\n",
      "[62]\tvalid_0's binary_logloss: 0.429561\n",
      "0.8181818181818182\n",
      "Training until validation scores don't improve for 20 rounds\n",
      "[10]\tvalid_0's binary_logloss: 0.471854\n",
      "[20]\tvalid_0's binary_logloss: 0.412579\n",
      "[30]\tvalid_0's binary_logloss: 0.393023\n",
      "[40]\tvalid_0's binary_logloss: 0.385434\n",
      "[50]\tvalid_0's binary_logloss: 0.38159\n",
      "[60]\tvalid_0's binary_logloss: 0.378753\n",
      "[70]\tvalid_0's binary_logloss: 0.376992\n",
      "[80]\tvalid_0's binary_logloss: 0.375146\n",
      "[90]\tvalid_0's binary_logloss: 0.379274\n",
      "[100]\tvalid_0's binary_logloss: 0.381002\n",
      "Early stopping, best iteration is:\n",
      "[80]\tvalid_0's binary_logloss: 0.375146\n",
      "0.8282828282828283\n"
     ]
    }
   ],
   "source": [
    "models = []\n",
    "\n",
    "for train_index, val_index in kf.split(train_X):\n",
    "    X_train = train_X.iloc[train_index]\n",
    "    X_valid = train_X.iloc[val_index]\n",
    "    y_train = train_Y.iloc[train_index]\n",
    "    y_valid = train_Y.iloc[val_index]\n",
    "        \n",
    "    lgb_train = lgb.Dataset(X_train, y_train, categorical_feature=categories)\n",
    "    lgb_eval = lgb.Dataset(X_valid, y_valid, categorical_feature=categories, reference=lgb_train)    \n",
    "    \n",
    "    model_lgb = lgb.train(lgbm_params, \n",
    "                          lgb_train, \n",
    "                          valid_sets=lgb_eval, \n",
    "                          num_boost_round=100,\n",
    "                          early_stopping_rounds=20,\n",
    "                          verbose_eval=10,\n",
    "                         )\n",
    "    \n",
    "    \n",
    "    y_pred = model_lgb.predict(X_valid, num_iteration=model_lgb.best_iteration)\n",
    "    print(accuracy_score(y_valid, np.round(y_pred)))\n",
    "    \n",
    "    models.append(model_lgb)"
   ]
  },
  {
   "cell_type": "markdown",
   "metadata": {
    "papermill": {
     "duration": 0.18188,
     "end_time": "2020-10-20T11:56:55.246825",
     "exception": false,
     "start_time": "2020-10-20T11:56:55.064945",
     "status": "completed"
    },
    "tags": []
   },
   "source": [
    "#### 테스트 데이터의 예측 결과 산출하기"
   ]
  },
  {
   "cell_type": "code",
   "execution_count": 94,
   "metadata": {
    "execution": {
     "iopub.execute_input": "2020-10-20T11:56:55.637910Z",
     "iopub.status.busy": "2020-10-20T11:56:55.637166Z",
     "iopub.status.idle": "2020-10-20T11:56:55.648088Z",
     "shell.execute_reply": "2020-10-20T11:56:55.648799Z"
    },
    "papermill": {
     "duration": 0.222338,
     "end_time": "2020-10-20T11:56:55.648974",
     "exception": false,
     "start_time": "2020-10-20T11:56:55.426636",
     "status": "completed"
    },
    "tags": []
   },
   "outputs": [],
   "source": [
    "preds = []\n",
    "\n",
    "for model in models:\n",
    "    pred = model.predict(test_X)\n",
    "    preds.append(pred)"
   ]
  },
  {
   "cell_type": "code",
   "execution_count": 95,
   "metadata": {
    "execution": {
     "iopub.execute_input": "2020-10-20T11:56:56.048363Z",
     "iopub.status.busy": "2020-10-20T11:56:56.047341Z",
     "iopub.status.idle": "2020-10-20T11:56:56.050461Z",
     "shell.execute_reply": "2020-10-20T11:56:56.049721Z"
    },
    "papermill": {
     "duration": 0.189752,
     "end_time": "2020-10-20T11:56:56.050581",
     "exception": false,
     "start_time": "2020-10-20T11:56:55.860829",
     "status": "completed"
    },
    "tags": []
   },
   "outputs": [],
   "source": [
    "preds_array = np.array(preds)\n",
    "preds_mean = np.mean(preds_array, axis=0)"
   ]
  },
  {
   "cell_type": "code",
   "execution_count": 96,
   "metadata": {
    "execution": {
     "iopub.execute_input": "2020-10-20T11:56:56.421728Z",
     "iopub.status.busy": "2020-10-20T11:56:56.420803Z",
     "iopub.status.idle": "2020-10-20T11:56:56.423863Z",
     "shell.execute_reply": "2020-10-20T11:56:56.423233Z"
    },
    "papermill": {
     "duration": 0.188598,
     "end_time": "2020-10-20T11:56:56.423994",
     "exception": false,
     "start_time": "2020-10-20T11:56:56.235396",
     "status": "completed"
    },
    "tags": []
   },
   "outputs": [],
   "source": [
    "preds_int = (preds_mean > 0.5).astype(int)"
   ]
  },
  {
   "cell_type": "markdown",
   "metadata": {
    "papermill": {
     "duration": 0.180879,
     "end_time": "2020-10-20T11:56:56.802375",
     "exception": false,
     "start_time": "2020-10-20T11:56:56.621496",
     "status": "completed"
    },
    "tags": []
   },
   "source": [
    "#### submission 파일 생성하기"
   ]
  },
  {
   "cell_type": "code",
   "execution_count": 97,
   "metadata": {
    "execution": {
     "iopub.execute_input": "2020-10-20T11:56:57.171558Z",
     "iopub.status.busy": "2020-10-20T11:56:57.170638Z",
     "iopub.status.idle": "2020-10-20T11:56:57.173856Z",
     "shell.execute_reply": "2020-10-20T11:56:57.173268Z"
    },
    "papermill": {
     "duration": 0.190354,
     "end_time": "2020-10-20T11:56:57.173984",
     "exception": false,
     "start_time": "2020-10-20T11:56:56.983630",
     "status": "completed"
    },
    "tags": []
   },
   "outputs": [],
   "source": [
    "submission[\"Survived\"] = preds_int"
   ]
  },
  {
   "cell_type": "code",
   "execution_count": 98,
   "metadata": {
    "execution": {
     "iopub.execute_input": "2020-10-20T11:56:57.549857Z",
     "iopub.status.busy": "2020-10-20T11:56:57.548759Z",
     "iopub.status.idle": "2020-10-20T11:56:57.552631Z",
     "shell.execute_reply": "2020-10-20T11:56:57.553248Z"
    },
    "papermill": {
     "duration": 0.196463,
     "end_time": "2020-10-20T11:56:57.553399",
     "exception": false,
     "start_time": "2020-10-20T11:56:57.356936",
     "status": "completed"
    },
    "tags": []
   },
   "outputs": [
    {
     "data": {
      "text/html": [
       "<div>\n",
       "<style scoped>\n",
       "    .dataframe tbody tr th:only-of-type {\n",
       "        vertical-align: middle;\n",
       "    }\n",
       "\n",
       "    .dataframe tbody tr th {\n",
       "        vertical-align: top;\n",
       "    }\n",
       "\n",
       "    .dataframe thead th {\n",
       "        text-align: right;\n",
       "    }\n",
       "</style>\n",
       "<table border=\"1\" class=\"dataframe\">\n",
       "  <thead>\n",
       "    <tr style=\"text-align: right;\">\n",
       "      <th></th>\n",
       "      <th>PassengerId</th>\n",
       "      <th>Survived</th>\n",
       "    </tr>\n",
       "  </thead>\n",
       "  <tbody>\n",
       "    <tr>\n",
       "      <th>0</th>\n",
       "      <td>892</td>\n",
       "      <td>0</td>\n",
       "    </tr>\n",
       "    <tr>\n",
       "      <th>1</th>\n",
       "      <td>893</td>\n",
       "      <td>0</td>\n",
       "    </tr>\n",
       "    <tr>\n",
       "      <th>2</th>\n",
       "      <td>894</td>\n",
       "      <td>0</td>\n",
       "    </tr>\n",
       "    <tr>\n",
       "      <th>3</th>\n",
       "      <td>895</td>\n",
       "      <td>0</td>\n",
       "    </tr>\n",
       "    <tr>\n",
       "      <th>4</th>\n",
       "      <td>896</td>\n",
       "      <td>1</td>\n",
       "    </tr>\n",
       "    <tr>\n",
       "      <th>...</th>\n",
       "      <td>...</td>\n",
       "      <td>...</td>\n",
       "    </tr>\n",
       "    <tr>\n",
       "      <th>413</th>\n",
       "      <td>1305</td>\n",
       "      <td>0</td>\n",
       "    </tr>\n",
       "    <tr>\n",
       "      <th>414</th>\n",
       "      <td>1306</td>\n",
       "      <td>1</td>\n",
       "    </tr>\n",
       "    <tr>\n",
       "      <th>415</th>\n",
       "      <td>1307</td>\n",
       "      <td>0</td>\n",
       "    </tr>\n",
       "    <tr>\n",
       "      <th>416</th>\n",
       "      <td>1308</td>\n",
       "      <td>0</td>\n",
       "    </tr>\n",
       "    <tr>\n",
       "      <th>417</th>\n",
       "      <td>1309</td>\n",
       "      <td>1</td>\n",
       "    </tr>\n",
       "  </tbody>\n",
       "</table>\n",
       "<p>418 rows × 2 columns</p>\n",
       "</div>"
      ],
      "text/plain": [
       "     PassengerId  Survived\n",
       "0            892         0\n",
       "1            893         0\n",
       "2            894         0\n",
       "3            895         0\n",
       "4            896         1\n",
       "..           ...       ...\n",
       "413         1305         0\n",
       "414         1306         1\n",
       "415         1307         0\n",
       "416         1308         0\n",
       "417         1309         1\n",
       "\n",
       "[418 rows x 2 columns]"
      ]
     },
     "execution_count": 98,
     "metadata": {},
     "output_type": "execute_result"
    }
   ],
   "source": [
    "submission"
   ]
  },
  {
   "cell_type": "code",
   "execution_count": 99,
   "metadata": {
    "execution": {
     "iopub.execute_input": "2020-10-20T11:56:57.925227Z",
     "iopub.status.busy": "2020-10-20T11:56:57.924295Z",
     "iopub.status.idle": "2020-10-20T11:56:58.304551Z",
     "shell.execute_reply": "2020-10-20T11:56:58.303871Z"
    },
    "papermill": {
     "duration": 0.567519,
     "end_time": "2020-10-20T11:56:58.304675",
     "exception": false,
     "start_time": "2020-10-20T11:56:57.737156",
     "status": "completed"
    },
    "tags": []
   },
   "outputs": [],
   "source": [
    "submission.to_csv(\"./titanic_submit01.csv\",index=False)"
   ]
  },
  {
   "cell_type": "markdown",
   "metadata": {
    "papermill": {
     "duration": 0.183154,
     "end_time": "2020-10-20T11:56:58.672164",
     "exception": false,
     "start_time": "2020-10-20T11:56:58.489010",
     "status": "completed"
    },
    "tags": []
   },
   "source": [
    "## Appendix1. Passenger Type"
   ]
  },
  {
   "cell_type": "markdown",
   "metadata": {
    "papermill": {
     "duration": 0.183339,
     "end_time": "2020-10-20T11:56:59.039145",
     "exception": false,
     "start_time": "2020-10-20T11:56:58.855806",
     "status": "completed"
    },
    "tags": []
   },
   "source": [
    "### 타이타닉에는 어떤 사람이 승선하고 있었는가"
   ]
  },
  {
   "cell_type": "markdown",
   "metadata": {
    "papermill": {
     "duration": 0.184954,
     "end_time": "2020-10-20T11:56:59.411386",
     "exception": false,
     "start_time": "2020-10-20T11:56:59.226432",
     "status": "completed"
    },
    "tags": []
   },
   "source": [
    "#### 티켓 등급별 인원수 확인하기"
   ]
  },
  {
   "cell_type": "code",
   "execution_count": 100,
   "metadata": {
    "execution": {
     "iopub.execute_input": "2020-10-20T11:56:59.786933Z",
     "iopub.status.busy": "2020-10-20T11:56:59.786132Z",
     "iopub.status.idle": "2020-10-20T11:56:59.807121Z",
     "shell.execute_reply": "2020-10-20T11:56:59.806336Z"
    },
    "papermill": {
     "duration": 0.21234,
     "end_time": "2020-10-20T11:56:59.807247",
     "exception": false,
     "start_time": "2020-10-20T11:56:59.594907",
     "status": "completed"
    },
    "tags": []
   },
   "outputs": [],
   "source": [
    "train_df =  pd.read_csv(\"./data/train.csv\")\n",
    "test_df =  pd.read_csv(\"./data/test.csv\")\n",
    "all_df = pd.concat([train_df, test_df],sort=False).reset_index(drop=True)"
   ]
  },
  {
   "cell_type": "code",
   "execution_count": 101,
   "metadata": {
    "execution": {
     "iopub.execute_input": "2020-10-20T11:57:00.182277Z",
     "iopub.status.busy": "2020-10-20T11:57:00.181391Z",
     "iopub.status.idle": "2020-10-20T11:57:00.185947Z",
     "shell.execute_reply": "2020-10-20T11:57:00.185389Z"
    },
    "papermill": {
     "duration": 0.195081,
     "end_time": "2020-10-20T11:57:00.186066",
     "exception": false,
     "start_time": "2020-10-20T11:56:59.990985",
     "status": "completed"
    },
    "tags": []
   },
   "outputs": [
    {
     "data": {
      "text/plain": [
       "3    709\n",
       "1    323\n",
       "2    277\n",
       "Name: Pclass, dtype: int64"
      ]
     },
     "execution_count": 101,
     "metadata": {},
     "output_type": "execute_result"
    }
   ],
   "source": [
    "all_df.Pclass.value_counts()"
   ]
  },
  {
   "cell_type": "code",
   "execution_count": 102,
   "metadata": {
    "execution": {
     "iopub.execute_input": "2020-10-20T11:57:00.562321Z",
     "iopub.status.busy": "2020-10-20T11:57:00.561424Z",
     "iopub.status.idle": "2020-10-20T11:57:00.695236Z",
     "shell.execute_reply": "2020-10-20T11:57:00.694473Z"
    },
    "papermill": {
     "duration": 0.326457,
     "end_time": "2020-10-20T11:57:00.695359",
     "exception": false,
     "start_time": "2020-10-20T11:57:00.368902",
     "status": "completed"
    },
    "tags": []
   },
   "outputs": [
    {
     "data": {
      "text/plain": [
       "<matplotlib.axes._subplots.AxesSubplot at 0x1df0df69cc8>"
      ]
     },
     "execution_count": 102,
     "metadata": {},
     "output_type": "execute_result"
    },
    {
     "data": {
      "image/png": "[encoded data removed]",
      "text/plain": [
       "<Figure size 432x288 with 1 Axes>"
      ]
     },
     "metadata": {},
     "output_type": "display_data"
    }
   ],
   "source": [
    "all_df.Pclass.value_counts().plot.bar()"
   ]
  },
  {
   "cell_type": "code",
   "execution_count": 103,
   "metadata": {
    "execution": {
     "iopub.execute_input": "2020-10-20T11:57:01.075628Z",
     "iopub.status.busy": "2020-10-20T11:57:01.072652Z",
     "iopub.status.idle": "2020-10-20T11:57:01.110632Z",
     "shell.execute_reply": "2020-10-20T11:57:01.110056Z"
    },
    "papermill": {
     "duration": 0.230338,
     "end_time": "2020-10-20T11:57:01.110754",
     "exception": false,
     "start_time": "2020-10-20T11:57:00.880416",
     "status": "completed"
    },
    "tags": []
   },
   "outputs": [
    {
     "data": {
      "text/html": [
       "<div>\n",
       "<style scoped>\n",
       "    .dataframe tbody tr th:only-of-type {\n",
       "        vertical-align: middle;\n",
       "    }\n",
       "\n",
       "    .dataframe tbody tr th {\n",
       "        vertical-align: top;\n",
       "    }\n",
       "\n",
       "    .dataframe thead tr th {\n",
       "        text-align: left;\n",
       "    }\n",
       "\n",
       "    .dataframe thead tr:last-of-type th {\n",
       "        text-align: right;\n",
       "    }\n",
       "</style>\n",
       "<table border=\"1\" class=\"dataframe\">\n",
       "  <thead>\n",
       "    <tr>\n",
       "      <th></th>\n",
       "      <th colspan=\"8\" halign=\"left\">Fare</th>\n",
       "    </tr>\n",
       "    <tr>\n",
       "      <th></th>\n",
       "      <th>count</th>\n",
       "      <th>mean</th>\n",
       "      <th>std</th>\n",
       "      <th>min</th>\n",
       "      <th>25%</th>\n",
       "      <th>50%</th>\n",
       "      <th>75%</th>\n",
       "      <th>max</th>\n",
       "    </tr>\n",
       "    <tr>\n",
       "      <th>Pclass</th>\n",
       "      <th></th>\n",
       "      <th></th>\n",
       "      <th></th>\n",
       "      <th></th>\n",
       "      <th></th>\n",
       "      <th></th>\n",
       "      <th></th>\n",
       "      <th></th>\n",
       "    </tr>\n",
       "  </thead>\n",
       "  <tbody>\n",
       "    <tr>\n",
       "      <th>1</th>\n",
       "      <td>323.0</td>\n",
       "      <td>87.508992</td>\n",
       "      <td>80.447178</td>\n",
       "      <td>0.0</td>\n",
       "      <td>30.6958</td>\n",
       "      <td>60.0000</td>\n",
       "      <td>107.6625</td>\n",
       "      <td>512.3292</td>\n",
       "    </tr>\n",
       "    <tr>\n",
       "      <th>2</th>\n",
       "      <td>277.0</td>\n",
       "      <td>21.179196</td>\n",
       "      <td>13.607122</td>\n",
       "      <td>0.0</td>\n",
       "      <td>13.0000</td>\n",
       "      <td>15.0458</td>\n",
       "      <td>26.0000</td>\n",
       "      <td>73.5000</td>\n",
       "    </tr>\n",
       "    <tr>\n",
       "      <th>3</th>\n",
       "      <td>708.0</td>\n",
       "      <td>13.302889</td>\n",
       "      <td>11.494358</td>\n",
       "      <td>0.0</td>\n",
       "      <td>7.7500</td>\n",
       "      <td>8.0500</td>\n",
       "      <td>15.2458</td>\n",
       "      <td>69.5500</td>\n",
       "    </tr>\n",
       "  </tbody>\n",
       "</table>\n",
       "</div>"
      ],
      "text/plain": [
       "         Fare                                                                 \n",
       "        count       mean        std  min      25%      50%       75%       max\n",
       "Pclass                                                                        \n",
       "1       323.0  87.508992  80.447178  0.0  30.6958  60.0000  107.6625  512.3292\n",
       "2       277.0  21.179196  13.607122  0.0  13.0000  15.0458   26.0000   73.5000\n",
       "3       708.0  13.302889  11.494358  0.0   7.7500   8.0500   15.2458   69.5500"
      ]
     },
     "execution_count": 103,
     "metadata": {},
     "output_type": "execute_result"
    }
   ],
   "source": [
    "all_df[[\"Pclass\",\"Fare\"]].groupby(\"Pclass\").describe()"
   ]
  },
  {
   "cell_type": "code",
   "execution_count": 104,
   "metadata": {
    "execution": {
     "iopub.execute_input": "2020-10-20T11:57:01.498734Z",
     "iopub.status.busy": "2020-10-20T11:57:01.494107Z",
     "iopub.status.idle": "2020-10-20T11:57:01.651117Z",
     "shell.execute_reply": "2020-10-20T11:57:01.650403Z"
    },
    "papermill": {
     "duration": 0.355193,
     "end_time": "2020-10-20T11:57:01.651246",
     "exception": false,
     "start_time": "2020-10-20T11:57:01.296053",
     "status": "completed"
    },
    "tags": []
   },
   "outputs": [
    {
     "data": {
      "text/plain": [
       "<matplotlib.axes._subplots.AxesSubplot at 0x1df0dfca508>"
      ]
     },
     "execution_count": 104,
     "metadata": {},
     "output_type": "execute_result"
    },
    {
     "data": {
      "image/png": "[encoded data removed]",
      "text/plain": [
       "<Figure size 432x360 with 1 Axes>"
      ]
     },
     "metadata": {},
     "output_type": "display_data"
    }
   ],
   "source": [
    "plt.figure(figsize=(6, 5))\n",
    "sns.boxplot(x=\"Pclass\", y=\"Fare\", data=all_df)"
   ]
  },
  {
   "cell_type": "markdown",
   "metadata": {
    "papermill": {
     "duration": 0.186159,
     "end_time": "2020-10-20T11:57:02.023967",
     "exception": false,
     "start_time": "2020-10-20T11:57:01.837808",
     "status": "completed"
    },
    "tags": []
   },
   "source": [
    "#### 1등급 티켓 중 고액권(1등급 티켓 상위 25%)을 Pclass0으로 만들기"
   ]
  },
  {
   "cell_type": "code",
   "execution_count": 105,
   "metadata": {
    "execution": {
     "iopub.execute_input": "2020-10-20T11:57:02.404076Z",
     "iopub.status.busy": "2020-10-20T11:57:02.403186Z",
     "iopub.status.idle": "2020-10-20T11:57:02.407313Z",
     "shell.execute_reply": "2020-10-20T11:57:02.406679Z"
    },
    "papermill": {
     "duration": 0.195704,
     "end_time": "2020-10-20T11:57:02.407432",
     "exception": false,
     "start_time": "2020-10-20T11:57:02.211728",
     "status": "completed"
    },
    "tags": []
   },
   "outputs": [],
   "source": [
    "all_df[\"Pclass2\"] = all_df[\"Pclass\"]"
   ]
  },
  {
   "cell_type": "code",
   "execution_count": 106,
   "metadata": {
    "execution": {
     "iopub.execute_input": "2020-10-20T11:57:02.787652Z",
     "iopub.status.busy": "2020-10-20T11:57:02.786927Z",
     "iopub.status.idle": "2020-10-20T11:57:02.789951Z",
     "shell.execute_reply": "2020-10-20T11:57:02.789219Z"
    },
    "papermill": {
     "duration": 0.196395,
     "end_time": "2020-10-20T11:57:02.790072",
     "exception": false,
     "start_time": "2020-10-20T11:57:02.593677",
     "status": "completed"
    },
    "tags": []
   },
   "outputs": [],
   "source": [
    "all_df.loc[all_df[\"Fare\"]>108, \"Pclass2\"] = 0"
   ]
  },
  {
   "cell_type": "code",
   "execution_count": 107,
   "metadata": {
    "execution": {
     "iopub.execute_input": "2020-10-20T11:57:03.184624Z",
     "iopub.status.busy": "2020-10-20T11:57:03.179304Z",
     "iopub.status.idle": "2020-10-20T11:57:03.204836Z",
     "shell.execute_reply": "2020-10-20T11:57:03.204112Z"
    },
    "papermill": {
     "duration": 0.227611,
     "end_time": "2020-10-20T11:57:03.204954",
     "exception": false,
     "start_time": "2020-10-20T11:57:02.977343",
     "status": "completed"
    },
    "tags": []
   },
   "outputs": [
    {
     "data": {
      "text/html": [
       "<div>\n",
       "<style scoped>\n",
       "    .dataframe tbody tr th:only-of-type {\n",
       "        vertical-align: middle;\n",
       "    }\n",
       "\n",
       "    .dataframe tbody tr th {\n",
       "        vertical-align: top;\n",
       "    }\n",
       "\n",
       "    .dataframe thead th {\n",
       "        text-align: right;\n",
       "    }\n",
       "</style>\n",
       "<table border=\"1\" class=\"dataframe\">\n",
       "  <thead>\n",
       "    <tr style=\"text-align: right;\">\n",
       "      <th></th>\n",
       "      <th>PassengerId</th>\n",
       "      <th>Survived</th>\n",
       "      <th>Pclass</th>\n",
       "      <th>Name</th>\n",
       "      <th>Sex</th>\n",
       "      <th>Age</th>\n",
       "      <th>SibSp</th>\n",
       "      <th>Parch</th>\n",
       "      <th>Ticket</th>\n",
       "      <th>Fare</th>\n",
       "      <th>Cabin</th>\n",
       "      <th>Embarked</th>\n",
       "      <th>Pclass2</th>\n",
       "    </tr>\n",
       "  </thead>\n",
       "  <tbody>\n",
       "    <tr>\n",
       "      <th>27</th>\n",
       "      <td>28</td>\n",
       "      <td>0.0</td>\n",
       "      <td>1</td>\n",
       "      <td>Fortune, Mr. Charles Alexander</td>\n",
       "      <td>male</td>\n",
       "      <td>19.0</td>\n",
       "      <td>3</td>\n",
       "      <td>2</td>\n",
       "      <td>19950</td>\n",
       "      <td>263.0000</td>\n",
       "      <td>C23 C25 C27</td>\n",
       "      <td>S</td>\n",
       "      <td>0</td>\n",
       "    </tr>\n",
       "    <tr>\n",
       "      <th>31</th>\n",
       "      <td>32</td>\n",
       "      <td>1.0</td>\n",
       "      <td>1</td>\n",
       "      <td>Spencer, Mrs. William Augustus (Marie Eugenie)</td>\n",
       "      <td>female</td>\n",
       "      <td>NaN</td>\n",
       "      <td>1</td>\n",
       "      <td>0</td>\n",
       "      <td>PC 17569</td>\n",
       "      <td>146.5208</td>\n",
       "      <td>B78</td>\n",
       "      <td>C</td>\n",
       "      <td>0</td>\n",
       "    </tr>\n",
       "    <tr>\n",
       "      <th>88</th>\n",
       "      <td>89</td>\n",
       "      <td>1.0</td>\n",
       "      <td>1</td>\n",
       "      <td>Fortune, Miss. Mabel Helen</td>\n",
       "      <td>female</td>\n",
       "      <td>23.0</td>\n",
       "      <td>3</td>\n",
       "      <td>2</td>\n",
       "      <td>19950</td>\n",
       "      <td>263.0000</td>\n",
       "      <td>C23 C25 C27</td>\n",
       "      <td>S</td>\n",
       "      <td>0</td>\n",
       "    </tr>\n",
       "    <tr>\n",
       "      <th>118</th>\n",
       "      <td>119</td>\n",
       "      <td>0.0</td>\n",
       "      <td>1</td>\n",
       "      <td>Baxter, Mr. Quigg Edmond</td>\n",
       "      <td>male</td>\n",
       "      <td>24.0</td>\n",
       "      <td>0</td>\n",
       "      <td>1</td>\n",
       "      <td>PC 17558</td>\n",
       "      <td>247.5208</td>\n",
       "      <td>B58 B60</td>\n",
       "      <td>C</td>\n",
       "      <td>0</td>\n",
       "    </tr>\n",
       "    <tr>\n",
       "      <th>195</th>\n",
       "      <td>196</td>\n",
       "      <td>1.0</td>\n",
       "      <td>1</td>\n",
       "      <td>Lurette, Miss. Elise</td>\n",
       "      <td>female</td>\n",
       "      <td>58.0</td>\n",
       "      <td>0</td>\n",
       "      <td>0</td>\n",
       "      <td>PC 17569</td>\n",
       "      <td>146.5208</td>\n",
       "      <td>B80</td>\n",
       "      <td>C</td>\n",
       "      <td>0</td>\n",
       "    </tr>\n",
       "    <tr>\n",
       "      <th>...</th>\n",
       "      <td>...</td>\n",
       "      <td>...</td>\n",
       "      <td>...</td>\n",
       "      <td>...</td>\n",
       "      <td>...</td>\n",
       "      <td>...</td>\n",
       "      <td>...</td>\n",
       "      <td>...</td>\n",
       "      <td>...</td>\n",
       "      <td>...</td>\n",
       "      <td>...</td>\n",
       "      <td>...</td>\n",
       "      <td>...</td>\n",
       "    </tr>\n",
       "    <tr>\n",
       "      <th>1262</th>\n",
       "      <td>1263</td>\n",
       "      <td>NaN</td>\n",
       "      <td>1</td>\n",
       "      <td>Wilson, Miss. Helen Alice</td>\n",
       "      <td>female</td>\n",
       "      <td>31.0</td>\n",
       "      <td>0</td>\n",
       "      <td>0</td>\n",
       "      <td>16966</td>\n",
       "      <td>134.5000</td>\n",
       "      <td>E39 E41</td>\n",
       "      <td>C</td>\n",
       "      <td>0</td>\n",
       "    </tr>\n",
       "    <tr>\n",
       "      <th>1266</th>\n",
       "      <td>1267</td>\n",
       "      <td>NaN</td>\n",
       "      <td>1</td>\n",
       "      <td>Bowen, Miss. Grace Scott</td>\n",
       "      <td>female</td>\n",
       "      <td>45.0</td>\n",
       "      <td>0</td>\n",
       "      <td>0</td>\n",
       "      <td>PC 17608</td>\n",
       "      <td>262.3750</td>\n",
       "      <td>NaN</td>\n",
       "      <td>C</td>\n",
       "      <td>0</td>\n",
       "    </tr>\n",
       "    <tr>\n",
       "      <th>1291</th>\n",
       "      <td>1292</td>\n",
       "      <td>NaN</td>\n",
       "      <td>1</td>\n",
       "      <td>Bonnell, Miss. Caroline</td>\n",
       "      <td>female</td>\n",
       "      <td>30.0</td>\n",
       "      <td>0</td>\n",
       "      <td>0</td>\n",
       "      <td>36928</td>\n",
       "      <td>164.8667</td>\n",
       "      <td>C7</td>\n",
       "      <td>S</td>\n",
       "      <td>0</td>\n",
       "    </tr>\n",
       "    <tr>\n",
       "      <th>1298</th>\n",
       "      <td>1299</td>\n",
       "      <td>NaN</td>\n",
       "      <td>1</td>\n",
       "      <td>Widener, Mr. George Dunton</td>\n",
       "      <td>male</td>\n",
       "      <td>50.0</td>\n",
       "      <td>1</td>\n",
       "      <td>1</td>\n",
       "      <td>113503</td>\n",
       "      <td>211.5000</td>\n",
       "      <td>C80</td>\n",
       "      <td>C</td>\n",
       "      <td>0</td>\n",
       "    </tr>\n",
       "    <tr>\n",
       "      <th>1305</th>\n",
       "      <td>1306</td>\n",
       "      <td>NaN</td>\n",
       "      <td>1</td>\n",
       "      <td>Oliva y Ocana, Dona. Fermina</td>\n",
       "      <td>female</td>\n",
       "      <td>39.0</td>\n",
       "      <td>0</td>\n",
       "      <td>0</td>\n",
       "      <td>PC 17758</td>\n",
       "      <td>108.9000</td>\n",
       "      <td>C105</td>\n",
       "      <td>C</td>\n",
       "      <td>0</td>\n",
       "    </tr>\n",
       "  </tbody>\n",
       "</table>\n",
       "<p>81 rows × 13 columns</p>\n",
       "</div>"
      ],
      "text/plain": [
       "      PassengerId  Survived  Pclass  \\\n",
       "27             28       0.0       1   \n",
       "31             32       1.0       1   \n",
       "88             89       1.0       1   \n",
       "118           119       0.0       1   \n",
       "195           196       1.0       1   \n",
       "...           ...       ...     ...   \n",
       "1262         1263       NaN       1   \n",
       "1266         1267       NaN       1   \n",
       "1291         1292       NaN       1   \n",
       "1298         1299       NaN       1   \n",
       "1305         1306       NaN       1   \n",
       "\n",
       "                                                Name     Sex   Age  SibSp  \\\n",
       "27                    Fortune, Mr. Charles Alexander    male  19.0      3   \n",
       "31    Spencer, Mrs. William Augustus (Marie Eugenie)  female   NaN      1   \n",
       "88                        Fortune, Miss. Mabel Helen  female  23.0      3   \n",
       "118                         Baxter, Mr. Quigg Edmond    male  24.0      0   \n",
       "195                             Lurette, Miss. Elise  female  58.0      0   \n",
       "...                                              ...     ...   ...    ...   \n",
       "1262                       Wilson, Miss. Helen Alice  female  31.0      0   \n",
       "1266                        Bowen, Miss. Grace Scott  female  45.0      0   \n",
       "1291                         Bonnell, Miss. Caroline  female  30.0      0   \n",
       "1298                      Widener, Mr. George Dunton    male  50.0      1   \n",
       "1305                    Oliva y Ocana, Dona. Fermina  female  39.0      0   \n",
       "\n",
       "      Parch    Ticket      Fare        Cabin Embarked  Pclass2  \n",
       "27        2     19950  263.0000  C23 C25 C27        S        0  \n",
       "31        0  PC 17569  146.5208          B78        C        0  \n",
       "88        2     19950  263.0000  C23 C25 C27        S        0  \n",
       "118       1  PC 17558  247.5208      B58 B60        C        0  \n",
       "195       0  PC 17569  146.5208          B80        C        0  \n",
       "...     ...       ...       ...          ...      ...      ...  \n",
       "1262      0     16966  134.5000      E39 E41        C        0  \n",
       "1266      0  PC 17608  262.3750          NaN        C        0  \n",
       "1291      0     36928  164.8667           C7        S        0  \n",
       "1298      1    113503  211.5000          C80        C        0  \n",
       "1305      0  PC 17758  108.9000         C105        C        0  \n",
       "\n",
       "[81 rows x 13 columns]"
      ]
     },
     "execution_count": 107,
     "metadata": {},
     "output_type": "execute_result"
    }
   ],
   "source": [
    "all_df[all_df[\"Pclass2\"] == 0]"
   ]
  },
  {
   "cell_type": "markdown",
   "metadata": {
    "papermill": {
     "duration": 0.188123,
     "end_time": "2020-10-20T11:57:03.580233",
     "exception": false,
     "start_time": "2020-10-20T11:57:03.392110",
     "status": "completed"
    },
    "tags": []
   },
   "source": [
    "#### 티켓 등급별 연령 분포 확인하기"
   ]
  },
  {
   "cell_type": "code",
   "execution_count": 108,
   "metadata": {
    "execution": {
     "iopub.execute_input": "2020-10-20T11:57:03.967818Z",
     "iopub.status.busy": "2020-10-20T11:57:03.964312Z",
     "iopub.status.idle": "2020-10-20T11:57:04.002739Z",
     "shell.execute_reply": "2020-10-20T11:57:04.002172Z"
    },
    "papermill": {
     "duration": 0.234764,
     "end_time": "2020-10-20T11:57:04.002881",
     "exception": false,
     "start_time": "2020-10-20T11:57:03.768117",
     "status": "completed"
    },
    "tags": []
   },
   "outputs": [
    {
     "data": {
      "text/html": [
       "<div>\n",
       "<style scoped>\n",
       "    .dataframe tbody tr th:only-of-type {\n",
       "        vertical-align: middle;\n",
       "    }\n",
       "\n",
       "    .dataframe tbody tr th {\n",
       "        vertical-align: top;\n",
       "    }\n",
       "\n",
       "    .dataframe thead tr th {\n",
       "        text-align: left;\n",
       "    }\n",
       "\n",
       "    .dataframe thead tr:last-of-type th {\n",
       "        text-align: right;\n",
       "    }\n",
       "</style>\n",
       "<table border=\"1\" class=\"dataframe\">\n",
       "  <thead>\n",
       "    <tr>\n",
       "      <th></th>\n",
       "      <th colspan=\"8\" halign=\"left\">Age</th>\n",
       "    </tr>\n",
       "    <tr>\n",
       "      <th></th>\n",
       "      <th>count</th>\n",
       "      <th>mean</th>\n",
       "      <th>std</th>\n",
       "      <th>min</th>\n",
       "      <th>25%</th>\n",
       "      <th>50%</th>\n",
       "      <th>75%</th>\n",
       "      <th>max</th>\n",
       "    </tr>\n",
       "    <tr>\n",
       "      <th>Pclass2</th>\n",
       "      <th></th>\n",
       "      <th></th>\n",
       "      <th></th>\n",
       "      <th></th>\n",
       "      <th></th>\n",
       "      <th></th>\n",
       "      <th></th>\n",
       "      <th></th>\n",
       "    </tr>\n",
       "  </thead>\n",
       "  <tbody>\n",
       "    <tr>\n",
       "      <th>0</th>\n",
       "      <td>76.0</td>\n",
       "      <td>35.242368</td>\n",
       "      <td>15.422162</td>\n",
       "      <td>0.92</td>\n",
       "      <td>24.0</td>\n",
       "      <td>35.0</td>\n",
       "      <td>45.50</td>\n",
       "      <td>67.0</td>\n",
       "    </tr>\n",
       "    <tr>\n",
       "      <th>1</th>\n",
       "      <td>208.0</td>\n",
       "      <td>40.591346</td>\n",
       "      <td>13.981486</td>\n",
       "      <td>4.00</td>\n",
       "      <td>30.0</td>\n",
       "      <td>40.5</td>\n",
       "      <td>50.25</td>\n",
       "      <td>80.0</td>\n",
       "    </tr>\n",
       "    <tr>\n",
       "      <th>2</th>\n",
       "      <td>261.0</td>\n",
       "      <td>29.506705</td>\n",
       "      <td>13.638627</td>\n",
       "      <td>0.67</td>\n",
       "      <td>22.0</td>\n",
       "      <td>29.0</td>\n",
       "      <td>36.00</td>\n",
       "      <td>70.0</td>\n",
       "    </tr>\n",
       "    <tr>\n",
       "      <th>3</th>\n",
       "      <td>501.0</td>\n",
       "      <td>24.816367</td>\n",
       "      <td>11.958202</td>\n",
       "      <td>0.17</td>\n",
       "      <td>18.0</td>\n",
       "      <td>24.0</td>\n",
       "      <td>32.00</td>\n",
       "      <td>74.0</td>\n",
       "    </tr>\n",
       "  </tbody>\n",
       "</table>\n",
       "</div>"
      ],
      "text/plain": [
       "           Age                                                     \n",
       "         count       mean        std   min   25%   50%    75%   max\n",
       "Pclass2                                                            \n",
       "0         76.0  35.242368  15.422162  0.92  24.0  35.0  45.50  67.0\n",
       "1        208.0  40.591346  13.981486  4.00  30.0  40.5  50.25  80.0\n",
       "2        261.0  29.506705  13.638627  0.67  22.0  29.0  36.00  70.0\n",
       "3        501.0  24.816367  11.958202  0.17  18.0  24.0  32.00  74.0"
      ]
     },
     "execution_count": 108,
     "metadata": {},
     "output_type": "execute_result"
    }
   ],
   "source": [
    "all_df[[\"Pclass2\",\"Age\"]].groupby(\"Pclass2\").describe()"
   ]
  },
  {
   "cell_type": "code",
   "execution_count": 109,
   "metadata": {
    "execution": {
     "iopub.execute_input": "2020-10-20T11:57:04.396170Z",
     "iopub.status.busy": "2020-10-20T11:57:04.388803Z",
     "iopub.status.idle": "2020-10-20T11:57:04.581108Z",
     "shell.execute_reply": "2020-10-20T11:57:04.580382Z"
    },
    "papermill": {
     "duration": 0.387582,
     "end_time": "2020-10-20T11:57:04.581233",
     "exception": false,
     "start_time": "2020-10-20T11:57:04.193651",
     "status": "completed"
    },
    "tags": []
   },
   "outputs": [
    {
     "data": {
      "text/plain": [
       "<matplotlib.axes._subplots.AxesSubplot at 0x1df0dfd7808>"
      ]
     },
     "execution_count": 109,
     "metadata": {},
     "output_type": "execute_result"
    },
    {
     "data": {
      "image/png": "[encoded data removed]",
      "text/plain": [
       "<Figure size 432x360 with 1 Axes>"
      ]
     },
     "metadata": {},
     "output_type": "display_data"
    }
   ],
   "source": [
    "plt.figure(figsize=(6, 5))\n",
    "sns.boxplot(x=\"Pclass2\", y=\"Age\", data=all_df)"
   ]
  },
  {
   "cell_type": "markdown",
   "metadata": {
    "papermill": {
     "duration": 0.191207,
     "end_time": "2020-10-20T11:57:04.964574",
     "exception": false,
     "start_time": "2020-10-20T11:57:04.773367",
     "status": "completed"
    },
    "tags": []
   },
   "source": [
    "#### 15세 이상을 대상으로 분석하기"
   ]
  },
  {
   "cell_type": "code",
   "execution_count": 110,
   "metadata": {
    "execution": {
     "iopub.execute_input": "2020-10-20T11:57:05.356175Z",
     "iopub.status.busy": "2020-10-20T11:57:05.351951Z",
     "iopub.status.idle": "2020-10-20T11:57:05.396715Z",
     "shell.execute_reply": "2020-10-20T11:57:05.396023Z"
    },
    "papermill": {
     "duration": 0.240723,
     "end_time": "2020-10-20T11:57:05.396855",
     "exception": false,
     "start_time": "2020-10-20T11:57:05.156132",
     "status": "completed"
    },
    "tags": []
   },
   "outputs": [
    {
     "data": {
      "text/html": [
       "<div>\n",
       "<style scoped>\n",
       "    .dataframe tbody tr th:only-of-type {\n",
       "        vertical-align: middle;\n",
       "    }\n",
       "\n",
       "    .dataframe tbody tr th {\n",
       "        vertical-align: top;\n",
       "    }\n",
       "\n",
       "    .dataframe thead tr th {\n",
       "        text-align: left;\n",
       "    }\n",
       "\n",
       "    .dataframe thead tr:last-of-type th {\n",
       "        text-align: right;\n",
       "    }\n",
       "</style>\n",
       "<table border=\"1\" class=\"dataframe\">\n",
       "  <thead>\n",
       "    <tr>\n",
       "      <th></th>\n",
       "      <th colspan=\"8\" halign=\"left\">Age</th>\n",
       "    </tr>\n",
       "    <tr>\n",
       "      <th></th>\n",
       "      <th>count</th>\n",
       "      <th>mean</th>\n",
       "      <th>std</th>\n",
       "      <th>min</th>\n",
       "      <th>25%</th>\n",
       "      <th>50%</th>\n",
       "      <th>75%</th>\n",
       "      <th>max</th>\n",
       "    </tr>\n",
       "    <tr>\n",
       "      <th>Pclass2</th>\n",
       "      <th></th>\n",
       "      <th></th>\n",
       "      <th></th>\n",
       "      <th></th>\n",
       "      <th></th>\n",
       "      <th></th>\n",
       "      <th></th>\n",
       "      <th></th>\n",
       "    </tr>\n",
       "  </thead>\n",
       "  <tbody>\n",
       "    <tr>\n",
       "      <th>0</th>\n",
       "      <td>69.0</td>\n",
       "      <td>37.920290</td>\n",
       "      <td>13.428357</td>\n",
       "      <td>17.0</td>\n",
       "      <td>27.0</td>\n",
       "      <td>36.0</td>\n",
       "      <td>48.0</td>\n",
       "      <td>67.0</td>\n",
       "    </tr>\n",
       "    <tr>\n",
       "      <th>1</th>\n",
       "      <td>207.0</td>\n",
       "      <td>40.768116</td>\n",
       "      <td>13.780416</td>\n",
       "      <td>16.0</td>\n",
       "      <td>30.0</td>\n",
       "      <td>41.0</td>\n",
       "      <td>50.5</td>\n",
       "      <td>80.0</td>\n",
       "    </tr>\n",
       "    <tr>\n",
       "      <th>2</th>\n",
       "      <td>233.0</td>\n",
       "      <td>32.369099</td>\n",
       "      <td>11.363367</td>\n",
       "      <td>16.0</td>\n",
       "      <td>24.0</td>\n",
       "      <td>30.0</td>\n",
       "      <td>39.0</td>\n",
       "      <td>70.0</td>\n",
       "    </tr>\n",
       "    <tr>\n",
       "      <th>3</th>\n",
       "      <td>422.0</td>\n",
       "      <td>28.200237</td>\n",
       "      <td>9.634512</td>\n",
       "      <td>16.0</td>\n",
       "      <td>21.0</td>\n",
       "      <td>26.0</td>\n",
       "      <td>33.0</td>\n",
       "      <td>74.0</td>\n",
       "    </tr>\n",
       "  </tbody>\n",
       "</table>\n",
       "</div>"
      ],
      "text/plain": [
       "           Age                                                    \n",
       "         count       mean        std   min   25%   50%   75%   max\n",
       "Pclass2                                                           \n",
       "0         69.0  37.920290  13.428357  17.0  27.0  36.0  48.0  67.0\n",
       "1        207.0  40.768116  13.780416  16.0  30.0  41.0  50.5  80.0\n",
       "2        233.0  32.369099  11.363367  16.0  24.0  30.0  39.0  70.0\n",
       "3        422.0  28.200237   9.634512  16.0  21.0  26.0  33.0  74.0"
      ]
     },
     "execution_count": 110,
     "metadata": {},
     "output_type": "execute_result"
    }
   ],
   "source": [
    "all_df[all_df[\"Age\"]>15][[\"Pclass2\",\"Age\"]].groupby(\"Pclass2\").describe()"
   ]
  },
  {
   "cell_type": "code",
   "execution_count": 111,
   "metadata": {
    "execution": {
     "iopub.execute_input": "2020-10-20T11:57:05.787072Z",
     "iopub.status.busy": "2020-10-20T11:57:05.786327Z",
     "iopub.status.idle": "2020-10-20T11:57:05.971292Z",
     "shell.execute_reply": "2020-10-20T11:57:05.970684Z"
    },
    "papermill": {
     "duration": 0.383137,
     "end_time": "2020-10-20T11:57:05.971418",
     "exception": false,
     "start_time": "2020-10-20T11:57:05.588281",
     "status": "completed"
    },
    "tags": []
   },
   "outputs": [
    {
     "data": {
      "text/plain": [
       "<matplotlib.axes._subplots.AxesSubplot at 0x1df0e138e08>"
      ]
     },
     "execution_count": 111,
     "metadata": {},
     "output_type": "execute_result"
    },
    {
     "data": {
      "image/png": "[encoded data removed]",
      "text/plain": [
       "<Figure size 432x360 with 1 Axes>"
      ]
     },
     "metadata": {},
     "output_type": "display_data"
    }
   ],
   "source": [
    "plt.figure(figsize=(6, 5))\n",
    "sns.boxplot(x=\"Pclass2\", y=\"Age\", data=all_df[all_df[\"Age\"]>15])"
   ]
  },
  {
   "cell_type": "markdown",
   "metadata": {
    "papermill": {
     "duration": 0.239523,
     "end_time": "2020-10-20T11:57:06.421983",
     "exception": false,
     "start_time": "2020-10-20T11:57:06.182460",
     "status": "completed"
    },
    "tags": []
   },
   "source": [
    "#### 연령과 승선 요금의 분포 확인하기"
   ]
  },
  {
   "cell_type": "code",
   "execution_count": 112,
   "metadata": {
    "execution": {
     "iopub.execute_input": "2020-10-20T11:57:06.827679Z",
     "iopub.status.busy": "2020-10-20T11:57:06.826940Z",
     "iopub.status.idle": "2020-10-20T11:57:06.998170Z",
     "shell.execute_reply": "2020-10-20T11:57:06.997566Z"
    },
    "papermill": {
     "duration": 0.383838,
     "end_time": "2020-10-20T11:57:06.998307",
     "exception": false,
     "start_time": "2020-10-20T11:57:06.614469",
     "status": "completed"
    },
    "tags": []
   },
   "outputs": [
    {
     "data": {
      "text/plain": [
       "<matplotlib.axes._subplots.AxesSubplot at 0x1df0e07bd88>"
      ]
     },
     "execution_count": 112,
     "metadata": {},
     "output_type": "execute_result"
    },
    {
     "data": {
      "image/png": "[encoded data removed]",
      "text/plain": [
       "<Figure size 432x288 with 1 Axes>"
      ]
     },
     "metadata": {},
     "output_type": "display_data"
    }
   ],
   "source": [
    "all_df.plot.scatter(x=\"Age\", y=\"Fare\", alpha=0.5)"
   ]
  },
  {
   "cell_type": "markdown",
   "metadata": {
    "papermill": {
     "duration": 0.195155,
     "end_time": "2020-10-20T11:57:07.388944",
     "exception": false,
     "start_time": "2020-10-20T11:57:07.193789",
     "status": "completed"
    },
    "tags": []
   },
   "source": [
    "#### 티켓 등급별 승선 가족 수를 확인하기"
   ]
  },
  {
   "cell_type": "code",
   "execution_count": 113,
   "metadata": {
    "execution": {
     "iopub.execute_input": "2020-10-20T11:57:07.790259Z",
     "iopub.status.busy": "2020-10-20T11:57:07.789275Z",
     "iopub.status.idle": "2020-10-20T11:57:07.793793Z",
     "shell.execute_reply": "2020-10-20T11:57:07.792212Z"
    },
    "papermill": {
     "duration": 0.211693,
     "end_time": "2020-10-20T11:57:07.793924",
     "exception": false,
     "start_time": "2020-10-20T11:57:07.582231",
     "status": "completed"
    },
    "tags": []
   },
   "outputs": [],
   "source": [
    "all_df[\"family_num\"] = all_df[\"SibSp\"] + all_df[\"Parch\"]"
   ]
  },
  {
   "cell_type": "code",
   "execution_count": 114,
   "metadata": {
    "execution": {
     "iopub.execute_input": "2020-10-20T11:57:08.223521Z",
     "iopub.status.busy": "2020-10-20T11:57:08.222665Z",
     "iopub.status.idle": "2020-10-20T11:57:08.265831Z",
     "shell.execute_reply": "2020-10-20T11:57:08.264994Z"
    },
    "papermill": {
     "duration": 0.25265,
     "end_time": "2020-10-20T11:57:08.265986",
     "exception": false,
     "start_time": "2020-10-20T11:57:08.013336",
     "status": "completed"
    },
    "tags": []
   },
   "outputs": [
    {
     "data": {
      "text/html": [
       "<div>\n",
       "<style scoped>\n",
       "    .dataframe tbody tr th:only-of-type {\n",
       "        vertical-align: middle;\n",
       "    }\n",
       "\n",
       "    .dataframe tbody tr th {\n",
       "        vertical-align: top;\n",
       "    }\n",
       "\n",
       "    .dataframe thead tr th {\n",
       "        text-align: left;\n",
       "    }\n",
       "\n",
       "    .dataframe thead tr:last-of-type th {\n",
       "        text-align: right;\n",
       "    }\n",
       "</style>\n",
       "<table border=\"1\" class=\"dataframe\">\n",
       "  <thead>\n",
       "    <tr>\n",
       "      <th></th>\n",
       "      <th colspan=\"8\" halign=\"left\">family_num</th>\n",
       "    </tr>\n",
       "    <tr>\n",
       "      <th></th>\n",
       "      <th>count</th>\n",
       "      <th>mean</th>\n",
       "      <th>std</th>\n",
       "      <th>min</th>\n",
       "      <th>25%</th>\n",
       "      <th>50%</th>\n",
       "      <th>75%</th>\n",
       "      <th>max</th>\n",
       "    </tr>\n",
       "    <tr>\n",
       "      <th>Pclass2</th>\n",
       "      <th></th>\n",
       "      <th></th>\n",
       "      <th></th>\n",
       "      <th></th>\n",
       "      <th></th>\n",
       "      <th></th>\n",
       "      <th></th>\n",
       "      <th></th>\n",
       "    </tr>\n",
       "  </thead>\n",
       "  <tbody>\n",
       "    <tr>\n",
       "      <th>0</th>\n",
       "      <td>81.0</td>\n",
       "      <td>1.543210</td>\n",
       "      <td>1.541504</td>\n",
       "      <td>0.0</td>\n",
       "      <td>0.0</td>\n",
       "      <td>1.0</td>\n",
       "      <td>2.0</td>\n",
       "      <td>5.0</td>\n",
       "    </tr>\n",
       "    <tr>\n",
       "      <th>1</th>\n",
       "      <td>242.0</td>\n",
       "      <td>0.553719</td>\n",
       "      <td>0.687172</td>\n",
       "      <td>0.0</td>\n",
       "      <td>0.0</td>\n",
       "      <td>0.0</td>\n",
       "      <td>1.0</td>\n",
       "      <td>3.0</td>\n",
       "    </tr>\n",
       "    <tr>\n",
       "      <th>2</th>\n",
       "      <td>277.0</td>\n",
       "      <td>0.761733</td>\n",
       "      <td>1.029060</td>\n",
       "      <td>0.0</td>\n",
       "      <td>0.0</td>\n",
       "      <td>0.0</td>\n",
       "      <td>1.0</td>\n",
       "      <td>5.0</td>\n",
       "    </tr>\n",
       "    <tr>\n",
       "      <th>3</th>\n",
       "      <td>709.0</td>\n",
       "      <td>0.968970</td>\n",
       "      <td>1.921230</td>\n",
       "      <td>0.0</td>\n",
       "      <td>0.0</td>\n",
       "      <td>0.0</td>\n",
       "      <td>1.0</td>\n",
       "      <td>10.0</td>\n",
       "    </tr>\n",
       "  </tbody>\n",
       "</table>\n",
       "</div>"
      ],
      "text/plain": [
       "        family_num                                              \n",
       "             count      mean       std  min  25%  50%  75%   max\n",
       "Pclass2                                                         \n",
       "0             81.0  1.543210  1.541504  0.0  0.0  1.0  2.0   5.0\n",
       "1            242.0  0.553719  0.687172  0.0  0.0  0.0  1.0   3.0\n",
       "2            277.0  0.761733  1.029060  0.0  0.0  0.0  1.0   5.0\n",
       "3            709.0  0.968970  1.921230  0.0  0.0  0.0  1.0  10.0"
      ]
     },
     "execution_count": 114,
     "metadata": {},
     "output_type": "execute_result"
    }
   ],
   "source": [
    "all_df[[\"Pclass2\",\"family_num\"]].groupby(\"Pclass2\").describe()"
   ]
  },
  {
   "cell_type": "code",
   "execution_count": 115,
   "metadata": {
    "execution": {
     "iopub.execute_input": "2020-10-20T11:57:08.678812Z",
     "iopub.status.busy": "2020-10-20T11:57:08.672563Z",
     "iopub.status.idle": "2020-10-20T11:57:08.853497Z",
     "shell.execute_reply": "2020-10-20T11:57:08.852811Z"
    },
    "papermill": {
     "duration": 0.385627,
     "end_time": "2020-10-20T11:57:08.853619",
     "exception": false,
     "start_time": "2020-10-20T11:57:08.467992",
     "status": "completed"
    },
    "tags": []
   },
   "outputs": [
    {
     "data": {
      "text/plain": [
       "<matplotlib.axes._subplots.AxesSubplot at 0x1df0d4ad8c8>"
      ]
     },
     "execution_count": 115,
     "metadata": {},
     "output_type": "execute_result"
    },
    {
     "data": {
      "image/png": "[encoded data removed]",
      "text/plain": [
       "<Figure size 432x360 with 1 Axes>"
      ]
     },
     "metadata": {},
     "output_type": "display_data"
    }
   ],
   "source": [
    "plt.figure(figsize=(6, 5))\n",
    "sns.boxplot(x=\"Pclass2\", y=\"family_num\", data=all_df)"
   ]
  },
  {
   "cell_type": "markdown",
   "metadata": {
    "papermill": {
     "duration": 0.201437,
     "end_time": "2020-10-20T11:57:09.252925",
     "exception": false,
     "start_time": "2020-10-20T11:57:09.051488",
     "status": "completed"
    },
    "tags": []
   },
   "source": [
    "#### 티켓 등급별 남녀 비율 확인하기"
   ]
  },
  {
   "cell_type": "code",
   "execution_count": 116,
   "metadata": {
    "execution": {
     "iopub.execute_input": "2020-10-20T11:57:09.677975Z",
     "iopub.status.busy": "2020-10-20T11:57:09.677134Z",
     "iopub.status.idle": "2020-10-20T11:57:09.684803Z",
     "shell.execute_reply": "2020-10-20T11:57:09.685397Z"
    },
    "papermill": {
     "duration": 0.227145,
     "end_time": "2020-10-20T11:57:09.685556",
     "exception": false,
     "start_time": "2020-10-20T11:57:09.458411",
     "status": "completed"
    },
    "tags": []
   },
   "outputs": [],
   "source": [
    "Pclass_gender_df = all_df[[\"Pclass2\",\"Sex\",\"PassengerId\"]].dropna().groupby([\"Pclass2\",\"Sex\"]).count().unstack()"
   ]
  },
  {
   "cell_type": "code",
   "execution_count": 117,
   "metadata": {
    "execution": {
     "iopub.execute_input": "2020-10-20T11:57:10.107834Z",
     "iopub.status.busy": "2020-10-20T11:57:10.102428Z",
     "iopub.status.idle": "2020-10-20T11:57:10.280121Z",
     "shell.execute_reply": "2020-10-20T11:57:10.279397Z"
    },
    "papermill": {
     "duration": 0.390955,
     "end_time": "2020-10-20T11:57:10.280246",
     "exception": false,
     "start_time": "2020-10-20T11:57:09.889291",
     "status": "completed"
    },
    "tags": []
   },
   "outputs": [
    {
     "data": {
      "text/plain": [
       "<matplotlib.axes._subplots.AxesSubplot at 0x1df0d4d5308>"
      ]
     },
     "execution_count": 117,
     "metadata": {},
     "output_type": "execute_result"
    },
    {
     "data": {
      "image/png": "[encoded data removed]",
      "text/plain": [
       "<Figure size 432x288 with 1 Axes>"
      ]
     },
     "metadata": {},
     "output_type": "display_data"
    }
   ],
   "source": [
    "Pclass_gender_df.plot.bar(stacked=True)"
   ]
  },
  {
   "cell_type": "code",
   "execution_count": 118,
   "metadata": {
    "execution": {
     "iopub.execute_input": "2020-10-20T11:57:10.702586Z",
     "iopub.status.busy": "2020-10-20T11:57:10.701739Z",
     "iopub.status.idle": "2020-10-20T11:57:10.704616Z",
     "shell.execute_reply": "2020-10-20T11:57:10.705207Z"
    },
    "papermill": {
     "duration": 0.220642,
     "end_time": "2020-10-20T11:57:10.705365",
     "exception": false,
     "start_time": "2020-10-20T11:57:10.484723",
     "status": "completed"
    },
    "tags": []
   },
   "outputs": [],
   "source": [
    "Pclass_gender_df[\"male_ratio\"] = Pclass_gender_df[\"PassengerId\", \"male\"] / (Pclass_gender_df[\"PassengerId\", \"male\"] + Pclass_gender_df[\"PassengerId\", \"female\"])"
   ]
  },
  {
   "cell_type": "code",
   "execution_count": 119,
   "metadata": {
    "execution": {
     "iopub.execute_input": "2020-10-20T11:57:11.134903Z",
     "iopub.status.busy": "2020-10-20T11:57:11.133761Z",
     "iopub.status.idle": "2020-10-20T11:57:11.138640Z",
     "shell.execute_reply": "2020-10-20T11:57:11.137914Z"
    },
    "papermill": {
     "duration": 0.227136,
     "end_time": "2020-10-20T11:57:11.138757",
     "exception": false,
     "start_time": "2020-10-20T11:57:10.911621",
     "status": "completed"
    },
    "tags": []
   },
   "outputs": [
    {
     "data": {
      "text/html": [
       "<div>\n",
       "<style scoped>\n",
       "    .dataframe tbody tr th:only-of-type {\n",
       "        vertical-align: middle;\n",
       "    }\n",
       "\n",
       "    .dataframe tbody tr th {\n",
       "        vertical-align: top;\n",
       "    }\n",
       "\n",
       "    .dataframe thead tr th {\n",
       "        text-align: left;\n",
       "    }\n",
       "\n",
       "    .dataframe thead tr:last-of-type th {\n",
       "        text-align: right;\n",
       "    }\n",
       "</style>\n",
       "<table border=\"1\" class=\"dataframe\">\n",
       "  <thead>\n",
       "    <tr>\n",
       "      <th></th>\n",
       "      <th colspan=\"2\" halign=\"left\">PassengerId</th>\n",
       "      <th>male_ratio</th>\n",
       "    </tr>\n",
       "    <tr>\n",
       "      <th>Sex</th>\n",
       "      <th>female</th>\n",
       "      <th>male</th>\n",
       "      <th></th>\n",
       "    </tr>\n",
       "    <tr>\n",
       "      <th>Pclass2</th>\n",
       "      <th></th>\n",
       "      <th></th>\n",
       "      <th></th>\n",
       "    </tr>\n",
       "  </thead>\n",
       "  <tbody>\n",
       "    <tr>\n",
       "      <th>0</th>\n",
       "      <td>51</td>\n",
       "      <td>30</td>\n",
       "      <td>0.370370</td>\n",
       "    </tr>\n",
       "    <tr>\n",
       "      <th>1</th>\n",
       "      <td>93</td>\n",
       "      <td>149</td>\n",
       "      <td>0.615702</td>\n",
       "    </tr>\n",
       "    <tr>\n",
       "      <th>2</th>\n",
       "      <td>106</td>\n",
       "      <td>171</td>\n",
       "      <td>0.617329</td>\n",
       "    </tr>\n",
       "    <tr>\n",
       "      <th>3</th>\n",
       "      <td>216</td>\n",
       "      <td>493</td>\n",
       "      <td>0.695346</td>\n",
       "    </tr>\n",
       "  </tbody>\n",
       "</table>\n",
       "</div>"
      ],
      "text/plain": [
       "        PassengerId      male_ratio\n",
       "Sex          female male           \n",
       "Pclass2                            \n",
       "0                51   30   0.370370\n",
       "1                93  149   0.615702\n",
       "2               106  171   0.617329\n",
       "3               216  493   0.695346"
      ]
     },
     "execution_count": 119,
     "metadata": {},
     "output_type": "execute_result"
    }
   ],
   "source": [
    "Pclass_gender_df"
   ]
  },
  {
   "cell_type": "markdown",
   "metadata": {
    "papermill": {
     "duration": 0.215181,
     "end_time": "2020-10-20T11:57:11.562906",
     "exception": false,
     "start_time": "2020-10-20T11:57:11.347725",
     "status": "completed"
    },
    "tags": []
   },
   "source": [
    "#### 승선 항구별 차이 확인하기"
   ]
  },
  {
   "cell_type": "code",
   "execution_count": 120,
   "metadata": {
    "execution": {
     "iopub.execute_input": "2020-10-20T11:57:11.991334Z",
     "iopub.status.busy": "2020-10-20T11:57:11.990307Z",
     "iopub.status.idle": "2020-10-20T11:57:11.996373Z",
     "shell.execute_reply": "2020-10-20T11:57:11.995703Z"
    },
    "papermill": {
     "duration": 0.227758,
     "end_time": "2020-10-20T11:57:11.996506",
     "exception": false,
     "start_time": "2020-10-20T11:57:11.768748",
     "status": "completed"
    },
    "tags": []
   },
   "outputs": [],
   "source": [
    "Pclass_emb_df = all_df[[\"Pclass2\",\"Embarked\",\"PassengerId\"]].dropna().groupby([\"Pclass2\",\"Embarked\"]).count().unstack()"
   ]
  },
  {
   "cell_type": "code",
   "execution_count": 121,
   "metadata": {
    "execution": {
     "iopub.execute_input": "2020-10-20T11:57:12.431310Z",
     "iopub.status.busy": "2020-10-20T11:57:12.430106Z",
     "iopub.status.idle": "2020-10-20T11:57:12.432863Z",
     "shell.execute_reply": "2020-10-20T11:57:12.433912Z"
    },
    "papermill": {
     "duration": 0.227381,
     "end_time": "2020-10-20T11:57:12.434065",
     "exception": false,
     "start_time": "2020-10-20T11:57:12.206684",
     "status": "completed"
    },
    "tags": []
   },
   "outputs": [],
   "source": [
    "Pclass_emb_df = Pclass_emb_df.fillna(0)"
   ]
  },
  {
   "cell_type": "code",
   "execution_count": 122,
   "metadata": {
    "execution": {
     "iopub.execute_input": "2020-10-20T11:57:12.862248Z",
     "iopub.status.busy": "2020-10-20T11:57:12.857120Z",
     "iopub.status.idle": "2020-10-20T11:57:13.055941Z",
     "shell.execute_reply": "2020-10-20T11:57:13.055200Z"
    },
    "papermill": {
     "duration": 0.408384,
     "end_time": "2020-10-20T11:57:13.056062",
     "exception": false,
     "start_time": "2020-10-20T11:57:12.647678",
     "status": "completed"
    },
    "tags": []
   },
   "outputs": [
    {
     "data": {
      "text/plain": [
       "<matplotlib.axes._subplots.AxesSubplot at 0x1df0f1a0208>"
      ]
     },
     "execution_count": 122,
     "metadata": {},
     "output_type": "execute_result"
    },
    {
     "data": {
      "image/png": "[encoded data removed]",
      "text/plain": [
       "<Figure size 432x288 with 1 Axes>"
      ]
     },
     "metadata": {},
     "output_type": "display_data"
    }
   ],
   "source": [
    "Pclass_emb_df.plot.bar(stacked=True)"
   ]
  },
  {
   "cell_type": "code",
   "execution_count": 123,
   "metadata": {
    "execution": {
     "iopub.execute_input": "2020-10-20T11:57:13.479065Z",
     "iopub.status.busy": "2020-10-20T11:57:13.478301Z",
     "iopub.status.idle": "2020-10-20T11:57:13.481186Z",
     "shell.execute_reply": "2020-10-20T11:57:13.481744Z"
    },
    "papermill": {
     "duration": 0.223497,
     "end_time": "2020-10-20T11:57:13.481908",
     "exception": false,
     "start_time": "2020-10-20T11:57:13.258411",
     "status": "completed"
    },
    "tags": []
   },
   "outputs": [],
   "source": [
    "Pclass_emb_df_ratio = Pclass_emb_df.copy()\n",
    "Pclass_emb_df_ratio[\"sum\"] = Pclass_emb_df_ratio[\"PassengerId\",\"C\"] + Pclass_emb_df_ratio[\"PassengerId\",\"Q\"] + Pclass_emb_df_ratio[\"PassengerId\",\"S\"]\n",
    "Pclass_emb_df_ratio[\"PassengerId\",\"C\"] = Pclass_emb_df_ratio[\"PassengerId\",\"C\"] / Pclass_emb_df_ratio[\"sum\"]\n",
    "Pclass_emb_df_ratio[\"PassengerId\",\"Q\"] = Pclass_emb_df_ratio[\"PassengerId\",\"Q\"] / Pclass_emb_df_ratio[\"sum\"]\n",
    "Pclass_emb_df_ratio[\"PassengerId\",\"S\"] = Pclass_emb_df_ratio[\"PassengerId\",\"S\"] / Pclass_emb_df_ratio[\"sum\"]\n",
    "Pclass_emb_df_ratio = Pclass_emb_df_ratio.drop([\"sum\"],axis=1)"
   ]
  },
  {
   "cell_type": "code",
   "execution_count": 124,
   "metadata": {
    "execution": {
     "iopub.execute_input": "2020-10-20T11:57:13.896882Z",
     "iopub.status.busy": "2020-10-20T11:57:13.896064Z",
     "iopub.status.idle": "2020-10-20T11:57:13.900289Z",
     "shell.execute_reply": "2020-10-20T11:57:13.900834Z"
    },
    "papermill": {
     "duration": 0.218197,
     "end_time": "2020-10-20T11:57:13.900986",
     "exception": false,
     "start_time": "2020-10-20T11:57:13.682789",
     "status": "completed"
    },
    "tags": []
   },
   "outputs": [
    {
     "data": {
      "text/html": [
       "<div>\n",
       "<style scoped>\n",
       "    .dataframe tbody tr th:only-of-type {\n",
       "        vertical-align: middle;\n",
       "    }\n",
       "\n",
       "    .dataframe tbody tr th {\n",
       "        vertical-align: top;\n",
       "    }\n",
       "\n",
       "    .dataframe thead tr th {\n",
       "        text-align: left;\n",
       "    }\n",
       "\n",
       "    .dataframe thead tr:last-of-type th {\n",
       "        text-align: right;\n",
       "    }\n",
       "</style>\n",
       "<table border=\"1\" class=\"dataframe\">\n",
       "  <thead>\n",
       "    <tr>\n",
       "      <th></th>\n",
       "      <th colspan=\"3\" halign=\"left\">PassengerId</th>\n",
       "    </tr>\n",
       "    <tr>\n",
       "      <th>Embarked</th>\n",
       "      <th>C</th>\n",
       "      <th>Q</th>\n",
       "      <th>S</th>\n",
       "    </tr>\n",
       "    <tr>\n",
       "      <th>Pclass2</th>\n",
       "      <th></th>\n",
       "      <th></th>\n",
       "      <th></th>\n",
       "    </tr>\n",
       "  </thead>\n",
       "  <tbody>\n",
       "    <tr>\n",
       "      <th>0</th>\n",
       "      <td>0.580247</td>\n",
       "      <td>0.000000</td>\n",
       "      <td>0.419753</td>\n",
       "    </tr>\n",
       "    <tr>\n",
       "      <th>1</th>\n",
       "      <td>0.391667</td>\n",
       "      <td>0.012500</td>\n",
       "      <td>0.595833</td>\n",
       "    </tr>\n",
       "    <tr>\n",
       "      <th>2</th>\n",
       "      <td>0.101083</td>\n",
       "      <td>0.025271</td>\n",
       "      <td>0.873646</td>\n",
       "    </tr>\n",
       "    <tr>\n",
       "      <th>3</th>\n",
       "      <td>0.142454</td>\n",
       "      <td>0.159379</td>\n",
       "      <td>0.698166</td>\n",
       "    </tr>\n",
       "  </tbody>\n",
       "</table>\n",
       "</div>"
      ],
      "text/plain": [
       "         PassengerId                    \n",
       "Embarked           C         Q         S\n",
       "Pclass2                                 \n",
       "0           0.580247  0.000000  0.419753\n",
       "1           0.391667  0.012500  0.595833\n",
       "2           0.101083  0.025271  0.873646\n",
       "3           0.142454  0.159379  0.698166"
      ]
     },
     "execution_count": 124,
     "metadata": {},
     "output_type": "execute_result"
    }
   ],
   "source": [
    "Pclass_emb_df_ratio"
   ]
  },
  {
   "cell_type": "code",
   "execution_count": 125,
   "metadata": {
    "execution": {
     "iopub.execute_input": "2020-10-20T11:57:14.316253Z",
     "iopub.status.busy": "2020-10-20T11:57:14.315185Z",
     "iopub.status.idle": "2020-10-20T11:57:14.500615Z",
     "shell.execute_reply": "2020-10-20T11:57:14.499913Z"
    },
    "papermill": {
     "duration": 0.397012,
     "end_time": "2020-10-20T11:57:14.500732",
     "exception": false,
     "start_time": "2020-10-20T11:57:14.103720",
     "status": "completed"
    },
    "tags": []
   },
   "outputs": [
    {
     "data": {
      "text/plain": [
       "<matplotlib.axes._subplots.AxesSubplot at 0x1df0f24b3c8>"
      ]
     },
     "execution_count": 125,
     "metadata": {},
     "output_type": "execute_result"
    },
    {
     "data": {
      "image/png": "[encoded data removed]",
      "text/plain": [
       "<Figure size 432x288 with 1 Axes>"
      ]
     },
     "metadata": {},
     "output_type": "display_data"
    }
   ],
   "source": [
    "Pclass_emb_df_ratio.plot.bar(stacked=True)"
   ]
  },
  {
   "cell_type": "markdown",
   "metadata": {
    "papermill": {
     "duration": 0.206189,
     "end_time": "2020-10-20T11:57:14.911695",
     "exception": false,
     "start_time": "2020-10-20T11:57:14.705506",
     "status": "completed"
    },
    "tags": []
   },
   "source": [
    "## Appendix2. young passenger from Cherbourg"
   ]
  },
  {
   "cell_type": "markdown",
   "metadata": {
    "papermill": {
     "duration": 0.204477,
     "end_time": "2020-10-20T11:57:15.320584",
     "exception": false,
     "start_time": "2020-10-20T11:57:15.116107",
     "status": "completed"
    },
    "tags": []
   },
   "source": [
    "### 특정 클러스터에 주목해 보기"
   ]
  },
  {
   "cell_type": "code",
   "execution_count": 126,
   "metadata": {
    "execution": {
     "iopub.execute_input": "2020-10-20T11:57:15.736414Z",
     "iopub.status.busy": "2020-10-20T11:57:15.735467Z",
     "iopub.status.idle": "2020-10-20T11:57:15.737883Z",
     "shell.execute_reply": "2020-10-20T11:57:15.738569Z"
    },
    "papermill": {
     "duration": 0.215147,
     "end_time": "2020-10-20T11:57:15.738715",
     "exception": false,
     "start_time": "2020-10-20T11:57:15.523568",
     "status": "completed"
    },
    "tags": []
   },
   "outputs": [],
   "source": [
    "C_young10 = all_df[(all_df[\"Embarked\"] == \"C\") & (all_df[\"Age\"] // 10 == 1) & (all_df[\"family_num\"] == 0)]"
   ]
  },
  {
   "cell_type": "code",
   "execution_count": 127,
   "metadata": {
    "execution": {
     "iopub.execute_input": "2020-10-20T11:57:16.159583Z",
     "iopub.status.busy": "2020-10-20T11:57:16.158555Z",
     "iopub.status.idle": "2020-10-20T11:57:16.161224Z",
     "shell.execute_reply": "2020-10-20T11:57:16.161763Z"
    },
    "papermill": {
     "duration": 0.217654,
     "end_time": "2020-10-20T11:57:16.161952",
     "exception": false,
     "start_time": "2020-10-20T11:57:15.944298",
     "status": "completed"
    },
    "tags": []
   },
   "outputs": [],
   "source": [
    "C_young20 = all_df[(all_df[\"Embarked\"] == \"C\") & (all_df[\"Age\"] // 10 == 2) & (all_df[\"family_num\"] == 0)]"
   ]
  },
  {
   "cell_type": "code",
   "execution_count": 128,
   "metadata": {
    "execution": {
     "iopub.execute_input": "2020-10-20T11:57:16.575421Z",
     "iopub.status.busy": "2020-10-20T11:57:16.574546Z",
     "iopub.status.idle": "2020-10-20T11:57:16.578492Z",
     "shell.execute_reply": "2020-10-20T11:57:16.579103Z"
    },
    "papermill": {
     "duration": 0.213898,
     "end_time": "2020-10-20T11:57:16.579303",
     "exception": false,
     "start_time": "2020-10-20T11:57:16.365405",
     "status": "completed"
    },
    "tags": []
   },
   "outputs": [
    {
     "data": {
      "text/plain": [
       "7"
      ]
     },
     "execution_count": 128,
     "metadata": {},
     "output_type": "execute_result"
    }
   ],
   "source": [
    "len(C_young10)"
   ]
  },
  {
   "cell_type": "code",
   "execution_count": 129,
   "metadata": {
    "execution": {
     "iopub.execute_input": "2020-10-20T11:57:16.996654Z",
     "iopub.status.busy": "2020-10-20T11:57:16.995882Z",
     "iopub.status.idle": "2020-10-20T11:57:16.999793Z",
     "shell.execute_reply": "2020-10-20T11:57:17.000402Z"
    },
    "papermill": {
     "duration": 0.215734,
     "end_time": "2020-10-20T11:57:17.000551",
     "exception": false,
     "start_time": "2020-10-20T11:57:16.784817",
     "status": "completed"
    },
    "tags": []
   },
   "outputs": [
    {
     "data": {
      "text/plain": [
       "31"
      ]
     },
     "execution_count": 129,
     "metadata": {},
     "output_type": "execute_result"
    }
   ],
   "source": [
    "len(C_young20)"
   ]
  },
  {
   "cell_type": "markdown",
   "metadata": {
    "papermill": {
     "duration": 0.20595,
     "end_time": "2020-10-20T11:57:17.441583",
     "exception": false,
     "start_time": "2020-10-20T11:57:17.235633",
     "status": "completed"
    },
    "tags": []
   },
   "source": [
    "#### Cherbourg에서 탑승한 젊은 승객의 요금 분포 알아보기"
   ]
  },
  {
   "cell_type": "code",
   "execution_count": 130,
   "metadata": {
    "execution": {
     "iopub.execute_input": "2020-10-20T11:57:17.876404Z",
     "iopub.status.busy": "2020-10-20T11:57:17.866737Z",
     "iopub.status.idle": "2020-10-20T11:57:18.066689Z",
     "shell.execute_reply": "2020-10-20T11:57:18.066114Z"
    },
    "papermill": {
     "duration": 0.419954,
     "end_time": "2020-10-20T11:57:18.066832",
     "exception": false,
     "start_time": "2020-10-20T11:57:17.646878",
     "status": "completed"
    },
    "tags": []
   },
   "outputs": [
    {
     "data": {
      "text/plain": [
       "<matplotlib.axes._subplots.AxesSubplot at 0x1df0d55b448>"
      ]
     },
     "execution_count": 130,
     "metadata": {},
     "output_type": "execute_result"
    },
    {
     "data": {
      "image/png": "[encoded data removed]",
      "text/plain": [
       "<Figure size 432x288 with 1 Axes>"
      ]
     },
     "metadata": {},
     "output_type": "display_data"
    }
   ],
   "source": [
    "ax = all_df.plot.scatter(x=\"Age\", y=\"Fare\", alpha=0.5)\n",
    "C_young10.plot.scatter(x=\"Age\", y=\"Fare\", color=\"red\",alpha=0.5, ax=ax)"
   ]
  },
  {
   "cell_type": "markdown",
   "metadata": {
    "papermill": {
     "duration": 0.207697,
     "end_time": "2020-10-20T11:57:18.484440",
     "exception": false,
     "start_time": "2020-10-20T11:57:18.276743",
     "status": "completed"
    },
    "tags": []
   },
   "source": [
    "#### 홀로 승선한 모든 승객 중 Cherbourg에서 승선한 승객의 분포"
   ]
  },
  {
   "cell_type": "code",
   "execution_count": 131,
   "metadata": {
    "execution": {
     "iopub.execute_input": "2020-10-20T11:57:18.909456Z",
     "iopub.status.busy": "2020-10-20T11:57:18.908309Z",
     "iopub.status.idle": "2020-10-20T11:57:19.104397Z",
     "shell.execute_reply": "2020-10-20T11:57:19.103642Z"
    },
    "papermill": {
     "duration": 0.412111,
     "end_time": "2020-10-20T11:57:19.104521",
     "exception": false,
     "start_time": "2020-10-20T11:57:18.692410",
     "status": "completed"
    },
    "tags": []
   },
   "outputs": [
    {
     "data": {
      "text/plain": [
       "<matplotlib.axes._subplots.AxesSubplot at 0x1df0f352708>"
      ]
     },
     "execution_count": 131,
     "metadata": {},
     "output_type": "execute_result"
    },
    {
     "data": {
      "image/png": "[encoded data removed]",
      "text/plain": [
       "<Figure size 432x288 with 1 Axes>"
      ]
     },
     "metadata": {},
     "output_type": "display_data"
    }
   ],
   "source": [
    "ax = all_df[all_df[\"family_num\"] == 0].plot.scatter(x=\"Age\", y=\"Fare\", alpha=0.5)\n",
    "C_young10.plot.scatter(x=\"Age\", y=\"Fare\", color=\"red\",alpha=0.5, ax=ax)"
   ]
  },
  {
   "cell_type": "markdown",
   "metadata": {
    "papermill": {
     "duration": 0.207318,
     "end_time": "2020-10-20T11:57:19.521501",
     "exception": false,
     "start_time": "2020-10-20T11:57:19.314183",
     "status": "completed"
    },
    "tags": []
   },
   "source": [
    "#### Cherbourg에서 홀로 승선한 20대 승객 분포"
   ]
  },
  {
   "cell_type": "code",
   "execution_count": 132,
   "metadata": {
    "execution": {
     "iopub.execute_input": "2020-10-20T11:57:19.948711Z",
     "iopub.status.busy": "2020-10-20T11:57:19.947705Z",
     "iopub.status.idle": "2020-10-20T11:57:20.142180Z",
     "shell.execute_reply": "2020-10-20T11:57:20.142693Z"
    },
    "papermill": {
     "duration": 0.413188,
     "end_time": "2020-10-20T11:57:20.142865",
     "exception": false,
     "start_time": "2020-10-20T11:57:19.729677",
     "status": "completed"
    },
    "tags": []
   },
   "outputs": [
    {
     "data": {
      "text/plain": [
       "<matplotlib.axes._subplots.AxesSubplot at 0x1df0f3c4b88>"
      ]
     },
     "execution_count": 132,
     "metadata": {},
     "output_type": "execute_result"
    },
    {
     "data": {
      "image/png": "[encoded data removed]",
      "text/plain": [
       "<Figure size 432x288 with 1 Axes>"
      ]
     },
     "metadata": {},
     "output_type": "display_data"
    }
   ],
   "source": [
    "ax = all_df.plot.scatter(x=\"Age\", y=\"Fare\", alpha=0.5)\n",
    "C_young20.plot.scatter(x=\"Age\", y=\"Fare\", color=\"red\",alpha=0.5, ax=ax)"
   ]
  },
  {
   "cell_type": "code",
   "execution_count": 133,
   "metadata": {
    "execution": {
     "iopub.execute_input": "2020-10-20T11:57:20.571567Z",
     "iopub.status.busy": "2020-10-20T11:57:20.570861Z",
     "iopub.status.idle": "2020-10-20T11:57:20.766218Z",
     "shell.execute_reply": "2020-10-20T11:57:20.765636Z"
    },
    "papermill": {
     "duration": 0.412797,
     "end_time": "2020-10-20T11:57:20.766341",
     "exception": false,
     "start_time": "2020-10-20T11:57:20.353544",
     "status": "completed"
    },
    "tags": []
   },
   "outputs": [
    {
     "data": {
      "text/plain": [
       "<matplotlib.axes._subplots.AxesSubplot at 0x1df0f443808>"
      ]
     },
     "execution_count": 133,
     "metadata": {},
     "output_type": "execute_result"
    },
    {
     "data": {
      "image/png": "[encoded data removed]",
      "text/plain": [
       "<Figure size 432x288 with 1 Axes>"
      ]
     },
     "metadata": {},
     "output_type": "display_data"
    }
   ],
   "source": [
    "ax = all_df[all_df[\"family_num\"] == 0].plot.scatter(x=\"Age\", y=\"Fare\", alpha=0.5)\n",
    "C_young20.plot.scatter(x=\"Age\", y=\"Fare\", color=\"red\",alpha=0.5, ax=ax)"
   ]
  },
  {
   "cell_type": "markdown",
   "metadata": {
    "papermill": {
     "duration": 0.212619,
     "end_time": "2020-10-20T11:57:21.191439",
     "exception": false,
     "start_time": "2020-10-20T11:57:20.978820",
     "status": "completed"
    },
    "tags": []
   },
   "source": [
    "#### 홀로 승선한 10대 승객의 항구별 평균 요금 비교하기"
   ]
  },
  {
   "cell_type": "code",
   "execution_count": 134,
   "metadata": {
    "execution": {
     "iopub.execute_input": "2020-10-20T11:57:21.625098Z",
     "iopub.status.busy": "2020-10-20T11:57:21.622992Z",
     "iopub.status.idle": "2020-10-20T11:57:21.820382Z",
     "shell.execute_reply": "2020-10-20T11:57:21.819568Z"
    },
    "papermill": {
     "duration": 0.418321,
     "end_time": "2020-10-20T11:57:21.820512",
     "exception": false,
     "start_time": "2020-10-20T11:57:21.402191",
     "status": "completed"
    },
    "tags": []
   },
   "outputs": [
    {
     "data": {
      "text/plain": [
       "<matplotlib.axes._subplots.AxesSubplot at 0x1df0f4cb808>"
      ]
     },
     "execution_count": 134,
     "metadata": {},
     "output_type": "execute_result"
    },
    {
     "data": {
      "image/png": "[encoded data removed]",
      "text/plain": [
       "<Figure size 432x288 with 1 Axes>"
      ]
     },
     "metadata": {},
     "output_type": "display_data"
    }
   ],
   "source": [
    "C_all = all_df[(all_df[\"Embarked\"] == \"C\")]\n",
    "ax = all_df.plot.scatter(x=\"Age\", y=\"Fare\", alpha=0.5)\n",
    "C_all.plot.scatter(x=\"Age\", y=\"Fare\", color=\"red\",alpha=0.5, ax=ax)"
   ]
  },
  {
   "cell_type": "markdown",
   "metadata": {
    "papermill": {
     "duration": 0.213789,
     "end_time": "2020-10-20T11:57:22.249151",
     "exception": false,
     "start_time": "2020-10-20T11:57:22.035362",
     "status": "completed"
    },
    "tags": []
   },
   "source": [
    "#### 각 항구의 10대이면서 1인 승객의 평균 요금 비교하기"
   ]
  },
  {
   "cell_type": "code",
   "execution_count": 135,
   "metadata": {
    "execution": {
     "iopub.execute_input": "2020-10-20T11:57:22.696531Z",
     "iopub.status.busy": "2020-10-20T11:57:22.695698Z",
     "iopub.status.idle": "2020-10-20T11:57:22.700695Z",
     "shell.execute_reply": "2020-10-20T11:57:22.700100Z"
    },
    "papermill": {
     "duration": 0.238288,
     "end_time": "2020-10-20T11:57:22.700836",
     "exception": false,
     "start_time": "2020-10-20T11:57:22.462548",
     "status": "completed"
    },
    "tags": []
   },
   "outputs": [
    {
     "data": {
      "text/html": [
       "<div>\n",
       "<style scoped>\n",
       "    .dataframe tbody tr th:only-of-type {\n",
       "        vertical-align: middle;\n",
       "    }\n",
       "\n",
       "    .dataframe tbody tr th {\n",
       "        vertical-align: top;\n",
       "    }\n",
       "\n",
       "    .dataframe thead th {\n",
       "        text-align: right;\n",
       "    }\n",
       "</style>\n",
       "<table border=\"1\" class=\"dataframe\">\n",
       "  <thead>\n",
       "    <tr style=\"text-align: right;\">\n",
       "      <th></th>\n",
       "      <th>Fare</th>\n",
       "    </tr>\n",
       "    <tr>\n",
       "      <th>Embarked</th>\n",
       "      <th></th>\n",
       "    </tr>\n",
       "  </thead>\n",
       "  <tbody>\n",
       "    <tr>\n",
       "      <th>C</th>\n",
       "      <td>10.594057</td>\n",
       "    </tr>\n",
       "    <tr>\n",
       "      <th>Q</th>\n",
       "      <td>7.531944</td>\n",
       "    </tr>\n",
       "    <tr>\n",
       "      <th>S</th>\n",
       "      <td>16.218712</td>\n",
       "    </tr>\n",
       "  </tbody>\n",
       "</table>\n",
       "</div>"
      ],
      "text/plain": [
       "               Fare\n",
       "Embarked           \n",
       "C         10.594057\n",
       "Q          7.531944\n",
       "S         16.218712"
      ]
     },
     "execution_count": 135,
     "metadata": {},
     "output_type": "execute_result"
    }
   ],
   "source": [
    "all_df[(all_df[\"Age\"] // 10 == 1) & (all_df[\"family_num\"]== 0)][[\"Embarked\",\"Fare\"]].groupby(\"Embarked\").mean()"
   ]
  },
  {
   "cell_type": "code",
   "execution_count": null,
   "metadata": {},
   "outputs": [],
   "source": []
  }
 ],
 "metadata": {
  "kernelspec": {
   "display_name": "data_science",
   "language": "python",
   "name": "data_science"
  },
  "language_info": {
   "codemirror_mode": {
    "name": "ipython",
    "version": 3
   },
   "file_extension": ".py",
   "mimetype": "text/x-python",
   "name": "python",
   "nbconvert_exporter": "python",
   "pygments_lexer": "ipython3",
   "version": "3.10.0"
  },
  "papermill": {
   "duration": 81.779375,
   "end_time": "2020-10-20T11:57:23.025556",
   "environment_variables": {},
   "exception": null,
   "input_path": "__notebook__.ipynb",
   "output_path": "__notebook__.ipynb",
   "parameters": {},
   "start_time": "2020-10-20T11:56:01.246181",
   "version": "2.1.0"
  }
 },
 "nbformat": 4,
 "nbformat_minor": 4
}
