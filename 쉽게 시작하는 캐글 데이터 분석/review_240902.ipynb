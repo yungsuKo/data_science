{
 "cells": [
  {
   "cell_type": "code",
   "execution_count": null,
   "metadata": {},
   "outputs": [],
   "source": [
    "# train data와 test데의 데이터 형을 동일하게 하기 위해서 묶어놓고 전처리를 진행하는 것으로 보임.\n",
    "# 1. 필요한 라이브러리 임포트 pandas, numpy\n",
    "# 2. 데이터 불러오기 / eda / 데이터 타입 확인하기\n",
    "# 3. 시각화에 필요한 라이브러리 임포트 matplotlib, seaborn\n",
    "# 4. 전처리할 데이터 Fare, Name, Parch, SibSp\n",
    "    # train, test 데이터를 합해줌. > sort=False로 행순서를 바뀌지 않게함."
   ]
  },
  {
   "cell_type": "code",
   "execution_count": 1,
   "metadata": {},
   "outputs": [],
   "source": [
    "import pandas as pd\n",
    "import numpy as np"
   ]
  },
  {
   "cell_type": "code",
   "execution_count": null,
   "metadata": {},
   "outputs": [],
   "source": [
    "train_df = pd.read_csv('./data_set/train.csv')\n",
    "test_df = pd.read_csv('./data_set/test.csv')"
   ]
  }
 ],
 "metadata": {
  "kernelspec": {
   "display_name": "data_science",
   "language": "python",
   "name": "data_science"
  },
  "language_info": {
   "codemirror_mode": {
    "name": "ipython",
    "version": 3
   },
   "file_extension": ".py",
   "mimetype": "text/x-python",
   "name": "python",
   "nbconvert_exporter": "python",
   "pygments_lexer": "ipython3",
   "version": "3.10.0"
  }
 },
 "nbformat": 4,
 "nbformat_minor": 2
}
